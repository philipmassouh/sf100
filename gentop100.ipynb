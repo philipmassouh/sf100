{
 "cells": [
  {
   "cell_type": "code",
   "execution_count": 5,
   "metadata": {},
   "outputs": [],
   "source": [
    "import requests\n",
    "r = requests.get(\"https://api.stackexchange.com/2.2/search?order=desc&sort=votes&tagged=pandas&site=stackoverflow&pagesize=100&filter=withbody&page=1\")"
   ]
  },
  {
   "cell_type": "code",
   "execution_count": 21,
   "metadata": {},
   "outputs": [],
   "source": [
    "import pickle\n",
    "with open('questions.pickle', 'wb') as handle:\n",
    "    pickle.dump(r.json(), handle, protocol=pickle.HIGHEST_PROTOCOL)\n",
    "# with open('questions.pickle', 'rb') as handle:\n",
    "#     b = pickle.load(handle)\n",
    "# print(r.json()==b)"
   ]
  },
  {
   "cell_type": "code",
   "execution_count": 25,
   "metadata": {},
   "outputs": [],
   "source": [
    "import nbformat as nbf\n",
    "from datetime import date"
   ]
  },
  {
   "cell_type": "code",
   "execution_count": 30,
   "metadata": {},
   "outputs": [],
   "source": [
    "# this cell will may wipe the notebook\n",
    "nb = nbf.v4.new_notebook()\n",
    "nb['cells'] = []\n",
    "for i, question in enumerate(r.json()['items']):\n",
    "    tags = question['tags']\n",
    "    title = question['title'].replace('\"', '').replace(\"'\", '')\n",
    "    body = question['body'].replace('\\n', \"\").replace('\"', '').replace(\"'\", '')\n",
    "    link = question['link']\n",
    "\n",
    "    text = f\"{body}\"\n",
    "    code = f'''\\\n",
    "class Post:\n",
    "    # Please do not modify these unless it is very intentional\n",
    "    __TAGS = {tags}\n",
    "    __TITLE = \"{title}\"\n",
    "    __QUESTION = \"{body}\"\n",
    "    __ORIGINAL_LINK = \"{link}\"\n",
    "\n",
    "    def answer():\n",
    "        raise NotImplementedError\n",
    "        \n",
    "    # optional markdown solution for easier reading\n",
    "    MARKDOWN_SOLUTION = \"\"\n",
    "if __name__ == \"__main__\":\n",
    "    Post.answer()'''\n",
    "\n",
    "    nb['cells'].append(nbf.v4.new_markdown_cell(f'### {i+1}: {title}\\n---'))\n",
    "    nb['cells'].append(nbf.v4.new_markdown_cell(text))\n",
    "    nb['cells'].append(nbf.v4.new_code_cell(code))\n",
    "nbf.write(nb, f'top100_{hash(date.today())}.ipynb')"
   ]
  },
  {
   "cell_type": "code",
   "execution_count": null,
   "metadata": {},
   "outputs": [],
   "source": []
  }
 ],
 "metadata": {
  "kernelspec": {
   "display_name": "Python 3.10.5 ('.sfvenv': venv)",
   "language": "python",
   "name": "python3"
  },
  "language_info": {
   "codemirror_mode": {
    "name": "ipython",
    "version": 3
   },
   "file_extension": ".py",
   "mimetype": "text/x-python",
   "name": "python",
   "nbconvert_exporter": "python",
   "pygments_lexer": "ipython3",
   "version": "3.10.5"
  },
  "orig_nbformat": 4,
  "vscode": {
   "interpreter": {
    "hash": "886a21a9a07c9d49ae517f8872040972a069fef5b87c5358d45fb61b1a39f24a"
   }
  }
 },
 "nbformat": 4,
 "nbformat_minor": 2
}
