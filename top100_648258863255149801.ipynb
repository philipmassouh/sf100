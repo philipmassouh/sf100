{
 "cells": [
  {
   "cell_type": "code",
   "execution_count": 1,
   "id": "0ea83cf4",
   "metadata": {},
   "outputs": [],
   "source": [
    "import static_frame as sf"
   ]
  },
  {
   "cell_type": "markdown",
   "id": "24007f83",
   "metadata": {},
   "source": [
    "### 1: How to iterate over rows in a DataFrame in Pandas\n",
    "---"
   ]
  },
  {
   "cell_type": "markdown",
   "id": "a014cb41",
   "metadata": {},
   "source": [
    "<p>I have a pandas dataframe, <code>df</code>:</p><br><pre><code>   c1   c2<br>0  10  100<br>1  11  110<br>2  12  120<br></code></pre><br><p>How do I iterate over the rows of this dataframe? For every row, I want to be able to access its elements (values in cells) by the name of the columns. For example:</p><br><pre><code>for row in df.rows:<br>   print(row[c1], row[c2])<br></code></pre><br><hr /><br><p>I found a <a href=https://stackoverflow.com/questions/7837722/what-is-the-most-efficient-way-to-loop-through-dataframes-with-pandas>similar question</a> which suggests using either of these:</p><br><pre><code>for date, row in df.T.iteritems():<br></code></pre><br><br><pre><code>for row in df.iterrows():<br></code></pre><br><p>But I do not understand what the <code>row</code> object is and how I can work with it.</p><br>"
   ]
  },
  {
   "cell_type": "code",
   "execution_count": null,
   "id": "d3ae6e3d",
   "metadata": {},
   "outputs": [],
   "source": [
    "class Post:\n",
    "    # Please do not modify these unless it is very intentional\n",
    "    __TAGS = ['python', 'pandas', 'dataframe']\n",
    "    __TITLE = \"How to iterate over rows in a DataFrame in Pandas\"\n",
    "    __QUESTION = \"<p>I have a pandas dataframe, <code>df</code>:</p><br><pre><code>   c1   c2<br>0  10  100<br>1  11  110<br>2  12  120<br></code></pre><br><p>How do I iterate over the rows of this dataframe? For every row, I want to be able to access its elements (values in cells) by the name of the columns. For example:</p><br><pre><code>for row in df.rows:<br>   print(row[c1], row[c2])<br></code></pre><br><hr /><br><p>I found a <a href=https://stackoverflow.com/questions/7837722/what-is-the-most-efficient-way-to-loop-through-dataframes-with-pandas>similar question</a> which suggests using either of these:</p><br><pre><code>for date, row in df.T.iteritems():<br></code></pre><br><br><pre><code>for row in df.iterrows():<br></code></pre><br><p>But I do not understand what the <code>row</code> object is and how I can work with it.</p><br>\"\n",
    "    __ORIGINAL_LINK = \"https://stackoverflow.com/questions/16476924/how-to-iterate-over-rows-in-a-dataframe-in-pandas\"\n",
    "\n",
    "    def answer():\n",
    "        sf.Frame.from_dict({\n",
    "            c1=(10,11,12),\n",
    "            c2=(100,110,120)\n",
    "        })\n",
    "    # optional markdown solution for easier reading\n",
    "    MARKDOWN_SOLUTION = \"\"\n",
    "if __name__ == \"__main__\":\n",
    "    Post.answer()"
   ]
  },
  {
   "cell_type": "markdown",
   "id": "ad815b5e",
   "metadata": {},
   "source": [
    "### 2: How do I select rows from a DataFrame based on column values?\n",
    "---"
   ]
  },
  {
   "cell_type": "markdown",
   "id": "e565d5cc",
   "metadata": {},
   "source": [
    "<p>How can I select rows from a <code>DataFrame</code> based on values in some column in Pandas?</p><br><p>In SQL, I would use:</p><br><pre class=lang-sql prettyprint-override><code>SELECT *<br>FROM table<br>WHERE column_name = some_value<br></code></pre><br>"
   ]
  },
  {
   "cell_type": "code",
   "execution_count": null,
   "id": "441f4be5",
   "metadata": {},
   "outputs": [],
   "source": [
    "class Post:\n",
    "    # Please do not modify these unless it is very intentional\n",
    "    __TAGS = ['python', 'pandas', 'dataframe']\n",
    "    __TITLE = \"How do I select rows from a DataFrame based on column values?\"\n",
    "    __QUESTION = \"<p>How can I select rows from a <code>DataFrame</code> based on values in some column in Pandas?</p><br><p>In SQL, I would use:</p><br><pre class=lang-sql prettyprint-override><code>SELECT *<br>FROM table<br>WHERE column_name = some_value<br></code></pre><br>\"\n",
    "    __ORIGINAL_LINK = \"https://stackoverflow.com/questions/17071871/how-do-i-select-rows-from-a-dataframe-based-on-column-values\"\n",
    "\n",
    "    def answer():\n",
    "        raise NotImplementedError\n",
    "        \n",
    "    # optional markdown solution for easier reading\n",
    "    MARKDOWN_SOLUTION = \"\"\n",
    "if __name__ == \"__main__\":\n",
    "    Post.answer()"
   ]
  },
  {
   "cell_type": "markdown",
   "id": "f507697b",
   "metadata": {},
   "source": [
    "### 3: Renaming column names in Pandas\n",
    "---"
   ]
  },
  {
   "cell_type": "markdown",
   "id": "3619b067",
   "metadata": {},
   "source": [
    "<p>How do I change the column labels of a pandas DataFrame from:</p><br><pre><code>[$a, $b, $c, $d, $e]<br></code></pre><br><p>to</p><br><pre><code>[a, b, c, d, e].<br></code></pre><br>"
   ]
  },
  {
   "cell_type": "code",
   "execution_count": null,
   "id": "9c5fa1ef",
   "metadata": {},
   "outputs": [],
   "source": [
    "class Post:\n",
    "    # Please do not modify these unless it is very intentional\n",
    "    __TAGS = ['python', 'pandas', 'replace', 'dataframe', 'rename']\n",
    "    __TITLE = \"Renaming column names in Pandas\"\n",
    "    __QUESTION = \"<p>How do I change the column labels of a pandas DataFrame from:</p><br><pre><code>[$a, $b, $c, $d, $e]<br></code></pre><br><p>to</p><br><pre><code>[a, b, c, d, e].<br></code></pre><br>\"\n",
    "    __ORIGINAL_LINK = \"https://stackoverflow.com/questions/11346283/renaming-column-names-in-pandas\"\n",
    "\n",
    "    def answer():\n",
    "        raise NotImplementedError\n",
    "        \n",
    "    # optional markdown solution for easier reading\n",
    "    MARKDOWN_SOLUTION = \"\"\n",
    "if __name__ == \"__main__\":\n",
    "    Post.answer()"
   ]
  },
  {
   "cell_type": "markdown",
   "id": "0b8a08d5",
   "metadata": {},
   "source": [
    "### 4: Delete a column from a Pandas DataFrame\n",
    "---"
   ]
  },
  {
   "cell_type": "markdown",
   "id": "10f5e9a0",
   "metadata": {},
   "source": [
    "<p>To delete a column in a DataFrame, I can successfully use:</p><br><pre><code>del df[column_name]<br></code></pre><br><p>But why cant I use the following?</p><br><pre><code>del df.column_name<br></code></pre><br><p>Since it is possible to access the column/Series as <code>df.column_name</code>, I expected this to work.</p><br>"
   ]
  },
  {
   "cell_type": "code",
   "execution_count": null,
   "id": "8e953e3c",
   "metadata": {},
   "outputs": [],
   "source": [
    "class Post:\n",
    "    # Please do not modify these unless it is very intentional\n",
    "    __TAGS = ['python', 'pandas', 'dataframe']\n",
    "    __TITLE = \"Delete a column from a Pandas DataFrame\"\n",
    "    __QUESTION = \"<p>To delete a column in a DataFrame, I can successfully use:</p><br><pre><code>del df[column_name]<br></code></pre><br><p>But why cant I use the following?</p><br><pre><code>del df.column_name<br></code></pre><br><p>Since it is possible to access the column/Series as <code>df.column_name</code>, I expected this to work.</p><br>\"\n",
    "    __ORIGINAL_LINK = \"https://stackoverflow.com/questions/13411544/delete-a-column-from-a-pandas-dataframe\"\n",
    "\n",
    "    def answer():\n",
    "        raise NotImplementedError\n",
    "        \n",
    "    # optional markdown solution for easier reading\n",
    "    MARKDOWN_SOLUTION = \"\"\n",
    "if __name__ == \"__main__\":\n",
    "    Post.answer()"
   ]
  },
  {
   "cell_type": "markdown",
   "id": "f9bcbc36",
   "metadata": {},
   "source": [
    "### 5: How do I get the row count of a Pandas DataFrame?\n",
    "---"
   ]
  },
  {
   "cell_type": "markdown",
   "id": "cffdee12",
   "metadata": {},
   "source": [
    "<p>How do I get the number of rows of a pandas dataframe <code>df</code>?</p><br>"
   ]
  },
  {
   "cell_type": "code",
   "execution_count": null,
   "id": "91c8720b",
   "metadata": {},
   "outputs": [],
   "source": [
    "class Post:\n",
    "    # Please do not modify these unless it is very intentional\n",
    "    __TAGS = ['python', 'pandas', 'dataframe']\n",
    "    __TITLE = \"How do I get the row count of a Pandas DataFrame?\"\n",
    "    __QUESTION = \"<p>How do I get the number of rows of a pandas dataframe <code>df</code>?</p><br>\"\n",
    "    __ORIGINAL_LINK = \"https://stackoverflow.com/questions/15943769/how-do-i-get-the-row-count-of-a-pandas-dataframe\"\n",
    "\n",
    "    def answer():\n",
    "        raise NotImplementedError\n",
    "        \n",
    "    # optional markdown solution for easier reading\n",
    "    MARKDOWN_SOLUTION = \"\"\n",
    "if __name__ == \"__main__\":\n",
    "    Post.answer()"
   ]
  },
  {
   "cell_type": "markdown",
   "id": "ce3607f2",
   "metadata": {},
   "source": [
    "### 6: Selecting multiple columns in a Pandas dataframe\n",
    "---"
   ]
  },
  {
   "cell_type": "markdown",
   "id": "ff0540aa",
   "metadata": {},
   "source": [
    "<p>How do I select columns <code>a</code> and <code>b</code> from <code>df</code>, and save them into a new dataframe <code>df1</code>?</p><br><pre class=lang-none prettyprint-override><code>index  a   b   c<br>1      2   3   4<br>2      3   4   5<br></code></pre><br><p>Unsuccessful attempt:</p><br><pre><code>df1 = df[a:b]<br>df1 = df.ix[:, a:b]<br></code></pre><br>"
   ]
  },
  {
   "cell_type": "code",
   "execution_count": null,
   "id": "c813e0b1",
   "metadata": {},
   "outputs": [],
   "source": [
    "class Post:\n",
    "    # Please do not modify these unless it is very intentional\n",
    "    __TAGS = ['python', 'pandas', 'dataframe', 'select']\n",
    "    __TITLE = \"Selecting multiple columns in a Pandas dataframe\"\n",
    "    __QUESTION = \"<p>How do I select columns <code>a</code> and <code>b</code> from <code>df</code>, and save them into a new dataframe <code>df1</code>?</p><br><pre class=lang-none prettyprint-override><code>index  a   b   c<br>1      2   3   4<br>2      3   4   5<br></code></pre><br><p>Unsuccessful attempt:</p><br><pre><code>df1 = df[a:b]<br>df1 = df.ix[:, a:b]<br></code></pre><br>\"\n",
    "    __ORIGINAL_LINK = \"https://stackoverflow.com/questions/11285613/selecting-multiple-columns-in-a-pandas-dataframe\"\n",
    "\n",
    "    def answer():\n",
    "        raise NotImplementedError\n",
    "        \n",
    "    # optional markdown solution for easier reading\n",
    "    MARKDOWN_SOLUTION = \"\"\n",
    "if __name__ == \"__main__\":\n",
    "    Post.answer()"
   ]
  },
  {
   "cell_type": "markdown",
   "id": "60941c2a",
   "metadata": {},
   "source": [
    "### 7: How to change the order of DataFrame columns?\n",
    "---"
   ]
  },
  {
   "cell_type": "markdown",
   "id": "10f1bc4b",
   "metadata": {},
   "source": [
    "<p>I have the following <code>DataFrame</code> (<code>df</code>):</p><br><br><pre><code>import numpy as np<br>import pandas as pd<br><br>df = pd.DataFrame(np.random.rand(10, 5))<br></code></pre><br><br><p>I add more column(s) by assignment:</p><br><br><pre><code>df[mean] = df.mean(1)<br></code></pre><br><br><p>How can I move the column <code>mean</code> to the front, i.e. set it as first column leaving the order of the other columns untouched?</p><br>"
   ]
  },
  {
   "cell_type": "code",
   "execution_count": null,
   "id": "18dc070c",
   "metadata": {},
   "outputs": [],
   "source": [
    "class Post:\n",
    "    # Please do not modify these unless it is very intentional\n",
    "    __TAGS = ['python', 'pandas', 'dataframe']\n",
    "    __TITLE = \"How to change the order of DataFrame columns?\"\n",
    "    __QUESTION = \"<p>I have the following <code>DataFrame</code> (<code>df</code>):</p><br><br><pre><code>import numpy as np<br>import pandas as pd<br><br>df = pd.DataFrame(np.random.rand(10, 5))<br></code></pre><br><br><p>I add more column(s) by assignment:</p><br><br><pre><code>df[mean] = df.mean(1)<br></code></pre><br><br><p>How can I move the column <code>mean</code> to the front, i.e. set it as first column leaving the order of the other columns untouched?</p><br>\"\n",
    "    __ORIGINAL_LINK = \"https://stackoverflow.com/questions/13148429/how-to-change-the-order-of-dataframe-columns\"\n",
    "\n",
    "    def answer():\n",
    "        raise NotImplementedError\n",
    "        \n",
    "    # optional markdown solution for easier reading\n",
    "    MARKDOWN_SOLUTION = \"\"\n",
    "if __name__ == \"__main__\":\n",
    "    Post.answer()"
   ]
  },
  {
   "cell_type": "markdown",
   "id": "8f31c84a",
   "metadata": {},
   "source": [
    "### 8: Change column type in pandas\n",
    "---"
   ]
  },
  {
   "cell_type": "markdown",
   "id": "930e1eb8",
   "metadata": {},
   "source": [
    "<p>I want to convert a table, represented as a list of lists, into a pandas DataFrame. As an extremely simplified example:</p><br><pre><code>a = [[a, 1.2, 4.2], [b, 70, 0.03], [x, 5, 0]]<br>df = pd.DataFrame(a)<br></code></pre><br><p>What is the best way to convert the columns to the appropriate types, in this case columns 2 and 3 into floats? Is there a way to specify the types while converting to DataFrame? Or is it better to create the DataFrame first and then loop through the columns to change the type for each column? Ideally I would like to do this in a dynamic way because there can be hundreds of columns and I dont want to specify exactly which columns are of which type. All I can guarantee is that each columns contains values of the same type.</p><br>"
   ]
  },
  {
   "cell_type": "code",
   "execution_count": null,
   "id": "628c3ec9",
   "metadata": {},
   "outputs": [],
   "source": [
    "class Post:\n",
    "    # Please do not modify these unless it is very intentional\n",
    "    __TAGS = ['python', 'pandas', 'dataframe', 'types', 'casting']\n",
    "    __TITLE = \"Change column type in pandas\"\n",
    "    __QUESTION = \"<p>I want to convert a table, represented as a list of lists, into a pandas DataFrame. As an extremely simplified example:</p><br><pre><code>a = [[a, 1.2, 4.2], [b, 70, 0.03], [x, 5, 0]]<br>df = pd.DataFrame(a)<br></code></pre><br><p>What is the best way to convert the columns to the appropriate types, in this case columns 2 and 3 into floats? Is there a way to specify the types while converting to DataFrame? Or is it better to create the DataFrame first and then loop through the columns to change the type for each column? Ideally I would like to do this in a dynamic way because there can be hundreds of columns and I dont want to specify exactly which columns are of which type. All I can guarantee is that each columns contains values of the same type.</p><br>\"\n",
    "    __ORIGINAL_LINK = \"https://stackoverflow.com/questions/15891038/change-column-type-in-pandas\"\n",
    "\n",
    "    def answer():\n",
    "        raise NotImplementedError\n",
    "        \n",
    "    # optional markdown solution for easier reading\n",
    "    MARKDOWN_SOLUTION = \"\"\n",
    "if __name__ == \"__main__\":\n",
    "    Post.answer()"
   ]
  },
  {
   "cell_type": "markdown",
   "id": "194c00dc",
   "metadata": {},
   "source": [
    "### 9: Get a list from Pandas DataFrame column headers\n",
    "---"
   ]
  },
  {
   "cell_type": "markdown",
   "id": "4ec19998",
   "metadata": {},
   "source": [
    "<p>I want to get a list of the column headers from a Pandas DataFrame.  The DataFrame will come from user input, so I wont know how many columns there will be or what they will be called.</p><br><p>For example, if Im given a DataFrame like this:</p><br><pre><code>&gt;&gt;&gt; my_dataframe<br>    y  gdp  cap<br>0   1    2    5<br>1   2    3    9<br>2   8    7    2<br>3   3    4    7<br>4   6    7    7<br>5   4    8    3<br>6   8    2    8<br>7   9    9   10<br>8   6    6    4<br>9  10   10    7<br></code></pre><br><p>I would get a list like this:</p><br><pre><code>&gt;&gt;&gt; header_list<br>[y, gdp, cap]<br></code></pre><br>"
   ]
  },
  {
   "cell_type": "code",
   "execution_count": null,
   "id": "95dff0bc",
   "metadata": {},
   "outputs": [],
   "source": [
    "class Post:\n",
    "    # Please do not modify these unless it is very intentional\n",
    "    __TAGS = ['python', 'pandas', 'dataframe']\n",
    "    __TITLE = \"Get a list from Pandas DataFrame column headers\"\n",
    "    __QUESTION = \"<p>I want to get a list of the column headers from a Pandas DataFrame.  The DataFrame will come from user input, so I wont know how many columns there will be or what they will be called.</p><br><p>For example, if Im given a DataFrame like this:</p><br><pre><code>&gt;&gt;&gt; my_dataframe<br>    y  gdp  cap<br>0   1    2    5<br>1   2    3    9<br>2   8    7    2<br>3   3    4    7<br>4   6    7    7<br>5   4    8    3<br>6   8    2    8<br>7   9    9   10<br>8   6    6    4<br>9  10   10    7<br></code></pre><br><p>I would get a list like this:</p><br><pre><code>&gt;&gt;&gt; header_list<br>[y, gdp, cap]<br></code></pre><br>\"\n",
    "    __ORIGINAL_LINK = \"https://stackoverflow.com/questions/19482970/get-a-list-from-pandas-dataframe-column-headers\"\n",
    "\n",
    "    def answer():\n",
    "        raise NotImplementedError\n",
    "        \n",
    "    # optional markdown solution for easier reading\n",
    "    MARKDOWN_SOLUTION = \"\"\n",
    "if __name__ == \"__main__\":\n",
    "    Post.answer()"
   ]
  },
  {
   "cell_type": "markdown",
   "id": "8502ddd8",
   "metadata": {},
   "source": [
    "### 10: Create a Pandas Dataframe by appending one row at a time\n",
    "---"
   ]
  },
  {
   "cell_type": "markdown",
   "id": "9772e947",
   "metadata": {},
   "source": [
    "<p>How do I create an empty <code>DataFrame</code>, then add rows, one by one?</p><br><p>I created an empty <code>DataFrame</code>:</p><br><pre><code>df = pd.DataFrame(columns=(lib, qty1, qty2))<br></code></pre><br><p>Then I can add a new row at the end and fill a single field with:</p><br><pre><code>df = df._set_value(index=len(df), col=qty1, value=10.0)<br></code></pre><br><p>It works for only one field at a time. What is a better way to add new row to <code>df</code>?</p><br>"
   ]
  },
  {
   "cell_type": "code",
   "execution_count": null,
   "id": "545021d1",
   "metadata": {},
   "outputs": [],
   "source": [
    "class Post:\n",
    "    # Please do not modify these unless it is very intentional\n",
    "    __TAGS = ['python', 'pandas', 'dataframe', 'append']\n",
    "    __TITLE = \"Create a Pandas Dataframe by appending one row at a time\"\n",
    "    __QUESTION = \"<p>How do I create an empty <code>DataFrame</code>, then add rows, one by one?</p><br><p>I created an empty <code>DataFrame</code>:</p><br><pre><code>df = pd.DataFrame(columns=(lib, qty1, qty2))<br></code></pre><br><p>Then I can add a new row at the end and fill a single field with:</p><br><pre><code>df = df._set_value(index=len(df), col=qty1, value=10.0)<br></code></pre><br><p>It works for only one field at a time. What is a better way to add new row to <code>df</code>?</p><br>\"\n",
    "    __ORIGINAL_LINK = \"https://stackoverflow.com/questions/10715965/create-a-pandas-dataframe-by-appending-one-row-at-a-time\"\n",
    "\n",
    "    def answer():\n",
    "        raise NotImplementedError\n",
    "        \n",
    "    # optional markdown solution for easier reading\n",
    "    MARKDOWN_SOLUTION = \"\"\n",
    "if __name__ == \"__main__\":\n",
    "    Post.answer()"
   ]
  },
  {
   "cell_type": "markdown",
   "id": "4aa46c20",
   "metadata": {},
   "source": [
    "### 11: How to add a new column to an existing DataFrame?\n",
    "---"
   ]
  },
  {
   "cell_type": "markdown",
   "id": "60a384da",
   "metadata": {},
   "source": [
    "<p>I have the following indexed DataFrame with named columns and rows not- continuous numbers:</p><br><br><pre><code>          a         b         c         d<br>2  0.671399  0.101208 -0.181532  0.241273<br>3  0.446172 -0.243316  0.051767  1.577318<br>5  0.614758  0.075793 -0.451460 -0.012493<br></code></pre><br><br><p>I would like to add a new column, <code>e</code>, to the existing data frame and do not want to change anything in the data frame (i.e., the new column always has the same length as the DataFrame). </p><br><br><pre><code>0   -0.335485<br>1   -1.166658<br>2   -0.385571<br>dtype: float64<br></code></pre><br><br><p>How can I add column <code>e</code> to the above example? </p><br>"
   ]
  },
  {
   "cell_type": "code",
   "execution_count": null,
   "id": "61d85d79",
   "metadata": {},
   "outputs": [],
   "source": [
    "class Post:\n",
    "    # Please do not modify these unless it is very intentional\n",
    "    __TAGS = ['python', 'pandas', 'dataframe', 'chained-assignment']\n",
    "    __TITLE = \"How to add a new column to an existing DataFrame?\"\n",
    "    __QUESTION = \"<p>I have the following indexed DataFrame with named columns and rows not- continuous numbers:</p><br><br><pre><code>          a         b         c         d<br>2  0.671399  0.101208 -0.181532  0.241273<br>3  0.446172 -0.243316  0.051767  1.577318<br>5  0.614758  0.075793 -0.451460 -0.012493<br></code></pre><br><br><p>I would like to add a new column, <code>e</code>, to the existing data frame and do not want to change anything in the data frame (i.e., the new column always has the same length as the DataFrame). </p><br><br><pre><code>0   -0.335485<br>1   -1.166658<br>2   -0.385571<br>dtype: float64<br></code></pre><br><br><p>How can I add column <code>e</code> to the above example? </p><br>\"\n",
    "    __ORIGINAL_LINK = \"https://stackoverflow.com/questions/12555323/how-to-add-a-new-column-to-an-existing-dataframe\"\n",
    "\n",
    "    def answer():\n",
    "        raise NotImplementedError\n",
    "        \n",
    "    # optional markdown solution for easier reading\n",
    "    MARKDOWN_SOLUTION = \"\"\n",
    "if __name__ == \"__main__\":\n",
    "    Post.answer()"
   ]
  },
  {
   "cell_type": "markdown",
   "id": "fbb6de0f",
   "metadata": {},
   "source": [
    "### 12: How to drop rows of Pandas DataFrame whose value in a certain column is NaN\n",
    "---"
   ]
  },
  {
   "cell_type": "markdown",
   "id": "130c1fb7",
   "metadata": {},
   "source": [
    "<p>I have this <code>DataFrame</code> and want only the records whose <code>EPS</code> column is not <code>NaN</code>:</p><br><br><pre><code>&gt;&gt;&gt; df<br>                 STK_ID  EPS  cash<br>STK_ID RPT_Date                   <br>601166 20111231  601166  NaN   NaN<br>600036 20111231  600036  NaN    12<br>600016 20111231  600016  4.3   NaN<br>601009 20111231  601009  NaN   NaN<br>601939 20111231  601939  2.5   NaN<br>000001 20111231  000001  NaN   NaN<br></code></pre><br><br><p>...i.e. something like <code>df.drop(....)</code> to get this resulting dataframe:</p><br><br><pre><code>                  STK_ID  EPS  cash<br>STK_ID RPT_Date                   <br>600016 20111231  600016  4.3   NaN<br>601939 20111231  601939  2.5   NaN<br></code></pre><br><br><p>How do I do that?</p><br>"
   ]
  },
  {
   "cell_type": "code",
   "execution_count": null,
   "id": "dfa29385",
   "metadata": {},
   "outputs": [],
   "source": [
    "class Post:\n",
    "    # Please do not modify these unless it is very intentional\n",
    "    __TAGS = ['python', 'pandas', 'dataframe', 'nan']\n",
    "    __TITLE = \"How to drop rows of Pandas DataFrame whose value in a certain column is NaN\"\n",
    "    __QUESTION = \"<p>I have this <code>DataFrame</code> and want only the records whose <code>EPS</code> column is not <code>NaN</code>:</p><br><br><pre><code>&gt;&gt;&gt; df<br>                 STK_ID  EPS  cash<br>STK_ID RPT_Date                   <br>601166 20111231  601166  NaN   NaN<br>600036 20111231  600036  NaN    12<br>600016 20111231  600016  4.3   NaN<br>601009 20111231  601009  NaN   NaN<br>601939 20111231  601939  2.5   NaN<br>000001 20111231  000001  NaN   NaN<br></code></pre><br><br><p>...i.e. something like <code>df.drop(....)</code> to get this resulting dataframe:</p><br><br><pre><code>                  STK_ID  EPS  cash<br>STK_ID RPT_Date                   <br>600016 20111231  600016  4.3   NaN<br>601939 20111231  601939  2.5   NaN<br></code></pre><br><br><p>How do I do that?</p><br>\"\n",
    "    __ORIGINAL_LINK = \"https://stackoverflow.com/questions/13413590/how-to-drop-rows-of-pandas-dataframe-whose-value-in-a-certain-column-is-nan\"\n",
    "\n",
    "    def answer():\n",
    "        raise NotImplementedError\n",
    "        \n",
    "    # optional markdown solution for easier reading\n",
    "    MARKDOWN_SOLUTION = \"\"\n",
    "if __name__ == \"__main__\":\n",
    "    Post.answer()"
   ]
  },
  {
   "cell_type": "markdown",
   "id": "9d1cd19b",
   "metadata": {},
   "source": [
    "### 13: How to deal with SettingWithCopyWarning in Pandas\n",
    "---"
   ]
  },
  {
   "cell_type": "markdown",
   "id": "44aa6dfa",
   "metadata": {},
   "source": [
    "<h2>Background</h2><br><p>I just upgraded my Pandas from 0.11 to 0.13.0rc1. Now, the application is popping out many new warnings. One of them like this:</p><br><pre><code>E:\\FinReporter\\FM_EXT.py:449: SettingWithCopyWarning: A value is trying to be set on a copy of a slice from a DataFrame.<br>Try using .loc[row_index,col_indexer] = value instead<br>  quote_df[TVol]   = quote_df[TVol]/TVOL_SCALE<br></code></pre><br><p>I want to know what exactly it means?  Do I need to change something?</p><br><p>How should I suspend the warning if I insist to use <code>quote_df[TVol]   = quote_df[TVol]/TVOL_SCALE</code>?</p><br><h2>The function that gives errors</h2><br><pre><code>def _decode_stock_quote(list_of_150_stk_str):<br>    &quot;&quot;&quot;decode the webpage and return dataframe&quot;&quot;&quot;<br><br>    from cStringIO import StringIO<br><br>    str_of_all = &quot;&quot;.join(list_of_150_stk_str)<br><br>    quote_df = pd.read_csv(StringIO(str_of_all), sep=,, names=list(ABCDEFGHIJKLMNOPQRSTUVWXYZabcdefg)) #dtype={A: object, B: object, C: np.float64}<br>    quote_df.rename(columns={A:STK, B:TOpen, C:TPCLOSE, D:TPrice, E:THigh, F:TLow, I:TVol, J:TAmt, e:TDate, f:TTime}, inplace=True)<br>    quote_df = quote_df.ix[:,[0,3,2,1,4,5,8,9,30,31]]<br>    quote_df[TClose] = quote_df[TPrice]<br>    quote_df[RT]     = 100 * (quote_df[TPrice]/quote_df[TPCLOSE] - 1)<br>    quote_df[TVol]   = quote_df[TVol]/TVOL_SCALE<br>    quote_df[TAmt]   = quote_df[TAmt]/TAMT_SCALE<br>    quote_df[STK_ID] = quote_df[STK].str.slice(13,19)<br>    quote_df[STK_Name] = quote_df[STK].str.slice(21,30)#.decode(gb2312)<br>    quote_df[TDate]  = quote_df.TDate.map(lambda x: x[0:4]+x[5:7]+x[8:10])<br>    <br>    return quote_df<br></code></pre><br><h2>More error messages</h2><br><pre><code>E:\\FinReporter\\FM_EXT.py:449: SettingWithCopyWarning: A value is trying to be set on a copy of a slice from a DataFrame.<br>Try using .loc[row_index,col_indexer] = value instead<br>  quote_df[TVol]   = quote_df[TVol]/TVOL_SCALE<br>E:\\FinReporter\\FM_EXT.py:450: SettingWithCopyWarning: A value is trying to be set on a copy of a slice from a DataFrame.<br>Try using .loc[row_index,col_indexer] = value instead<br>  quote_df[TAmt]   = quote_df[TAmt]/TAMT_SCALE<br>E:\\FinReporter\\FM_EXT.py:453: SettingWithCopyWarning: A value is trying to be set on a copy of a slice from a DataFrame.<br>Try using .loc[row_index,col_indexer] = value instead<br>  quote_df[TDate]  = quote_df.TDate.map(lambda x: x[0:4]+x[5:7]+x[8:10])<br></code></pre><br>"
   ]
  },
  {
   "cell_type": "code",
   "execution_count": null,
   "id": "a7d95052",
   "metadata": {},
   "outputs": [],
   "source": [
    "class Post:\n",
    "    # Please do not modify these unless it is very intentional\n",
    "    __TAGS = ['python', 'pandas', 'dataframe', 'chained-assignment']\n",
    "    __TITLE = \"How to deal with SettingWithCopyWarning in Pandas\"\n",
    "    __QUESTION = \"<h2>Background</h2><br><p>I just upgraded my Pandas from 0.11 to 0.13.0rc1. Now, the application is popping out many new warnings. One of them like this:</p><br><pre><code>E:\\FinReporter\\FM_EXT.py:449: SettingWithCopyWarning: A value is trying to be set on a copy of a slice from a DataFrame.<br>Try using .loc[row_index,col_indexer] = value instead<br>  quote_df[TVol]   = quote_df[TVol]/TVOL_SCALE<br></code></pre><br><p>I want to know what exactly it means?  Do I need to change something?</p><br><p>How should I suspend the warning if I insist to use <code>quote_df[TVol]   = quote_df[TVol]/TVOL_SCALE</code>?</p><br><h2>The function that gives errors</h2><br><pre><code>def _decode_stock_quote(list_of_150_stk_str):<br>    &quot;&quot;&quot;decode the webpage and return dataframe&quot;&quot;&quot;<br><br>    from cStringIO import StringIO<br><br>    str_of_all = &quot;&quot;.join(list_of_150_stk_str)<br><br>    quote_df = pd.read_csv(StringIO(str_of_all), sep=,, names=list(ABCDEFGHIJKLMNOPQRSTUVWXYZabcdefg)) #dtype={A: object, B: object, C: np.float64}<br>    quote_df.rename(columns={A:STK, B:TOpen, C:TPCLOSE, D:TPrice, E:THigh, F:TLow, I:TVol, J:TAmt, e:TDate, f:TTime}, inplace=True)<br>    quote_df = quote_df.ix[:,[0,3,2,1,4,5,8,9,30,31]]<br>    quote_df[TClose] = quote_df[TPrice]<br>    quote_df[RT]     = 100 * (quote_df[TPrice]/quote_df[TPCLOSE] - 1)<br>    quote_df[TVol]   = quote_df[TVol]/TVOL_SCALE<br>    quote_df[TAmt]   = quote_df[TAmt]/TAMT_SCALE<br>    quote_df[STK_ID] = quote_df[STK].str.slice(13,19)<br>    quote_df[STK_Name] = quote_df[STK].str.slice(21,30)#.decode(gb2312)<br>    quote_df[TDate]  = quote_df.TDate.map(lambda x: x[0:4]+x[5:7]+x[8:10])<br>    <br>    return quote_df<br></code></pre><br><h2>More error messages</h2><br><pre><code>E:\\FinReporter\\FM_EXT.py:449: SettingWithCopyWarning: A value is trying to be set on a copy of a slice from a DataFrame.<br>Try using .loc[row_index,col_indexer] = value instead<br>  quote_df[TVol]   = quote_df[TVol]/TVOL_SCALE<br>E:\\FinReporter\\FM_EXT.py:450: SettingWithCopyWarning: A value is trying to be set on a copy of a slice from a DataFrame.<br>Try using .loc[row_index,col_indexer] = value instead<br>  quote_df[TAmt]   = quote_df[TAmt]/TAMT_SCALE<br>E:\\FinReporter\\FM_EXT.py:453: SettingWithCopyWarning: A value is trying to be set on a copy of a slice from a DataFrame.<br>Try using .loc[row_index,col_indexer] = value instead<br>  quote_df[TDate]  = quote_df.TDate.map(lambda x: x[0:4]+x[5:7]+x[8:10])<br></code></pre><br>\"\n",
    "    __ORIGINAL_LINK = \"https://stackoverflow.com/questions/20625582/how-to-deal-with-settingwithcopywarning-in-pandas\"\n",
    "\n",
    "    def answer():\n",
    "        raise NotImplementedError\n",
    "        \n",
    "    # optional markdown solution for easier reading\n",
    "    MARKDOWN_SOLUTION = \"\"\n",
    "if __name__ == \"__main__\":\n",
    "    Post.answer()"
   ]
  },
  {
   "cell_type": "markdown",
   "id": "37668286",
   "metadata": {},
   "source": [
    "### 14: &quot;Large data&quot; workflows using pandas\n",
    "---"
   ]
  },
  {
   "cell_type": "markdown",
   "id": "23efb17c",
   "metadata": {},
   "source": [
    "<p>I have tried to puzzle out an answer to this question for many months while learning pandas.  I use SAS for my day-to-day work and it is great for its out-of-core support.  However, SAS is horrible as a piece of software for numerous other reasons.</p><br><br><p>One day I hope to replace my use of SAS with python and pandas, but I currently lack an out-of-core workflow for large datasets.  Im not talking about big data that requires a distributed network, but rather files too large to fit in memory but small enough to fit on a hard-drive.</p><br><br><p>My first thought is to use <code>HDFStore</code> to hold large datasets on disk and pull only the pieces I need into dataframes for analysis.  Others have mentioned MongoDB as an easier to use alternative.  My question is this:</p><br><br><p>What are some best-practice workflows for accomplishing the following:</p><br><br><ol><br><li>Loading flat files into a permanent, on-disk database structure</li><br><li>Querying that database to retrieve data to feed into a pandas data structure</li><br><li>Updating the database after manipulating pieces in pandas</li><br></ol><br><br><p>Real-world examples would be much appreciated, especially from anyone who uses pandas on large data.</p><br><br><p>Edit -- an example of how I would like this to work:</p><br><br><ol><br><li>Iteratively import a large flat-file and store it in a permanent, on-disk database structure.  These files are typically too large to fit in memory.</li><br><li>In order to use Pandas, I would like to read subsets of this data (usually just a few columns at a time) that can fit in memory.</li><br><li>I would create new columns by performing various operations on the selected columns.</li><br><li>I would then have to append these new columns into the database structure.</li><br></ol><br><br><p>I am trying to find a best-practice way of performing these steps. Reading links about pandas and pytables it seems that appending a new column could be a problem.</p><br><br><p>Edit -- Responding to Jeffs questions specifically:</p><br><br><ol><br><li>I am building consumer credit risk models. The kinds of data include phone, SSN and address characteristics; property values; derogatory information like criminal records, bankruptcies, etc... The datasets I use every day have nearly 1,000 to 2,000 fields on average of mixed data types: continuous, nominal and ordinal variables of both numeric and character data.  I rarely append rows, but I do perform many operations that create new columns.</li><br><li>Typical operations involve combining several columns using conditional logic into a new, compound column. For example, <code>if var1 &gt; 2 then newvar = A elif var2 = 4 then newvar = B</code>.  The result of these operations is a new column for every record in my dataset.</li><br><li>Finally, I would like to append these new columns into the on-disk data structure.  I would repeat step 2, exploring the data with crosstabs and descriptive statistics trying to find interesting, intuitive relationships to model.</li><br><li>A typical project file is usually about 1GB.  Files are organized into such a manner where a row consists of a record of consumer data.  Each row has the same number of columns for every record.  This will always be the case.</li><br><li>Its pretty rare that I would subset by rows when creating a new column.  However, its pretty common for me to subset on rows when creating reports or generating descriptive statistics.  For example, I might want to create a simple frequency for a specific line of business, say Retail credit cards.  To do this, I would select only those records where the line of business = retail in addition to whichever columns I want to report on.  When creating new columns, however, I would pull all rows of data and only the columns I need for the operations.</li><br><li>The modeling process requires that I analyze every column, look for interesting relationships with some outcome variable, and create new compound columns that describe those relationships.  The columns that I explore are usually done in small sets.  For example, I will focus on a set of say 20 columns just dealing with property values and observe how they relate to defaulting on a loan.  Once those are explored and new columns are created, I then move on to another group of columns, say college education, and repeat the process.  What Im doing is creating candidate variables that explain the relationship between my data and some outcome.  At the very end of this process, I apply some learning techniques that create an equation out of those compound columns.</li><br></ol><br><br><p>It is rare that I would ever add rows to the dataset.  I will nearly always be creating new columns (variables or features in statistics/machine learning parlance).</p><br>"
   ]
  },
  {
   "cell_type": "code",
   "execution_count": null,
   "id": "076370a8",
   "metadata": {},
   "outputs": [],
   "source": [
    "class Post:\n",
    "    # Please do not modify these unless it is very intentional\n",
    "    __TAGS = ['python', 'mongodb', 'pandas', 'hdf5', 'large-data']\n",
    "    __TITLE = \"&quot;Large data&quot; workflows using pandas\"\n",
    "    __QUESTION = \"<p>I have tried to puzzle out an answer to this question for many months while learning pandas.  I use SAS for my day-to-day work and it is great for its out-of-core support.  However, SAS is horrible as a piece of software for numerous other reasons.</p><br><br><p>One day I hope to replace my use of SAS with python and pandas, but I currently lack an out-of-core workflow for large datasets.  Im not talking about big data that requires a distributed network, but rather files too large to fit in memory but small enough to fit on a hard-drive.</p><br><br><p>My first thought is to use <code>HDFStore</code> to hold large datasets on disk and pull only the pieces I need into dataframes for analysis.  Others have mentioned MongoDB as an easier to use alternative.  My question is this:</p><br><br><p>What are some best-practice workflows for accomplishing the following:</p><br><br><ol><br><li>Loading flat files into a permanent, on-disk database structure</li><br><li>Querying that database to retrieve data to feed into a pandas data structure</li><br><li>Updating the database after manipulating pieces in pandas</li><br></ol><br><br><p>Real-world examples would be much appreciated, especially from anyone who uses pandas on large data.</p><br><br><p>Edit -- an example of how I would like this to work:</p><br><br><ol><br><li>Iteratively import a large flat-file and store it in a permanent, on-disk database structure.  These files are typically too large to fit in memory.</li><br><li>In order to use Pandas, I would like to read subsets of this data (usually just a few columns at a time) that can fit in memory.</li><br><li>I would create new columns by performing various operations on the selected columns.</li><br><li>I would then have to append these new columns into the database structure.</li><br></ol><br><br><p>I am trying to find a best-practice way of performing these steps. Reading links about pandas and pytables it seems that appending a new column could be a problem.</p><br><br><p>Edit -- Responding to Jeffs questions specifically:</p><br><br><ol><br><li>I am building consumer credit risk models. The kinds of data include phone, SSN and address characteristics; property values; derogatory information like criminal records, bankruptcies, etc... The datasets I use every day have nearly 1,000 to 2,000 fields on average of mixed data types: continuous, nominal and ordinal variables of both numeric and character data.  I rarely append rows, but I do perform many operations that create new columns.</li><br><li>Typical operations involve combining several columns using conditional logic into a new, compound column. For example, <code>if var1 &gt; 2 then newvar = A elif var2 = 4 then newvar = B</code>.  The result of these operations is a new column for every record in my dataset.</li><br><li>Finally, I would like to append these new columns into the on-disk data structure.  I would repeat step 2, exploring the data with crosstabs and descriptive statistics trying to find interesting, intuitive relationships to model.</li><br><li>A typical project file is usually about 1GB.  Files are organized into such a manner where a row consists of a record of consumer data.  Each row has the same number of columns for every record.  This will always be the case.</li><br><li>Its pretty rare that I would subset by rows when creating a new column.  However, its pretty common for me to subset on rows when creating reports or generating descriptive statistics.  For example, I might want to create a simple frequency for a specific line of business, say Retail credit cards.  To do this, I would select only those records where the line of business = retail in addition to whichever columns I want to report on.  When creating new columns, however, I would pull all rows of data and only the columns I need for the operations.</li><br><li>The modeling process requires that I analyze every column, look for interesting relationships with some outcome variable, and create new compound columns that describe those relationships.  The columns that I explore are usually done in small sets.  For example, I will focus on a set of say 20 columns just dealing with property values and observe how they relate to defaulting on a loan.  Once those are explored and new columns are created, I then move on to another group of columns, say college education, and repeat the process.  What Im doing is creating candidate variables that explain the relationship between my data and some outcome.  At the very end of this process, I apply some learning techniques that create an equation out of those compound columns.</li><br></ol><br><br><p>It is rare that I would ever add rows to the dataset.  I will nearly always be creating new columns (variables or features in statistics/machine learning parlance).</p><br>\"\n",
    "    __ORIGINAL_LINK = \"https://stackoverflow.com/questions/14262433/large-data-workflows-using-pandas\"\n",
    "\n",
    "    def answer():\n",
    "        raise NotImplementedError\n",
    "        \n",
    "    # optional markdown solution for easier reading\n",
    "    MARKDOWN_SOLUTION = \"\"\n",
    "if __name__ == \"__main__\":\n",
    "    Post.answer()"
   ]
  },
  {
   "cell_type": "markdown",
   "id": "55e786f2",
   "metadata": {},
   "source": [
    "### 15: Use a list of values to select rows from a Pandas dataframe\n",
    "---"
   ]
  },
  {
   "cell_type": "markdown",
   "id": "98da2847",
   "metadata": {},
   "source": [
    "<p>Let’s say I have the following Pandas dataframe:</p><br><pre><code>df = DataFrame({A : [5,6,3,4], B : [1,2,3, 5]})<br>df<br><br>     A   B<br>0    5   1<br>1    6   2<br>2    3   3<br>3    4   5<br></code></pre><br><p>I can subset based on a specific value:</p><br><pre><code>x = df[df[A] == 3]<br>x<br><br>     A   B<br>2    3   3<br></code></pre><br><p>But how can I subset based on a list of values? - something like this:</p><br><pre><code>list_of_values = [3,6]<br><br>y = df[df[A] in list_of_values]<br></code></pre><br><p>To get:</p><br><pre><code>     A    B<br>1    6    2<br>2    3    3<br></code></pre><br>"
   ]
  },
  {
   "cell_type": "code",
   "execution_count": null,
   "id": "9b97674d",
   "metadata": {},
   "outputs": [],
   "source": [
    "class Post:\n",
    "    # Please do not modify these unless it is very intentional\n",
    "    __TAGS = ['python', 'pandas', 'dataframe']\n",
    "    __TITLE = \"Use a list of values to select rows from a Pandas dataframe\"\n",
    "    __QUESTION = \"<p>Let’s say I have the following Pandas dataframe:</p><br><pre><code>df = DataFrame({A : [5,6,3,4], B : [1,2,3, 5]})<br>df<br><br>     A   B<br>0    5   1<br>1    6   2<br>2    3   3<br>3    4   5<br></code></pre><br><p>I can subset based on a specific value:</p><br><pre><code>x = df[df[A] == 3]<br>x<br><br>     A   B<br>2    3   3<br></code></pre><br><p>But how can I subset based on a list of values? - something like this:</p><br><pre><code>list_of_values = [3,6]<br><br>y = df[df[A] in list_of_values]<br></code></pre><br><p>To get:</p><br><pre><code>     A    B<br>1    6    2<br>2    3    3<br></code></pre><br>\"\n",
    "    __ORIGINAL_LINK = \"https://stackoverflow.com/questions/12096252/use-a-list-of-values-to-select-rows-from-a-pandas-dataframe\"\n",
    "\n",
    "    def answer():\n",
    "        raise NotImplementedError\n",
    "        \n",
    "    # optional markdown solution for easier reading\n",
    "    MARKDOWN_SOLUTION = \"\"\n",
    "if __name__ == \"__main__\":\n",
    "    Post.answer()"
   ]
  },
  {
   "cell_type": "markdown",
   "id": "92c396d2",
   "metadata": {},
   "source": [
    "### 16: Pretty-print an entire Pandas Series / DataFrame\n",
    "---"
   ]
  },
  {
   "cell_type": "markdown",
   "id": "38870c80",
   "metadata": {},
   "source": [
    "<p>I work with Series and DataFrames on the terminal a lot. The default <code>__repr__</code> for a Series returns a reduced sample, with some head and tail values, but the rest missing.</p><br><br><p>Is there a builtin way to pretty-print the entire Series / DataFrame?  Ideally, it would support proper alignment, perhaps borders between columns, and maybe even color-coding for the different columns.</p><br>"
   ]
  },
  {
   "cell_type": "code",
   "execution_count": null,
   "id": "d2efef13",
   "metadata": {},
   "outputs": [],
   "source": [
    "class Post:\n",
    "    # Please do not modify these unless it is very intentional\n",
    "    __TAGS = ['python', 'pandas', 'dataframe']\n",
    "    __TITLE = \"Pretty-print an entire Pandas Series / DataFrame\"\n",
    "    __QUESTION = \"<p>I work with Series and DataFrames on the terminal a lot. The default <code>__repr__</code> for a Series returns a reduced sample, with some head and tail values, but the rest missing.</p><br><br><p>Is there a builtin way to pretty-print the entire Series / DataFrame?  Ideally, it would support proper alignment, perhaps borders between columns, and maybe even color-coding for the different columns.</p><br>\"\n",
    "    __ORIGINAL_LINK = \"https://stackoverflow.com/questions/19124601/pretty-print-an-entire-pandas-series-dataframe\"\n",
    "\n",
    "    def answer():\n",
    "        raise NotImplementedError\n",
    "        \n",
    "    # optional markdown solution for easier reading\n",
    "    MARKDOWN_SOLUTION = \"\"\n",
    "if __name__ == \"__main__\":\n",
    "    Post.answer()"
   ]
  },
  {
   "cell_type": "markdown",
   "id": "a1cd2ade",
   "metadata": {},
   "source": [
    "### 17: Convert list of dictionaries to a pandas DataFrame\n",
    "---"
   ]
  },
  {
   "cell_type": "markdown",
   "id": "37120ac6",
   "metadata": {},
   "source": [
    "<p>How can I convert a list of dictionaries into a <code>DataFrame</code>? Given:</p><br><pre><code>[{points: 50, time: 5:00, year: 2010}, <br> {points: 25, time: 6:00, month: &quot;february&quot;}, <br> {points:90, time: 9:00, month: january}, <br> {points_h1:20, month: june}]<br></code></pre><br><p>I want to turn the above into a <code>DataFrame</code>:</p><br><pre><code>      month  points  points_h1  time  year<br>0       NaN      50        NaN  5:00  2010<br>1  february      25        NaN  6:00   NaN<br>2   january      90        NaN  9:00   NaN<br>3      june     NaN         20   NaN   NaN<br></code></pre><br><p>Note: Order of the columns does not matter.</p><br>"
   ]
  },
  {
   "cell_type": "code",
   "execution_count": null,
   "id": "150ed5c7",
   "metadata": {},
   "outputs": [],
   "source": [
    "class Post:\n",
    "    # Please do not modify these unless it is very intentional\n",
    "    __TAGS = ['python', 'dictionary', 'pandas', 'dataframe']\n",
    "    __TITLE = \"Convert list of dictionaries to a pandas DataFrame\"\n",
    "    __QUESTION = \"<p>How can I convert a list of dictionaries into a <code>DataFrame</code>? Given:</p><br><pre><code>[{points: 50, time: 5:00, year: 2010}, <br> {points: 25, time: 6:00, month: &quot;february&quot;}, <br> {points:90, time: 9:00, month: january}, <br> {points_h1:20, month: june}]<br></code></pre><br><p>I want to turn the above into a <code>DataFrame</code>:</p><br><pre><code>      month  points  points_h1  time  year<br>0       NaN      50        NaN  5:00  2010<br>1  february      25        NaN  6:00   NaN<br>2   january      90        NaN  9:00   NaN<br>3      june     NaN         20   NaN   NaN<br></code></pre><br><p>Note: Order of the columns does not matter.</p><br>\"\n",
    "    __ORIGINAL_LINK = \"https://stackoverflow.com/questions/20638006/convert-list-of-dictionaries-to-a-pandas-dataframe\"\n",
    "\n",
    "    def answer():\n",
    "        raise NotImplementedError\n",
    "        \n",
    "    # optional markdown solution for easier reading\n",
    "    MARKDOWN_SOLUTION = \"\"\n",
    "if __name__ == \"__main__\":\n",
    "    Post.answer()"
   ]
  },
  {
   "cell_type": "markdown",
   "id": "8a563300",
   "metadata": {},
   "source": [
    "### 18: Writing a pandas DataFrame to CSV file\n",
    "---"
   ]
  },
  {
   "cell_type": "markdown",
   "id": "c5e55940",
   "metadata": {},
   "source": [
    "<p>I have a dataframe in pandas which I would like to write to a CSV file.</p><br><p>I am doing this using:</p><br><pre><code>df.to_csv(out.csv)<br></code></pre><br><p>And getting the following error:</p><br><pre><code>UnicodeEncodeError: ascii codec cant encode character u\\u03b1 in position 20: ordinal not in range(128)<br></code></pre><br><ul><br><li>Is there any way to get around this easily (i.e. I have unicode characters in my data frame)?</li><br><li>And is there a way to write to a tab delimited file instead of a CSV using e.g. a to-tab method (that I dont think exists)?</li><br></ul><br>"
   ]
  },
  {
   "cell_type": "code",
   "execution_count": null,
   "id": "a33f7ba1",
   "metadata": {},
   "outputs": [],
   "source": [
    "class Post:\n",
    "    # Please do not modify these unless it is very intentional\n",
    "    __TAGS = ['python', 'csv', 'pandas', 'dataframe']\n",
    "    __TITLE = \"Writing a pandas DataFrame to CSV file\"\n",
    "    __QUESTION = \"<p>I have a dataframe in pandas which I would like to write to a CSV file.</p><br><p>I am doing this using:</p><br><pre><code>df.to_csv(out.csv)<br></code></pre><br><p>And getting the following error:</p><br><pre><code>UnicodeEncodeError: ascii codec cant encode character u\\u03b1 in position 20: ordinal not in range(128)<br></code></pre><br><ul><br><li>Is there any way to get around this easily (i.e. I have unicode characters in my data frame)?</li><br><li>And is there a way to write to a tab delimited file instead of a CSV using e.g. a to-tab method (that I dont think exists)?</li><br></ul><br>\"\n",
    "    __ORIGINAL_LINK = \"https://stackoverflow.com/questions/16923281/writing-a-pandas-dataframe-to-csv-file\"\n",
    "\n",
    "    def answer():\n",
    "        raise NotImplementedError\n",
    "        \n",
    "    # optional markdown solution for easier reading\n",
    "    MARKDOWN_SOLUTION = \"\"\n",
    "if __name__ == \"__main__\":\n",
    "    Post.answer()"
   ]
  },
  {
   "cell_type": "markdown",
   "id": "4ad7c503",
   "metadata": {},
   "source": [
    "### 19: How do I expand the output display to see more columns of a Pandas DataFrame?\n",
    "---"
   ]
  },
  {
   "cell_type": "markdown",
   "id": "419012f0",
   "metadata": {},
   "source": [
    "<p>Is there a way to widen the display of output in either interactive or script-execution mode?</p><br><p>Specifically, I am using the <code>describe()</code> function on a Pandas <code>DataFrame</code>.  When the <code>DataFrame</code> is five columns (labels) wide, I get the descriptive statistics that I want.  However, if the <code>DataFrame</code> has any more columns, the statistics are suppressed and something like this is returned:</p><br><pre class=lang-none prettyprint-override><code>&gt;&gt; Index: 8 entries, count to max<br>&gt;&gt; Data columns:<br>&gt;&gt; x1          8  non-null values<br>&gt;&gt; x2          8  non-null values<br>&gt;&gt; x3          8  non-null values<br>&gt;&gt; x4          8  non-null values<br>&gt;&gt; x5          8  non-null values<br>&gt;&gt; x6          8  non-null values<br>&gt;&gt; x7          8  non-null values<br></code></pre><br><p>The &quot;8&quot; value is given whether there are 6 or 7 columns.  What does the &quot;8&quot; refer to?</p><br><p>I have already tried dragging the <a href=https://en.wikipedia.org/wiki/IDLE rel=noreferrer>IDLE</a> window larger, as well as increasing the &quot;Configure IDLE&quot; width options, to no avail.</p><br><p>My purpose in using Pandas and <code>describe()</code> is to avoid using a second program like Stata to do basic data manipulation and investigation.</p><br>"
   ]
  },
  {
   "cell_type": "code",
   "execution_count": null,
   "id": "9fd69463",
   "metadata": {},
   "outputs": [],
   "source": [
    "class Post:\n",
    "    # Please do not modify these unless it is very intentional\n",
    "    __TAGS = ['python', 'pandas', 'printing', 'column-width']\n",
    "    __TITLE = \"How do I expand the output display to see more columns of a Pandas DataFrame?\"\n",
    "    __QUESTION = \"<p>Is there a way to widen the display of output in either interactive or script-execution mode?</p><br><p>Specifically, I am using the <code>describe()</code> function on a Pandas <code>DataFrame</code>.  When the <code>DataFrame</code> is five columns (labels) wide, I get the descriptive statistics that I want.  However, if the <code>DataFrame</code> has any more columns, the statistics are suppressed and something like this is returned:</p><br><pre class=lang-none prettyprint-override><code>&gt;&gt; Index: 8 entries, count to max<br>&gt;&gt; Data columns:<br>&gt;&gt; x1          8  non-null values<br>&gt;&gt; x2          8  non-null values<br>&gt;&gt; x3          8  non-null values<br>&gt;&gt; x4          8  non-null values<br>&gt;&gt; x5          8  non-null values<br>&gt;&gt; x6          8  non-null values<br>&gt;&gt; x7          8  non-null values<br></code></pre><br><p>The &quot;8&quot; value is given whether there are 6 or 7 columns.  What does the &quot;8&quot; refer to?</p><br><p>I have already tried dragging the <a href=https://en.wikipedia.org/wiki/IDLE rel=noreferrer>IDLE</a> window larger, as well as increasing the &quot;Configure IDLE&quot; width options, to no avail.</p><br><p>My purpose in using Pandas and <code>describe()</code> is to avoid using a second program like Stata to do basic data manipulation and investigation.</p><br>\"\n",
    "    __ORIGINAL_LINK = \"https://stackoverflow.com/questions/11707586/how-do-i-expand-the-output-display-to-see-more-columns-of-a-pandas-dataframe\"\n",
    "\n",
    "    def answer():\n",
    "        raise NotImplementedError\n",
    "        \n",
    "    # optional markdown solution for easier reading\n",
    "    MARKDOWN_SOLUTION = \"\"\n",
    "if __name__ == \"__main__\":\n",
    "    Post.answer()"
   ]
  },
  {
   "cell_type": "markdown",
   "id": "028e14fb",
   "metadata": {},
   "source": [
    "### 20: Deleting DataFrame row in Pandas based on column value\n",
    "---"
   ]
  },
  {
   "cell_type": "markdown",
   "id": "55e6e817",
   "metadata": {},
   "source": [
    "<p>I have the following DataFrame:</p><br><br><pre><code>             daysago  line_race rating        rw    wrating<br> line_date                                                 <br> 2007-03-31       62         11     56  1.000000  56.000000<br> 2007-03-10       83         11     67  1.000000  67.000000<br> 2007-02-10      111          9     66  1.000000  66.000000<br> 2007-01-13      139         10     83  0.880678  73.096278<br> 2006-12-23      160         10     88  0.793033  69.786942<br> 2006-11-09      204          9     52  0.636655  33.106077<br> 2006-10-22      222          8     66  0.581946  38.408408<br> 2006-09-29      245          9     70  0.518825  36.317752<br> 2006-09-16      258         11     68  0.486226  33.063381<br> 2006-08-30      275          8     72  0.446667  32.160051<br> 2006-02-11      475          5     65  0.164591  10.698423<br> 2006-01-13      504          0     70  0.142409   9.968634<br> 2006-01-02      515          0     64  0.134800   8.627219<br> 2005-12-06      542          0     70  0.117803   8.246238<br> 2005-11-29      549          0     70  0.113758   7.963072<br> 2005-11-22      556          0     -1  0.109852  -0.109852<br> 2005-11-01      577          0     -1  0.098919  -0.098919<br> 2005-10-20      589          0     -1  0.093168  -0.093168<br> 2005-09-27      612          0     -1  0.083063  -0.083063<br> 2005-09-07      632          0     -1  0.075171  -0.075171<br> 2005-06-12      719          0     69  0.048690   3.359623<br> 2005-05-29      733          0     -1  0.045404  -0.045404<br> 2005-05-02      760          0     -1  0.039679  -0.039679<br> 2005-04-02      790          0     -1  0.034160  -0.034160<br> 2005-03-13      810          0     -1  0.030915  -0.030915<br> 2004-11-09      934          0     -1  0.016647  -0.016647<br></code></pre><br><br><p>I need to remove the rows where <code>line_race</code> is equal to <code>0</code>. Whats the most efficient way to do this?</p><br>"
   ]
  },
  {
   "cell_type": "code",
   "execution_count": null,
   "id": "1ad829e0",
   "metadata": {},
   "outputs": [],
   "source": [
    "class Post:\n",
    "    # Please do not modify these unless it is very intentional\n",
    "    __TAGS = ['python', 'pandas']\n",
    "    __TITLE = \"Deleting DataFrame row in Pandas based on column value\"\n",
    "    __QUESTION = \"<p>I have the following DataFrame:</p><br><br><pre><code>             daysago  line_race rating        rw    wrating<br> line_date                                                 <br> 2007-03-31       62         11     56  1.000000  56.000000<br> 2007-03-10       83         11     67  1.000000  67.000000<br> 2007-02-10      111          9     66  1.000000  66.000000<br> 2007-01-13      139         10     83  0.880678  73.096278<br> 2006-12-23      160         10     88  0.793033  69.786942<br> 2006-11-09      204          9     52  0.636655  33.106077<br> 2006-10-22      222          8     66  0.581946  38.408408<br> 2006-09-29      245          9     70  0.518825  36.317752<br> 2006-09-16      258         11     68  0.486226  33.063381<br> 2006-08-30      275          8     72  0.446667  32.160051<br> 2006-02-11      475          5     65  0.164591  10.698423<br> 2006-01-13      504          0     70  0.142409   9.968634<br> 2006-01-02      515          0     64  0.134800   8.627219<br> 2005-12-06      542          0     70  0.117803   8.246238<br> 2005-11-29      549          0     70  0.113758   7.963072<br> 2005-11-22      556          0     -1  0.109852  -0.109852<br> 2005-11-01      577          0     -1  0.098919  -0.098919<br> 2005-10-20      589          0     -1  0.093168  -0.093168<br> 2005-09-27      612          0     -1  0.083063  -0.083063<br> 2005-09-07      632          0     -1  0.075171  -0.075171<br> 2005-06-12      719          0     69  0.048690   3.359623<br> 2005-05-29      733          0     -1  0.045404  -0.045404<br> 2005-05-02      760          0     -1  0.039679  -0.039679<br> 2005-04-02      790          0     -1  0.034160  -0.034160<br> 2005-03-13      810          0     -1  0.030915  -0.030915<br> 2004-11-09      934          0     -1  0.016647  -0.016647<br></code></pre><br><br><p>I need to remove the rows where <code>line_race</code> is equal to <code>0</code>. Whats the most efficient way to do this?</p><br>\"\n",
    "    __ORIGINAL_LINK = \"https://stackoverflow.com/questions/18172851/deleting-dataframe-row-in-pandas-based-on-column-value\"\n",
    "\n",
    "    def answer():\n",
    "        raise NotImplementedError\n",
    "        \n",
    "    # optional markdown solution for easier reading\n",
    "    MARKDOWN_SOLUTION = \"\"\n",
    "if __name__ == \"__main__\":\n",
    "    Post.answer()"
   ]
  },
  {
   "cell_type": "markdown",
   "id": "93d16016",
   "metadata": {},
   "source": [
    "### 21: Combine two columns of text in pandas dataframe\n",
    "---"
   ]
  },
  {
   "cell_type": "markdown",
   "id": "f59de6f7",
   "metadata": {},
   "source": [
    "<p>I have a 20 x 4000 dataframe in Python using pandas. Two of these columns are named <code>Year</code> and <code>quarter</code>. Id like to create a variable called <code>period</code> that makes <code>Year = 2000</code> and <code>quarter= q2</code> into <code>2000q2</code>.</p><br><br><p>Can anyone help with that?</p><br>"
   ]
  },
  {
   "cell_type": "code",
   "execution_count": null,
   "id": "8e49716a",
   "metadata": {},
   "outputs": [],
   "source": [
    "class Post:\n",
    "    # Please do not modify these unless it is very intentional\n",
    "    __TAGS = ['python', 'pandas', 'dataframe']\n",
    "    __TITLE = \"Combine two columns of text in pandas dataframe\"\n",
    "    __QUESTION = \"<p>I have a 20 x 4000 dataframe in Python using pandas. Two of these columns are named <code>Year</code> and <code>quarter</code>. Id like to create a variable called <code>period</code> that makes <code>Year = 2000</code> and <code>quarter= q2</code> into <code>2000q2</code>.</p><br><br><p>Can anyone help with that?</p><br>\"\n",
    "    __ORIGINAL_LINK = \"https://stackoverflow.com/questions/19377969/combine-two-columns-of-text-in-pandas-dataframe\"\n",
    "\n",
    "    def answer():\n",
    "        raise NotImplementedError\n",
    "        \n",
    "    # optional markdown solution for easier reading\n",
    "    MARKDOWN_SOLUTION = \"\"\n",
    "if __name__ == \"__main__\":\n",
    "    Post.answer()"
   ]
  },
  {
   "cell_type": "markdown",
   "id": "2e9c1613",
   "metadata": {},
   "source": [
    "### 22: How are iloc and loc different?\n",
    "---"
   ]
  },
  {
   "cell_type": "markdown",
   "id": "0d4dadb8",
   "metadata": {},
   "source": [
    "<p>Can someone explain how these two methods of slicing are different?<br /><br>Ive seen <a href=http://pandas.pydata.org/pandas-docs/stable/indexing.html rel=noreferrer>the docs</a>,<br>and Ive seen <a href=https://stackoverflow.com/questions/28757389/loc-vs-iloc-vs-ix-vs-at-vs-iat>these</a> <a href=https://stackoverflow.com/questions/27667759/is-ix-always-better-than-loc-and-iloc-since-it-is-faster-and-supports-i>answers</a>, but I still find myself unable to understand how the three are different. To me, they seem interchangeable in large part, because they are at the lower levels of slicing.</p><br><p>For example, say we want to get the first five rows of a <code>DataFrame</code>.  How is it that these two work?</p><br><pre><code>df.loc[:5]<br>df.iloc[:5]<br></code></pre><br><p>Can someone present three cases where the distinction in uses are clearer?</p><br><hr /><br><p>Once upon a time, I also wanted to know how these two functions differ from <code>df.ix[:5]</code> but <code>ix</code> has been removed from pandas 1.0, so I dont care anymore.</p><br>"
   ]
  },
  {
   "cell_type": "code",
   "execution_count": null,
   "id": "8f14ee5c",
   "metadata": {},
   "outputs": [],
   "source": [
    "class Post:\n",
    "    # Please do not modify these unless it is very intentional\n",
    "    __TAGS = ['python', 'pandas', 'dataframe', 'indexing', 'pandas-loc']\n",
    "    __TITLE = \"How are iloc and loc different?\"\n",
    "    __QUESTION = \"<p>Can someone explain how these two methods of slicing are different?<br /><br>Ive seen <a href=http://pandas.pydata.org/pandas-docs/stable/indexing.html rel=noreferrer>the docs</a>,<br>and Ive seen <a href=https://stackoverflow.com/questions/28757389/loc-vs-iloc-vs-ix-vs-at-vs-iat>these</a> <a href=https://stackoverflow.com/questions/27667759/is-ix-always-better-than-loc-and-iloc-since-it-is-faster-and-supports-i>answers</a>, but I still find myself unable to understand how the three are different. To me, they seem interchangeable in large part, because they are at the lower levels of slicing.</p><br><p>For example, say we want to get the first five rows of a <code>DataFrame</code>.  How is it that these two work?</p><br><pre><code>df.loc[:5]<br>df.iloc[:5]<br></code></pre><br><p>Can someone present three cases where the distinction in uses are clearer?</p><br><hr /><br><p>Once upon a time, I also wanted to know how these two functions differ from <code>df.ix[:5]</code> but <code>ix</code> has been removed from pandas 1.0, so I dont care anymore.</p><br>\"\n",
    "    __ORIGINAL_LINK = \"https://stackoverflow.com/questions/31593201/how-are-iloc-and-loc-different\"\n",
    "\n",
    "    def answer():\n",
    "        raise NotImplementedError\n",
    "        \n",
    "    # optional markdown solution for easier reading\n",
    "    MARKDOWN_SOLUTION = \"\"\n",
    "if __name__ == \"__main__\":\n",
    "    Post.answer()"
   ]
  },
  {
   "cell_type": "markdown",
   "id": "14222c29",
   "metadata": {},
   "source": [
    "### 23: Pandas Merging 101\n",
    "---"
   ]
  },
  {
   "cell_type": "markdown",
   "id": "ea606ce1",
   "metadata": {},
   "source": [
    "<ul><br><li>How can I perform a (<code>INNER</code>| (<code>LEFT</code>|<code>RIGHT</code>|<code>FULL</code>) <code>OUTER</code>) <code>JOIN</code> with pandas?</li><br><li>How do I add NaNs for missing rows after a merge?</li><br><li>How do I get rid of NaNs after merging?</li><br><li>Can I merge on the index?</li><br><li>How do I merge multiple DataFrames?</li><br><li>Cross join with pandas</li><br><li><code>merge</code>? <code>join</code>? <code>concat</code>? <code>update</code>? Who? What? Why?!</li><br></ul><br><p>... and more. Ive seen these recurring questions asking about various facets of the pandas merge functionality. Most of the information regarding merge and its various use cases today is fragmented across dozens of badly worded, unsearchable posts. The aim here is to collate some of the more important points for posterity.</p><br><p>This Q&amp;A is meant to be the next installment in a series of helpful user guides on common pandas idioms (see <a href=https://stackoverflow.com/questions/47152691/how-to-pivot-a-dataframe>this post on pivoting</a>, and <a href=https://stackoverflow.com/questions/49620538/what-are-the-levels-keys-and-names-arguments-for-in-pandas-concat-functio>this post on concatenation</a>, which I will be touching on, later).</p><br><p>Please note that this post is <em>not</em> meant to be a replacement for <a href=https://pandas.pydata.org/pandas-docs/stable/user_guide/merging.html rel=noreferrer>the documentation</a>, so please read that as well! Some of the examples are taken from there.</p><br><hr /><br><h3>Table of Contents</h3><br><p><sub>For ease of access.</sub></p><br><ul><br><li><p><a href=https://stackoverflow.com/a/53645883/4909087>Merging basics - basic types of joins</a> (read this first)</p><br></li><br><li><p><a href=https://stackoverflow.com/a/65167356/4909087>Index-based joins</a></p><br></li><br><li><p><a href=https://stackoverflow.com/a/65167327/4909087>Generalizing to multiple DataFrames</a></p><br></li><br><li><p><a href=https://stackoverflow.com/a/53699013/4909087>Cross join</a></p><br></li><br></ul><br>"
   ]
  },
  {
   "cell_type": "code",
   "execution_count": null,
   "id": "a24d4f73",
   "metadata": {},
   "outputs": [],
   "source": [
    "class Post:\n",
    "    # Please do not modify these unless it is very intentional\n",
    "    __TAGS = ['python', 'pandas', 'join', 'merge', 'concatenation']\n",
    "    __TITLE = \"Pandas Merging 101\"\n",
    "    __QUESTION = \"<ul><br><li>How can I perform a (<code>INNER</code>| (<code>LEFT</code>|<code>RIGHT</code>|<code>FULL</code>) <code>OUTER</code>) <code>JOIN</code> with pandas?</li><br><li>How do I add NaNs for missing rows after a merge?</li><br><li>How do I get rid of NaNs after merging?</li><br><li>Can I merge on the index?</li><br><li>How do I merge multiple DataFrames?</li><br><li>Cross join with pandas</li><br><li><code>merge</code>? <code>join</code>? <code>concat</code>? <code>update</code>? Who? What? Why?!</li><br></ul><br><p>... and more. Ive seen these recurring questions asking about various facets of the pandas merge functionality. Most of the information regarding merge and its various use cases today is fragmented across dozens of badly worded, unsearchable posts. The aim here is to collate some of the more important points for posterity.</p><br><p>This Q&amp;A is meant to be the next installment in a series of helpful user guides on common pandas idioms (see <a href=https://stackoverflow.com/questions/47152691/how-to-pivot-a-dataframe>this post on pivoting</a>, and <a href=https://stackoverflow.com/questions/49620538/what-are-the-levels-keys-and-names-arguments-for-in-pandas-concat-functio>this post on concatenation</a>, which I will be touching on, later).</p><br><p>Please note that this post is <em>not</em> meant to be a replacement for <a href=https://pandas.pydata.org/pandas-docs/stable/user_guide/merging.html rel=noreferrer>the documentation</a>, so please read that as well! Some of the examples are taken from there.</p><br><hr /><br><h3>Table of Contents</h3><br><p><sub>For ease of access.</sub></p><br><ul><br><li><p><a href=https://stackoverflow.com/a/53645883/4909087>Merging basics - basic types of joins</a> (read this first)</p><br></li><br><li><p><a href=https://stackoverflow.com/a/65167356/4909087>Index-based joins</a></p><br></li><br><li><p><a href=https://stackoverflow.com/a/65167327/4909087>Generalizing to multiple DataFrames</a></p><br></li><br><li><p><a href=https://stackoverflow.com/a/53699013/4909087>Cross join</a></p><br></li><br></ul><br>\"\n",
    "    __ORIGINAL_LINK = \"https://stackoverflow.com/questions/53645882/pandas-merging-101\"\n",
    "\n",
    "    def answer():\n",
    "        raise NotImplementedError\n",
    "        \n",
    "    # optional markdown solution for easier reading\n",
    "    MARKDOWN_SOLUTION = \"\"\n",
    "if __name__ == \"__main__\":\n",
    "    Post.answer()"
   ]
  },
  {
   "cell_type": "markdown",
   "id": "09c1ed73",
   "metadata": {},
   "source": [
    "### 24: Creating an empty Pandas DataFrame, then filling it?\n",
    "---"
   ]
  },
  {
   "cell_type": "markdown",
   "id": "999844d9",
   "metadata": {},
   "source": [
    "<p>Im starting from the pandas DataFrame docs here: <a href=http://pandas.pydata.org/pandas-docs/stable/dsintro.html rel=noreferrer>http://pandas.pydata.org/pandas-docs/stable/dsintro.html</a></p><br><br><p>Id like to iteratively fill the DataFrame with values in a time series kind of calculation.<br>So basically, Id like to initialize the DataFrame with columns A, B and timestamp rows, all 0 or all NaN.</p><br><br><p>Id then add initial values and go over this data calculating the new row from the row before, say <code>row[A][t] = row[A][t-1]+1</code> or so.</p><br><br><p>Im currently using the code as below, but I feel its kind of ugly and there must be a  way to do this with a DataFrame directly, or just a better way in general.<br>Note: Im using Python 2.7.</p><br><br><pre><code>import datetime as dt<br>import pandas as pd<br>import scipy as s<br><br>if __name__ == __main__:<br>    base = dt.datetime.today().date()<br>    dates = [ base - dt.timedelta(days=x) for x in range(0,10) ]<br>    dates.sort()<br><br>    valdict = {}<br>    symbols = [A,B, C]<br>    for symb in symbols:<br>        valdict[symb] = pd.Series( s.zeros( len(dates)), dates )<br><br>    for thedate in dates:<br>        if thedate &gt; dates[0]:<br>            for symb in valdict:<br>                valdict[symb][thedate] = 1+valdict[symb][thedate - dt.timedelta(days=1)]<br><br>    print valdict<br></code></pre><br>"
   ]
  },
  {
   "cell_type": "code",
   "execution_count": null,
   "id": "13684857",
   "metadata": {},
   "outputs": [],
   "source": [
    "class Post:\n",
    "    # Please do not modify these unless it is very intentional\n",
    "    __TAGS = ['python', 'dataframe', 'pandas']\n",
    "    __TITLE = \"Creating an empty Pandas DataFrame, then filling it?\"\n",
    "    __QUESTION = \"<p>Im starting from the pandas DataFrame docs here: <a href=http://pandas.pydata.org/pandas-docs/stable/dsintro.html rel=noreferrer>http://pandas.pydata.org/pandas-docs/stable/dsintro.html</a></p><br><br><p>Id like to iteratively fill the DataFrame with values in a time series kind of calculation.<br>So basically, Id like to initialize the DataFrame with columns A, B and timestamp rows, all 0 or all NaN.</p><br><br><p>Id then add initial values and go over this data calculating the new row from the row before, say <code>row[A][t] = row[A][t-1]+1</code> or so.</p><br><br><p>Im currently using the code as below, but I feel its kind of ugly and there must be a  way to do this with a DataFrame directly, or just a better way in general.<br>Note: Im using Python 2.7.</p><br><br><pre><code>import datetime as dt<br>import pandas as pd<br>import scipy as s<br><br>if __name__ == __main__:<br>    base = dt.datetime.today().date()<br>    dates = [ base - dt.timedelta(days=x) for x in range(0,10) ]<br>    dates.sort()<br><br>    valdict = {}<br>    symbols = [A,B, C]<br>    for symb in symbols:<br>        valdict[symb] = pd.Series( s.zeros( len(dates)), dates )<br><br>    for thedate in dates:<br>        if thedate &gt; dates[0]:<br>            for symb in valdict:<br>                valdict[symb][thedate] = 1+valdict[symb][thedate - dt.timedelta(days=1)]<br><br>    print valdict<br></code></pre><br>\"\n",
    "    __ORIGINAL_LINK = \"https://stackoverflow.com/questions/13784192/creating-an-empty-pandas-dataframe-then-filling-it\"\n",
    "\n",
    "    def answer():\n",
    "        raise NotImplementedError\n",
    "        \n",
    "    # optional markdown solution for easier reading\n",
    "    MARKDOWN_SOLUTION = \"\"\n",
    "if __name__ == \"__main__\":\n",
    "    Post.answer()"
   ]
  },
  {
   "cell_type": "markdown",
   "id": "1b6fe606",
   "metadata": {},
   "source": [
    "### 25: Filter pandas DataFrame by substring criteria\n",
    "---"
   ]
  },
  {
   "cell_type": "markdown",
   "id": "1664d34b",
   "metadata": {},
   "source": [
    "<p>I have a pandas DataFrame with a column of string values. I need to select rows based on partial string matches.</p><br><p>Something like this idiom:</p><br><pre><code>re.search(pattern, cell_in_question) <br></code></pre><br><p>returning a boolean. I am familiar with the syntax of <code>df[df[A] == &quot;hello world&quot;]</code> but cant seem to find a way to do the same with a partial string match, say <code>hello</code>.</p><br>"
   ]
  },
  {
   "cell_type": "code",
   "execution_count": null,
   "id": "a6d8c9a6",
   "metadata": {},
   "outputs": [],
   "source": [
    "class Post:\n",
    "    # Please do not modify these unless it is very intentional\n",
    "    __TAGS = ['python', 'string', 'pandas', 'dataframe']\n",
    "    __TITLE = \"Filter pandas DataFrame by substring criteria\"\n",
    "    __QUESTION = \"<p>I have a pandas DataFrame with a column of string values. I need to select rows based on partial string matches.</p><br><p>Something like this idiom:</p><br><pre><code>re.search(pattern, cell_in_question) <br></code></pre><br><p>returning a boolean. I am familiar with the syntax of <code>df[df[A] == &quot;hello world&quot;]</code> but cant seem to find a way to do the same with a partial string match, say <code>hello</code>.</p><br>\"\n",
    "    __ORIGINAL_LINK = \"https://stackoverflow.com/questions/11350770/filter-pandas-dataframe-by-substring-criteria\"\n",
    "\n",
    "    def answer():\n",
    "        raise NotImplementedError\n",
    "        \n",
    "    # optional markdown solution for easier reading\n",
    "    MARKDOWN_SOLUTION = \"\"\n",
    "if __name__ == \"__main__\":\n",
    "    Post.answer()"
   ]
  },
  {
   "cell_type": "markdown",
   "id": "83b4a7ec",
   "metadata": {},
   "source": [
    "### 26: Shuffle DataFrame rows\n",
    "---"
   ]
  },
  {
   "cell_type": "markdown",
   "id": "a465499a",
   "metadata": {},
   "source": [
    "<p>I have the following DataFrame:</p><br><pre><code>    Col1  Col2  Col3  Type<br>0      1     2     3     1<br>1      4     5     6     1<br>...<br>20     7     8     9     2<br>21    10    11    12     2<br>...<br>45    13    14    15     3<br>46    16    17    18     3<br>...<br></code></pre><br><p>The DataFrame is read from a CSV file. All rows which have <code>Type</code> 1 are on top, followed by the rows with <code>Type</code> 2, followed by the rows with <code>Type</code> 3, etc.</p><br><p>I would like to shuffle the order of the DataFrames rows so that all <code>Type</code>s are mixed. A possible result could be:</p><br><pre><code>    Col1  Col2  Col3  Type<br>0      7     8     9     2<br>1     13    14    15     3<br>...<br>20     1     2     3     1<br>21    10    11    12     2<br>...<br>45     4     5     6     1<br>46    16    17    18     3<br>...<br></code></pre><br><p>How can I achieve this?</p><br>"
   ]
  },
  {
   "cell_type": "code",
   "execution_count": null,
   "id": "b24776c9",
   "metadata": {},
   "outputs": [],
   "source": [
    "class Post:\n",
    "    # Please do not modify these unless it is very intentional\n",
    "    __TAGS = ['python', 'pandas', 'dataframe', 'permutation', 'shuffle']\n",
    "    __TITLE = \"Shuffle DataFrame rows\"\n",
    "    __QUESTION = \"<p>I have the following DataFrame:</p><br><pre><code>    Col1  Col2  Col3  Type<br>0      1     2     3     1<br>1      4     5     6     1<br>...<br>20     7     8     9     2<br>21    10    11    12     2<br>...<br>45    13    14    15     3<br>46    16    17    18     3<br>...<br></code></pre><br><p>The DataFrame is read from a CSV file. All rows which have <code>Type</code> 1 are on top, followed by the rows with <code>Type</code> 2, followed by the rows with <code>Type</code> 3, etc.</p><br><p>I would like to shuffle the order of the DataFrames rows so that all <code>Type</code>s are mixed. A possible result could be:</p><br><pre><code>    Col1  Col2  Col3  Type<br>0      7     8     9     2<br>1     13    14    15     3<br>...<br>20     1     2     3     1<br>21    10    11    12     2<br>...<br>45     4     5     6     1<br>46    16    17    18     3<br>...<br></code></pre><br><p>How can I achieve this?</p><br>\"\n",
    "    __ORIGINAL_LINK = \"https://stackoverflow.com/questions/29576430/shuffle-dataframe-rows\"\n",
    "\n",
    "    def answer():\n",
    "        raise NotImplementedError\n",
    "        \n",
    "    # optional markdown solution for easier reading\n",
    "    MARKDOWN_SOLUTION = \"\"\n",
    "if __name__ == \"__main__\":\n",
    "    Post.answer()"
   ]
  },
  {
   "cell_type": "markdown",
   "id": "2dc61f40",
   "metadata": {},
   "source": [
    "### 27: How to filter Pandas dataframe using &#39;in&#39; and &#39;not in&#39; like in SQL\n",
    "---"
   ]
  },
  {
   "cell_type": "markdown",
   "id": "0ed977b9",
   "metadata": {},
   "source": [
    "<p>How can I achieve the equivalents of SQLs <code>IN</code> and <code>NOT IN</code>?</p><br><p>I have a list with the required values.<br>Heres the scenario:</p><br><pre><code>df = pd.DataFrame({country: [US, UK, Germany, China]})<br>countries_to_keep = [UK, China]<br><br># pseudo-code:<br>df[df[country] not in countries_to_keep]<br></code></pre><br><p>My current way of doing this is as follows:</p><br><pre><code>df = pd.DataFrame({country: [US, UK, Germany, China]})<br>df2 = pd.DataFrame({country: [UK, China], matched: True})<br><br># IN<br>df.merge(df2, how=inner, on=country)<br><br># NOT IN<br>not_in = df.merge(df2, how=left, on=country)<br>not_in = not_in[pd.isnull(not_in[matched])]<br></code></pre><br><p>But this seems like a horrible kludge. Can anyone improve on it?</p><br>"
   ]
  },
  {
   "cell_type": "code",
   "execution_count": null,
   "id": "d4e50ead",
   "metadata": {},
   "outputs": [],
   "source": [
    "class Post:\n",
    "    # Please do not modify these unless it is very intentional\n",
    "    __TAGS = ['python', 'pandas', 'dataframe', 'sql-function']\n",
    "    __TITLE = \"How to filter Pandas dataframe using &#39;in&#39; and &#39;not in&#39; like in SQL\"\n",
    "    __QUESTION = \"<p>How can I achieve the equivalents of SQLs <code>IN</code> and <code>NOT IN</code>?</p><br><p>I have a list with the required values.<br>Heres the scenario:</p><br><pre><code>df = pd.DataFrame({country: [US, UK, Germany, China]})<br>countries_to_keep = [UK, China]<br><br># pseudo-code:<br>df[df[country] not in countries_to_keep]<br></code></pre><br><p>My current way of doing this is as follows:</p><br><pre><code>df = pd.DataFrame({country: [US, UK, Germany, China]})<br>df2 = pd.DataFrame({country: [UK, China], matched: True})<br><br># IN<br>df.merge(df2, how=inner, on=country)<br><br># NOT IN<br>not_in = df.merge(df2, how=left, on=country)<br>not_in = not_in[pd.isnull(not_in[matched])]<br></code></pre><br><p>But this seems like a horrible kludge. Can anyone improve on it?</p><br>\"\n",
    "    __ORIGINAL_LINK = \"https://stackoverflow.com/questions/19960077/how-to-filter-pandas-dataframe-using-in-and-not-in-like-in-sql\"\n",
    "\n",
    "    def answer():\n",
    "        raise NotImplementedError\n",
    "        \n",
    "    # optional markdown solution for easier reading\n",
    "    MARKDOWN_SOLUTION = \"\"\n",
    "if __name__ == \"__main__\":\n",
    "    Post.answer()"
   ]
  },
  {
   "cell_type": "markdown",
   "id": "ddb1dfec",
   "metadata": {},
   "source": [
    "### 28: How to convert index of a pandas dataframe into a column\n",
    "---"
   ]
  },
  {
   "cell_type": "markdown",
   "id": "38cdfae3",
   "metadata": {},
   "source": [
    "<p>This seems rather obvious, but I cant seem to figure out how to convert an index of data frame to a column?</p><br><br><p>For example:</p><br><br><pre><code>df=<br>        gi       ptt_loc<br> 0  384444683      593  <br> 1  384444684      594 <br> 2  384444686      596  <br></code></pre><br><br><p>To,</p><br><br><pre><code>df=<br>    index1    gi       ptt_loc<br> 0  0     384444683      593  <br> 1  1     384444684      594 <br> 2  2     384444686      596  <br></code></pre><br>"
   ]
  },
  {
   "cell_type": "code",
   "execution_count": null,
   "id": "d73a400f",
   "metadata": {},
   "outputs": [],
   "source": [
    "class Post:\n",
    "    # Please do not modify these unless it is very intentional\n",
    "    __TAGS = ['python', 'pandas', 'dataframe', 'indexing', 'series']\n",
    "    __TITLE = \"How to convert index of a pandas dataframe into a column\"\n",
    "    __QUESTION = \"<p>This seems rather obvious, but I cant seem to figure out how to convert an index of data frame to a column?</p><br><br><p>For example:</p><br><br><pre><code>df=<br>        gi       ptt_loc<br> 0  384444683      593  <br> 1  384444684      594 <br> 2  384444686      596  <br></code></pre><br><br><p>To,</p><br><br><pre><code>df=<br>    index1    gi       ptt_loc<br> 0  0     384444683      593  <br> 1  1     384444684      594 <br> 2  2     384444686      596  <br></code></pre><br>\"\n",
    "    __ORIGINAL_LINK = \"https://stackoverflow.com/questions/20461165/how-to-convert-index-of-a-pandas-dataframe-into-a-column\"\n",
    "\n",
    "    def answer():\n",
    "        raise NotImplementedError\n",
    "        \n",
    "    # optional markdown solution for easier reading\n",
    "    MARKDOWN_SOLUTION = \"\"\n",
    "if __name__ == \"__main__\":\n",
    "    Post.answer()"
   ]
  },
  {
   "cell_type": "markdown",
   "id": "58c3f6c5",
   "metadata": {},
   "source": [
    "### 29: Truth value of a Series is ambiguous. Use a.empty, a.bool(), a.item(), a.any() or a.all()\n",
    "---"
   ]
  },
  {
   "cell_type": "markdown",
   "id": "69e9b0b3",
   "metadata": {},
   "source": [
    "<p>I want to filter my dataframe with an <code>or</code> condition to keep rows with a particular columns values that are outside the range <code>[-0.25, 0.25]</code>. I tried:</p><br><pre><code>df = df[(df[col] &lt; -0.25) or (df[col] &gt; 0.25)]<br></code></pre><br><p>But I get the error:</p><br><blockquote><br><p>Truth value of a Series is ambiguous. Use a.empty, a.bool(), a.item(), a.any() or a.all()</p><br></blockquote><br>"
   ]
  },
  {
   "cell_type": "code",
   "execution_count": null,
   "id": "38616acc",
   "metadata": {},
   "outputs": [],
   "source": [
    "class Post:\n",
    "    # Please do not modify these unless it is very intentional\n",
    "    __TAGS = ['python', 'pandas', 'dataframe', 'boolean', 'filtering']\n",
    "    __TITLE = \"Truth value of a Series is ambiguous. Use a.empty, a.bool(), a.item(), a.any() or a.all()\"\n",
    "    __QUESTION = \"<p>I want to filter my dataframe with an <code>or</code> condition to keep rows with a particular columns values that are outside the range <code>[-0.25, 0.25]</code>. I tried:</p><br><pre><code>df = df[(df[col] &lt; -0.25) or (df[col] &gt; 0.25)]<br></code></pre><br><p>But I get the error:</p><br><blockquote><br><p>Truth value of a Series is ambiguous. Use a.empty, a.bool(), a.item(), a.any() or a.all()</p><br></blockquote><br>\"\n",
    "    __ORIGINAL_LINK = \"https://stackoverflow.com/questions/36921951/truth-value-of-a-series-is-ambiguous-use-a-empty-a-bool-a-item-a-any-o\"\n",
    "\n",
    "    def answer():\n",
    "        raise NotImplementedError\n",
    "        \n",
    "    # optional markdown solution for easier reading\n",
    "    MARKDOWN_SOLUTION = \"\"\n",
    "if __name__ == \"__main__\":\n",
    "    Post.answer()"
   ]
  },
  {
   "cell_type": "markdown",
   "id": "4e2938a9",
   "metadata": {},
   "source": [
    "### 30: How to count the NaN values in a column in pandas DataFrame\n",
    "---"
   ]
  },
  {
   "cell_type": "markdown",
   "id": "5a06ea4b",
   "metadata": {},
   "source": [
    "<p>I want to find the number of <code>NaN</code> in each column of my data so that I can drop a column if it has fewer <code>NaN</code> than some threshold. I looked but wasnt able to find any function for this.  <a href=https://pandas.pydata.org/pandas-docs/stable/generated/pandas.Series.value_counts.html rel=noreferrer><code>value_counts</code></a> is too slow for me because most of the values are distinct and Im only interested in the <code>NaN</code> count.</p><br>"
   ]
  },
  {
   "cell_type": "code",
   "execution_count": null,
   "id": "98edabde",
   "metadata": {},
   "outputs": [],
   "source": [
    "class Post:\n",
    "    # Please do not modify these unless it is very intentional\n",
    "    __TAGS = ['python', 'pandas', 'dataframe']\n",
    "    __TITLE = \"How to count the NaN values in a column in pandas DataFrame\"\n",
    "    __QUESTION = \"<p>I want to find the number of <code>NaN</code> in each column of my data so that I can drop a column if it has fewer <code>NaN</code> than some threshold. I looked but wasnt able to find any function for this.  <a href=https://pandas.pydata.org/pandas-docs/stable/generated/pandas.Series.value_counts.html rel=noreferrer><code>value_counts</code></a> is too slow for me because most of the values are distinct and Im only interested in the <code>NaN</code> count.</p><br>\"\n",
    "    __ORIGINAL_LINK = \"https://stackoverflow.com/questions/26266362/how-to-count-the-nan-values-in-a-column-in-pandas-dataframe\"\n",
    "\n",
    "    def answer():\n",
    "        raise NotImplementedError\n",
    "        \n",
    "    # optional markdown solution for easier reading\n",
    "    MARKDOWN_SOLUTION = \"\"\n",
    "if __name__ == \"__main__\":\n",
    "    Post.answer()"
   ]
  },
  {
   "cell_type": "markdown",
   "id": "d0eb852b",
   "metadata": {},
   "source": [
    "### 31: Set value for particular cell in pandas DataFrame using index\n",
    "---"
   ]
  },
  {
   "cell_type": "markdown",
   "id": "e150900a",
   "metadata": {},
   "source": [
    "<p>I have created a Pandas DataFrame</p><br><pre><code>df = DataFrame(index=[A,B,C], columns=[x,y])<br></code></pre><br><p>and have got this</p><br><pre><br>    x    y<br>A  NaN  NaN<br>B  NaN  NaN<br>C  NaN  NaN<br></pre><br><p>Now, I would like to assign a value to particular cell, for example to row <code>C</code> and column <code>x</code>.<br>I would expect to get this result:</p><br><pre><br>    x    y<br>A  NaN  NaN<br>B  NaN  NaN<br>C  10  NaN<br></pre><br><p>with this code:</p><br><pre><code>df.xs(C)[x] = 10<br></code></pre><br><p>However, the contents of <code>df</code> has not changed. The dataframe contains yet again only <code>NaN</code>s.</p><br><p>Any suggestions?</p><br>"
   ]
  },
  {
   "cell_type": "code",
   "execution_count": null,
   "id": "9ca659d8",
   "metadata": {},
   "outputs": [],
   "source": [
    "class Post:\n",
    "    # Please do not modify these unless it is very intentional\n",
    "    __TAGS = ['python', 'pandas', 'dataframe', 'cell', 'nan']\n",
    "    __TITLE = \"Set value for particular cell in pandas DataFrame using index\"\n",
    "    __QUESTION = \"<p>I have created a Pandas DataFrame</p><br><pre><code>df = DataFrame(index=[A,B,C], columns=[x,y])<br></code></pre><br><p>and have got this</p><br><pre><br>    x    y<br>A  NaN  NaN<br>B  NaN  NaN<br>C  NaN  NaN<br></pre><br><p>Now, I would like to assign a value to particular cell, for example to row <code>C</code> and column <code>x</code>.<br>I would expect to get this result:</p><br><pre><br>    x    y<br>A  NaN  NaN<br>B  NaN  NaN<br>C  10  NaN<br></pre><br><p>with this code:</p><br><pre><code>df.xs(C)[x] = 10<br></code></pre><br><p>However, the contents of <code>df</code> has not changed. The dataframe contains yet again only <code>NaN</code>s.</p><br><p>Any suggestions?</p><br>\"\n",
    "    __ORIGINAL_LINK = \"https://stackoverflow.com/questions/13842088/set-value-for-particular-cell-in-pandas-dataframe-using-index\"\n",
    "\n",
    "    def answer():\n",
    "        raise NotImplementedError\n",
    "        \n",
    "    # optional markdown solution for easier reading\n",
    "    MARKDOWN_SOLUTION = \"\"\n",
    "if __name__ == \"__main__\":\n",
    "    Post.answer()"
   ]
  },
  {
   "cell_type": "markdown",
   "id": "3e93013c",
   "metadata": {},
   "source": [
    "### 32: Get statistics for each group (such as count, mean, etc) using pandas GroupBy?\n",
    "---"
   ]
  },
  {
   "cell_type": "markdown",
   "id": "7619429a",
   "metadata": {},
   "source": [
    "<p>I have a data frame <code>df</code> and I use several columns from it to <code>groupby</code>:</p><br><br><pre><code>df[col1,col2,col3,col4].groupby([col1,col2]).mean()<br></code></pre><br><br><p>In the above way I almost get the table (data frame) that I need. What is missing is an additional column that contains number of rows in each group. In other words, I have mean but I also would like to know how many number were used to get these means. For example in the first group there are 8 values and in the second one 10 and so on.</p><br><br><p>In short: How do I get <strong>group-wise</strong> statistics for a dataframe?</p><br>"
   ]
  },
  {
   "cell_type": "code",
   "execution_count": null,
   "id": "547debdb",
   "metadata": {},
   "outputs": [],
   "source": [
    "class Post:\n",
    "    # Please do not modify these unless it is very intentional\n",
    "    __TAGS = ['python', 'pandas', 'dataframe', 'group-by', 'pandas-groupby']\n",
    "    __TITLE = \"Get statistics for each group (such as count, mean, etc) using pandas GroupBy?\"\n",
    "    __QUESTION = \"<p>I have a data frame <code>df</code> and I use several columns from it to <code>groupby</code>:</p><br><br><pre><code>df[col1,col2,col3,col4].groupby([col1,col2]).mean()<br></code></pre><br><br><p>In the above way I almost get the table (data frame) that I need. What is missing is an additional column that contains number of rows in each group. In other words, I have mean but I also would like to know how many number were used to get these means. For example in the first group there are 8 values and in the second one 10 and so on.</p><br><br><p>In short: How do I get <strong>group-wise</strong> statistics for a dataframe?</p><br>\"\n",
    "    __ORIGINAL_LINK = \"https://stackoverflow.com/questions/19384532/get-statistics-for-each-group-such-as-count-mean-etc-using-pandas-groupby\"\n",
    "\n",
    "    def answer():\n",
    "        raise NotImplementedError\n",
    "        \n",
    "    # optional markdown solution for easier reading\n",
    "    MARKDOWN_SOLUTION = \"\"\n",
    "if __name__ == \"__main__\":\n",
    "    Post.answer()"
   ]
  },
  {
   "cell_type": "markdown",
   "id": "f44faa0d",
   "metadata": {},
   "source": [
    "### 33: Import multiple csv files into pandas and concatenate into one DataFrame\n",
    "---"
   ]
  },
  {
   "cell_type": "markdown",
   "id": "139ad1fc",
   "metadata": {},
   "source": [
    "<p>I would like to read several csv files from a directory into pandas and concatenate them into one big DataFrame. I have not been able to figure it out though. Here is what I have so far:</p><br><br><pre><code>import glob<br>import pandas as pd<br><br># get data file names<br>path =rC:\\DRO\\DCL_rawdata_files<br>filenames = glob.glob(path + /*.csv)<br><br>dfs = []<br>for filename in filenames:<br>    dfs.append(pd.read_csv(filename))<br><br># Concatenate all data into one DataFrame<br>big_frame = pd.concat(dfs, ignore_index=True)<br></code></pre><br><br><p>I guess I need some help within the for loop???</p><br>"
   ]
  },
  {
   "cell_type": "code",
   "execution_count": null,
   "id": "8a71f5f4",
   "metadata": {},
   "outputs": [],
   "source": [
    "class Post:\n",
    "    # Please do not modify these unless it is very intentional\n",
    "    __TAGS = ['python', 'pandas', 'csv', 'dataframe', 'concatenation']\n",
    "    __TITLE = \"Import multiple csv files into pandas and concatenate into one DataFrame\"\n",
    "    __QUESTION = \"<p>I would like to read several csv files from a directory into pandas and concatenate them into one big DataFrame. I have not been able to figure it out though. Here is what I have so far:</p><br><br><pre><code>import glob<br>import pandas as pd<br><br># get data file names<br>path =rC:\\DRO\\DCL_rawdata_files<br>filenames = glob.glob(path + /*.csv)<br><br>dfs = []<br>for filename in filenames:<br>    dfs.append(pd.read_csv(filename))<br><br># Concatenate all data into one DataFrame<br>big_frame = pd.concat(dfs, ignore_index=True)<br></code></pre><br><br><p>I guess I need some help within the for loop???</p><br>\"\n",
    "    __ORIGINAL_LINK = \"https://stackoverflow.com/questions/20906474/import-multiple-csv-files-into-pandas-and-concatenate-into-one-dataframe\"\n",
    "\n",
    "    def answer():\n",
    "        raise NotImplementedError\n",
    "        \n",
    "    # optional markdown solution for easier reading\n",
    "    MARKDOWN_SOLUTION = \"\"\n",
    "if __name__ == \"__main__\":\n",
    "    Post.answer()"
   ]
  },
  {
   "cell_type": "markdown",
   "id": "ce8ecf7f",
   "metadata": {},
   "source": [
    "### 34: How to avoid Python/Pandas creating an index in a saved csv?\n",
    "---"
   ]
  },
  {
   "cell_type": "markdown",
   "id": "8648d6f8",
   "metadata": {},
   "source": [
    "<p>I am trying to save a csv to a folder after making some edits to the file. </p><br><br><p>Every time I use <code>pd.to_csv(C:/Path of file.csv)</code> the csv file has a separate column of indexes. I want to avoid printing the index to csv.</p><br><br><p>I tried: </p><br><br><pre><code>pd.read_csv(C:/Path to file to edit.csv, index_col = False)<br></code></pre><br><br><p>And to save the file...</p><br><br><pre><code>pd.to_csv(C:/Path to save edited file.csv, index_col = False)<br></code></pre><br><br><p>However, I still got the unwanted index column. How can I avoid this when I save my files?</p><br>"
   ]
  },
  {
   "cell_type": "code",
   "execution_count": null,
   "id": "7db5cd5e",
   "metadata": {},
   "outputs": [],
   "source": [
    "class Post:\n",
    "    # Please do not modify these unless it is very intentional\n",
    "    __TAGS = ['python', 'csv', 'indexing', 'pandas']\n",
    "    __TITLE = \"How to avoid Python/Pandas creating an index in a saved csv?\"\n",
    "    __QUESTION = \"<p>I am trying to save a csv to a folder after making some edits to the file. </p><br><br><p>Every time I use <code>pd.to_csv(C:/Path of file.csv)</code> the csv file has a separate column of indexes. I want to avoid printing the index to csv.</p><br><br><p>I tried: </p><br><br><pre><code>pd.read_csv(C:/Path to file to edit.csv, index_col = False)<br></code></pre><br><br><p>And to save the file...</p><br><br><pre><code>pd.to_csv(C:/Path to save edited file.csv, index_col = False)<br></code></pre><br><br><p>However, I still got the unwanted index column. How can I avoid this when I save my files?</p><br>\"\n",
    "    __ORIGINAL_LINK = \"https://stackoverflow.com/questions/20845213/how-to-avoid-python-pandas-creating-an-index-in-a-saved-csv\"\n",
    "\n",
    "    def answer():\n",
    "        raise NotImplementedError\n",
    "        \n",
    "    # optional markdown solution for easier reading\n",
    "    MARKDOWN_SOLUTION = \"\"\n",
    "if __name__ == \"__main__\":\n",
    "    Post.answer()"
   ]
  },
  {
   "cell_type": "markdown",
   "id": "b47f533e",
   "metadata": {},
   "source": [
    "### 35: Convert pandas dataframe to NumPy array\n",
    "---"
   ]
  },
  {
   "cell_type": "markdown",
   "id": "16dc49db",
   "metadata": {},
   "source": [
    "<p>How do I convert a pandas dataframe into a NumPy array?</p><br><p>DataFrame:</p><br><pre><code>import numpy as np<br>import pandas as pd<br><br>index = [1, 2, 3, 4, 5, 6, 7]<br>a = [np.nan, np.nan, np.nan, 0.1, 0.1, 0.1, 0.1]<br>b = [0.2, np.nan, 0.2, 0.2, 0.2, np.nan, np.nan]<br>c = [np.nan, 0.5, 0.5, np.nan, 0.5, 0.5, np.nan]<br>df = pd.DataFrame({A: a, B: b, C: c}, index=index)<br>df = df.rename_axis(ID)<br></code></pre><br><p>gives</p><br><pre><code>label   A    B    C<br>ID                                 <br>1   NaN  0.2  NaN<br>2   NaN  NaN  0.5<br>3   NaN  0.2  0.5<br>4   0.1  0.2  NaN<br>5   0.1  0.2  0.5<br>6   0.1  NaN  0.5<br>7   0.1  NaN  NaN<br></code></pre><br><p>I would like to convert this to a NumPy array, like so:</p><br><pre><code>array([[ nan,  0.2,  nan],<br>       [ nan,  nan,  0.5],<br>       [ nan,  0.2,  0.5],<br>       [ 0.1,  0.2,  nan],<br>       [ 0.1,  0.2,  0.5],<br>       [ 0.1,  nan,  0.5],<br>       [ 0.1,  nan,  nan]])<br></code></pre><br><hr /><br><p>Also, is it possible to preserve the dtypes, like this?</p><br><pre><code>array([[ 1, nan,  0.2,  nan],<br>       [ 2, nan,  nan,  0.5],<br>       [ 3, nan,  0.2,  0.5],<br>       [ 4, 0.1,  0.2,  nan],<br>       [ 5, 0.1,  0.2,  0.5],<br>       [ 6, 0.1,  nan,  0.5],<br>       [ 7, 0.1,  nan,  nan]],<br>     dtype=[(ID, &lt;i4), (A, &lt;f8), (B, &lt;f8), (B, &lt;f8)])<br></code></pre><br>"
   ]
  },
  {
   "cell_type": "code",
   "execution_count": null,
   "id": "b78cf3ce",
   "metadata": {},
   "outputs": [],
   "source": [
    "class Post:\n",
    "    # Please do not modify these unless it is very intentional\n",
    "    __TAGS = ['python', 'arrays', 'pandas', 'numpy', 'dataframe']\n",
    "    __TITLE = \"Convert pandas dataframe to NumPy array\"\n",
    "    __QUESTION = \"<p>How do I convert a pandas dataframe into a NumPy array?</p><br><p>DataFrame:</p><br><pre><code>import numpy as np<br>import pandas as pd<br><br>index = [1, 2, 3, 4, 5, 6, 7]<br>a = [np.nan, np.nan, np.nan, 0.1, 0.1, 0.1, 0.1]<br>b = [0.2, np.nan, 0.2, 0.2, 0.2, np.nan, np.nan]<br>c = [np.nan, 0.5, 0.5, np.nan, 0.5, 0.5, np.nan]<br>df = pd.DataFrame({A: a, B: b, C: c}, index=index)<br>df = df.rename_axis(ID)<br></code></pre><br><p>gives</p><br><pre><code>label   A    B    C<br>ID                                 <br>1   NaN  0.2  NaN<br>2   NaN  NaN  0.5<br>3   NaN  0.2  0.5<br>4   0.1  0.2  NaN<br>5   0.1  0.2  0.5<br>6   0.1  NaN  0.5<br>7   0.1  NaN  NaN<br></code></pre><br><p>I would like to convert this to a NumPy array, like so:</p><br><pre><code>array([[ nan,  0.2,  nan],<br>       [ nan,  nan,  0.5],<br>       [ nan,  0.2,  0.5],<br>       [ 0.1,  0.2,  nan],<br>       [ 0.1,  0.2,  0.5],<br>       [ 0.1,  nan,  0.5],<br>       [ 0.1,  nan,  nan]])<br></code></pre><br><hr /><br><p>Also, is it possible to preserve the dtypes, like this?</p><br><pre><code>array([[ 1, nan,  0.2,  nan],<br>       [ 2, nan,  nan,  0.5],<br>       [ 3, nan,  0.2,  0.5],<br>       [ 4, 0.1,  0.2,  nan],<br>       [ 5, 0.1,  0.2,  0.5],<br>       [ 6, 0.1,  nan,  0.5],<br>       [ 7, 0.1,  nan,  nan]],<br>     dtype=[(ID, &lt;i4), (A, &lt;f8), (B, &lt;f8), (B, &lt;f8)])<br></code></pre><br>\"\n",
    "    __ORIGINAL_LINK = \"https://stackoverflow.com/questions/13187778/convert-pandas-dataframe-to-numpy-array\"\n",
    "\n",
    "    def answer():\n",
    "        raise NotImplementedError\n",
    "        \n",
    "    # optional markdown solution for easier reading\n",
    "    MARKDOWN_SOLUTION = \"\"\n",
    "if __name__ == \"__main__\":\n",
    "    Post.answer()"
   ]
  },
  {
   "cell_type": "markdown",
   "id": "49cc2579",
   "metadata": {},
   "source": [
    "### 36: Converting a Pandas GroupBy output from Series to DataFrame\n",
    "---"
   ]
  },
  {
   "cell_type": "markdown",
   "id": "320b98b3",
   "metadata": {},
   "source": [
    "<p>Im starting with input data like this</p><br><br><pre><code>df1 = pandas.DataFrame( { <br>    Name : [Alice, Bob, Mallory, Mallory, Bob , Mallory] , <br>    City : [Seattle, Seattle, Portland, Seattle, Seattle, Portland] } )<br></code></pre><br><br><p>Which when printed appears as this:</p><br><br><pre><code>   City     Name<br>0   Seattle    Alice<br>1   Seattle      Bob<br>2  Portland  Mallory<br>3   Seattle  Mallory<br>4   Seattle      Bob<br>5  Portland  Mallory<br></code></pre><br><br><p>Grouping is simple enough:</p><br><br><pre><code>g1 = df1.groupby( [ Name, City] ).count()<br></code></pre><br><br><p>and printing yields a <code>GroupBy</code> object:</p><br><br><pre><code>                  City  Name<br>Name    City<br>Alice   Seattle      1     1<br>Bob     Seattle      2     2<br>Mallory Portland     2     2<br>        Seattle      1     1<br></code></pre><br><br><p>But what I want eventually is another DataFrame object that contains all the rows in the GroupBy object. In other words I want to get the following result:</p><br><br><pre><code>                  City  Name<br>Name    City<br>Alice   Seattle      1     1<br>Bob     Seattle      2     2<br>Mallory Portland     2     2<br>Mallory Seattle      1     1<br></code></pre><br><br><p>I cant quite see how to accomplish this in the pandas documentation. Any hints would be welcome.</p><br>"
   ]
  },
  {
   "cell_type": "code",
   "execution_count": null,
   "id": "dd685d3a",
   "metadata": {},
   "outputs": [],
   "source": [
    "class Post:\n",
    "    # Please do not modify these unless it is very intentional\n",
    "    __TAGS = ['python', 'pandas', 'dataframe', 'pandas-groupby', 'multi-index']\n",
    "    __TITLE = \"Converting a Pandas GroupBy output from Series to DataFrame\"\n",
    "    __QUESTION = \"<p>Im starting with input data like this</p><br><br><pre><code>df1 = pandas.DataFrame( { <br>    Name : [Alice, Bob, Mallory, Mallory, Bob , Mallory] , <br>    City : [Seattle, Seattle, Portland, Seattle, Seattle, Portland] } )<br></code></pre><br><br><p>Which when printed appears as this:</p><br><br><pre><code>   City     Name<br>0   Seattle    Alice<br>1   Seattle      Bob<br>2  Portland  Mallory<br>3   Seattle  Mallory<br>4   Seattle      Bob<br>5  Portland  Mallory<br></code></pre><br><br><p>Grouping is simple enough:</p><br><br><pre><code>g1 = df1.groupby( [ Name, City] ).count()<br></code></pre><br><br><p>and printing yields a <code>GroupBy</code> object:</p><br><br><pre><code>                  City  Name<br>Name    City<br>Alice   Seattle      1     1<br>Bob     Seattle      2     2<br>Mallory Portland     2     2<br>        Seattle      1     1<br></code></pre><br><br><p>But what I want eventually is another DataFrame object that contains all the rows in the GroupBy object. In other words I want to get the following result:</p><br><br><pre><code>                  City  Name<br>Name    City<br>Alice   Seattle      1     1<br>Bob     Seattle      2     2<br>Mallory Portland     2     2<br>Mallory Seattle      1     1<br></code></pre><br><br><p>I cant quite see how to accomplish this in the pandas documentation. Any hints would be welcome.</p><br>\"\n",
    "    __ORIGINAL_LINK = \"https://stackoverflow.com/questions/10373660/converting-a-pandas-groupby-output-from-series-to-dataframe\"\n",
    "\n",
    "    def answer():\n",
    "        raise NotImplementedError\n",
    "        \n",
    "    # optional markdown solution for easier reading\n",
    "    MARKDOWN_SOLUTION = \"\"\n",
    "if __name__ == \"__main__\":\n",
    "    Post.answer()"
   ]
  },
  {
   "cell_type": "markdown",
   "id": "5c87ed90",
   "metadata": {},
   "source": [
    "### 37: Difference between map, applymap and apply methods in Pandas\n",
    "---"
   ]
  },
  {
   "cell_type": "markdown",
   "id": "8f601925",
   "metadata": {},
   "source": [
    "<p>Can you tell me when to use these vectorization methods with basic examples? </p><br><br><p>I see that <code>map</code> is a <code>Series</code> method whereas the rest are <code>DataFrame</code> methods. I got confused about <code>apply</code> and <code>applymap</code> methods though. Why do we have two methods for applying a function to a DataFrame? Again, simple examples which illustrate the usage would be great!</p><br>"
   ]
  },
  {
   "cell_type": "code",
   "execution_count": null,
   "id": "d1808646",
   "metadata": {},
   "outputs": [],
   "source": [
    "class Post:\n",
    "    # Please do not modify these unless it is very intentional\n",
    "    __TAGS = ['python', 'pandas', 'dataframe', 'vectorization']\n",
    "    __TITLE = \"Difference between map, applymap and apply methods in Pandas\"\n",
    "    __QUESTION = \"<p>Can you tell me when to use these vectorization methods with basic examples? </p><br><br><p>I see that <code>map</code> is a <code>Series</code> method whereas the rest are <code>DataFrame</code> methods. I got confused about <code>apply</code> and <code>applymap</code> methods though. Why do we have two methods for applying a function to a DataFrame? Again, simple examples which illustrate the usage would be great!</p><br>\"\n",
    "    __ORIGINAL_LINK = \"https://stackoverflow.com/questions/19798153/difference-between-map-applymap-and-apply-methods-in-pandas\"\n",
    "\n",
    "    def answer():\n",
    "        raise NotImplementedError\n",
    "        \n",
    "    # optional markdown solution for easier reading\n",
    "    MARKDOWN_SOLUTION = \"\"\n",
    "if __name__ == \"__main__\":\n",
    "    Post.answer()"
   ]
  },
  {
   "cell_type": "markdown",
   "id": "5e774625",
   "metadata": {},
   "source": [
    "### 38: How to check if any value is NaN in a Pandas DataFrame\n",
    "---"
   ]
  },
  {
   "cell_type": "markdown",
   "id": "a3dce8f8",
   "metadata": {},
   "source": [
    "<p>In Python Pandas, whats the best way to check whether a DataFrame has one (or more) NaN values?</p><br><br><p>I know about the function <code>pd.isnan</code>, but this returns a DataFrame of booleans for each element. <a href=https://stackoverflow.com/questions/27754891/python-nan-value-in-pandas>This post</a> right here doesnt exactly answer my question either.</p><br>"
   ]
  },
  {
   "cell_type": "code",
   "execution_count": null,
   "id": "3448b35a",
   "metadata": {},
   "outputs": [],
   "source": [
    "class Post:\n",
    "    # Please do not modify these unless it is very intentional\n",
    "    __TAGS = ['python', 'pandas', 'dataframe', 'nan']\n",
    "    __TITLE = \"How to check if any value is NaN in a Pandas DataFrame\"\n",
    "    __QUESTION = \"<p>In Python Pandas, whats the best way to check whether a DataFrame has one (or more) NaN values?</p><br><br><p>I know about the function <code>pd.isnan</code>, but this returns a DataFrame of booleans for each element. <a href=https://stackoverflow.com/questions/27754891/python-nan-value-in-pandas>This post</a> right here doesnt exactly answer my question either.</p><br>\"\n",
    "    __ORIGINAL_LINK = \"https://stackoverflow.com/questions/29530232/how-to-check-if-any-value-is-nan-in-a-pandas-dataframe\"\n",
    "\n",
    "    def answer():\n",
    "        raise NotImplementedError\n",
    "        \n",
    "    # optional markdown solution for easier reading\n",
    "    MARKDOWN_SOLUTION = \"\"\n",
    "if __name__ == \"__main__\":\n",
    "    Post.answer()"
   ]
  },
  {
   "cell_type": "markdown",
   "id": "512bf22f",
   "metadata": {},
   "source": [
    "### 39: How to apply a function to two columns of Pandas dataframe\n",
    "---"
   ]
  },
  {
   "cell_type": "markdown",
   "id": "4465b116",
   "metadata": {},
   "source": [
    "<p>Suppose I have a <code>df</code> which has columns of <code>ID, col_1, col_2</code>. And I define a function :</p><br><br><p><code>f = lambda x, y : my_function_expression</code>.</p><br><br><p>Now I want to apply the <code>f</code> to <code>df</code>s two columns <code>col_1, col_2</code> to element-wise calculate a new column <code>col_3</code> , somewhat like :</p><br><br><pre><code>df[col_3] = df[[col_1,col_2]].apply(f)  <br># Pandas gives : TypeError: (&lt;lambda&gt;() takes exactly 2 arguments (1 given)<br></code></pre><br><br><p>How to do ?</p><br><br><p><em><strong></em>**<em></strong> Add detail sample as below <strong></em>***</strong></p><br><br><pre><code>import pandas as pd<br><br>df = pd.DataFrame({ID:[1,2,3], col_1: [0,2,3], col_2:[1,4,5]})<br>mylist = [a,b,c,d,e,f]<br><br>def get_sublist(sta,end):<br>    return mylist[sta:end+1]<br><br>#df[col_3] = df[[col_1,col_2]].apply(get_sublist,axis=1)<br># expect above to output df as below <br><br>  ID  col_1  col_2            col_3<br>0  1      0      1       [a, b]<br>1  2      2      4  [c, d, e]<br>2  3      3      5  [d, e, f]<br></code></pre><br>"
   ]
  },
  {
   "cell_type": "code",
   "execution_count": null,
   "id": "3f920939",
   "metadata": {},
   "outputs": [],
   "source": [
    "class Post:\n",
    "    # Please do not modify these unless it is very intentional\n",
    "    __TAGS = ['python', 'pandas', 'dataframe']\n",
    "    __TITLE = \"How to apply a function to two columns of Pandas dataframe\"\n",
    "    __QUESTION = \"<p>Suppose I have a <code>df</code> which has columns of <code>ID, col_1, col_2</code>. And I define a function :</p><br><br><p><code>f = lambda x, y : my_function_expression</code>.</p><br><br><p>Now I want to apply the <code>f</code> to <code>df</code>s two columns <code>col_1, col_2</code> to element-wise calculate a new column <code>col_3</code> , somewhat like :</p><br><br><pre><code>df[col_3] = df[[col_1,col_2]].apply(f)  <br># Pandas gives : TypeError: (&lt;lambda&gt;() takes exactly 2 arguments (1 given)<br></code></pre><br><br><p>How to do ?</p><br><br><p><em><strong></em>**<em></strong> Add detail sample as below <strong></em>***</strong></p><br><br><pre><code>import pandas as pd<br><br>df = pd.DataFrame({ID:[1,2,3], col_1: [0,2,3], col_2:[1,4,5]})<br>mylist = [a,b,c,d,e,f]<br><br>def get_sublist(sta,end):<br>    return mylist[sta:end+1]<br><br>#df[col_3] = df[[col_1,col_2]].apply(get_sublist,axis=1)<br># expect above to output df as below <br><br>  ID  col_1  col_2            col_3<br>0  1      0      1       [a, b]<br>1  2      2      4  [c, d, e]<br>2  3      3      5  [d, e, f]<br></code></pre><br>\"\n",
    "    __ORIGINAL_LINK = \"https://stackoverflow.com/questions/13331698/how-to-apply-a-function-to-two-columns-of-pandas-dataframe\"\n",
    "\n",
    "    def answer():\n",
    "        raise NotImplementedError\n",
    "        \n",
    "    # optional markdown solution for easier reading\n",
    "    MARKDOWN_SOLUTION = \"\"\n",
    "if __name__ == \"__main__\":\n",
    "    Post.answer()"
   ]
  },
  {
   "cell_type": "markdown",
   "id": "4f92df7f",
   "metadata": {},
   "source": [
    "### 40: Constructing pandas DataFrame from values in variables gives &quot;ValueError: If using all scalar values, you must pass an index&quot;\n",
    "---"
   ]
  },
  {
   "cell_type": "markdown",
   "id": "8512046b",
   "metadata": {},
   "source": [
    "<p>This may be a simple question, but I can not figure out how to do this. Lets say that I have two variables as follows.</p><br><br><pre><code>a = 2<br>b = 3<br></code></pre><br><br><p>I want to construct a DataFrame from this:</p><br><br><pre><code>df2 = pd.DataFrame({A:a,B:b})<br></code></pre><br><br><p>This generates an error:  </p><br><br><blockquote><br>  <p>ValueError: If using all scalar values, you must pass an index</p><br></blockquote><br><br><p>I tried this also:</p><br><br><pre><code>df2 = (pd.DataFrame({a:a,b:b})).reset_index()<br></code></pre><br><br><p>This gives the same error message.</p><br>"
   ]
  },
  {
   "cell_type": "code",
   "execution_count": null,
   "id": "72f0545b",
   "metadata": {},
   "outputs": [],
   "source": [
    "class Post:\n",
    "    # Please do not modify these unless it is very intentional\n",
    "    __TAGS = ['python', 'pandas', 'dataframe', 'scalar']\n",
    "    __TITLE = \"Constructing pandas DataFrame from values in variables gives &quot;ValueError: If using all scalar values, you must pass an index&quot;\"\n",
    "    __QUESTION = \"<p>This may be a simple question, but I can not figure out how to do this. Lets say that I have two variables as follows.</p><br><br><pre><code>a = 2<br>b = 3<br></code></pre><br><br><p>I want to construct a DataFrame from this:</p><br><br><pre><code>df2 = pd.DataFrame({A:a,B:b})<br></code></pre><br><br><p>This generates an error:  </p><br><br><blockquote><br>  <p>ValueError: If using all scalar values, you must pass an index</p><br></blockquote><br><br><p>I tried this also:</p><br><br><pre><code>df2 = (pd.DataFrame({a:a,b:b})).reset_index()<br></code></pre><br><br><p>This gives the same error message.</p><br>\"\n",
    "    __ORIGINAL_LINK = \"https://stackoverflow.com/questions/17839973/constructing-pandas-dataframe-from-values-in-variables-gives-valueerror-if-usi\"\n",
    "\n",
    "    def answer():\n",
    "        raise NotImplementedError\n",
    "        \n",
    "    # optional markdown solution for easier reading\n",
    "    MARKDOWN_SOLUTION = \"\"\n",
    "if __name__ == \"__main__\":\n",
    "    Post.answer()"
   ]
  },
  {
   "cell_type": "markdown",
   "id": "63cf9c7c",
   "metadata": {},
   "source": [
    "### 41: How to get a value from a cell of a dataframe?\n",
    "---"
   ]
  },
  {
   "cell_type": "markdown",
   "id": "9f2e625b",
   "metadata": {},
   "source": [
    "<p>I have constructed a condition that extract exactly one row from my data frame:</p><br><br><pre><code>d2 = df[(df[l_ext]==l_ext) &amp; (df[item]==item) &amp; (df[wn]==wn) &amp; (df[wd]==1)]<br></code></pre><br><br><p>Now I would like to take a value from a particular column:</p><br><br><pre><code>val = d2[col_name]<br></code></pre><br><br><p>But as a result I get a data frame that contains one row and one column (<em>i.e.</em> one cell). It is not what I need. I need one value (one float number). How can I do it in pandas?</p><br>"
   ]
  },
  {
   "cell_type": "code",
   "execution_count": null,
   "id": "675b4bd4",
   "metadata": {},
   "outputs": [],
   "source": [
    "class Post:\n",
    "    # Please do not modify these unless it is very intentional\n",
    "    __TAGS = ['python', 'pandas', 'dataframe']\n",
    "    __TITLE = \"How to get a value from a cell of a dataframe?\"\n",
    "    __QUESTION = \"<p>I have constructed a condition that extract exactly one row from my data frame:</p><br><br><pre><code>d2 = df[(df[l_ext]==l_ext) &amp; (df[item]==item) &amp; (df[wn]==wn) &amp; (df[wd]==1)]<br></code></pre><br><br><p>Now I would like to take a value from a particular column:</p><br><br><pre><code>val = d2[col_name]<br></code></pre><br><br><p>But as a result I get a data frame that contains one row and one column (<em>i.e.</em> one cell). It is not what I need. I need one value (one float number). How can I do it in pandas?</p><br>\"\n",
    "    __ORIGINAL_LINK = \"https://stackoverflow.com/questions/16729574/how-to-get-a-value-from-a-cell-of-a-dataframe\"\n",
    "\n",
    "    def answer():\n",
    "        raise NotImplementedError\n",
    "        \n",
    "    # optional markdown solution for easier reading\n",
    "    MARKDOWN_SOLUTION = \"\"\n",
    "if __name__ == \"__main__\":\n",
    "    Post.answer()"
   ]
  },
  {
   "cell_type": "markdown",
   "id": "ca71e10a",
   "metadata": {},
   "source": [
    "### 42: UnicodeDecodeError when reading CSV file in Pandas with Python\n",
    "---"
   ]
  },
  {
   "cell_type": "markdown",
   "id": "0578aea2",
   "metadata": {},
   "source": [
    "<p>Im running a program which is processing 30,000 similar files. A random number of them are stopping and producing this error...</p><br><pre><code>File &quot;C:\\Importer\\src\\dfman\\importer.py&quot;, line 26, in import_chr<br>     data = pd.read_csv(filepath, names=fields)<br>File &quot;C:\\Python33\\lib\\site-packages\\pandas\\io\\parsers.py&quot;, line 400, in parser_f<br>     return _read(filepath_or_buffer, kwds)<br>File &quot;C:\\Python33\\lib\\site-packages\\pandas\\io\\parsers.py&quot;, line 205, in _read<br>     return parser.read()<br>   File &quot;C:\\Python33\\lib\\site-packages\\pandas\\io\\parsers.py&quot;, line 608, in read<br>     ret = self._engine.read(nrows)<br>File &quot;C:\\Python33\\lib\\site-packages\\pandas\\io\\parsers.py&quot;, line 1028, in read<br>     data = self._reader.read(nrows)<br>File &quot;parser.pyx&quot;, line 706, in pandas.parser.TextReader.read (pandas\\parser.c:6745)<br>File &quot;parser.pyx&quot;, line 728, in pandas.parser.TextReader._read_low_memory (pandas\\parser.c:6964)<br>File &quot;parser.pyx&quot;, line 804, in pandas.parser.TextReader._read_rows (pandas\\parser.c:7780)<br>File &quot;parser.pyx&quot;, line 890, in pandas.parser.TextReader._convert_column_data (pandas\\parser.c:8793)<br>File &quot;parser.pyx&quot;, line 950, in pandas.parser.TextReader._convert_tokens (pandas\\parser.c:9484)<br>File &quot;parser.pyx&quot;, line 1026, in pandas.parser.TextReader._convert_with_dtype (pandas\\parser.c:10642)<br>File &quot;parser.pyx&quot;, line 1046, in pandas.parser.TextReader._string_convert (pandas\\parser.c:10853)<br>File &quot;parser.pyx&quot;, line 1278, in pandas.parser._string_box_utf8 (pandas\\parser.c:15657)<br>UnicodeDecodeError: utf-8 codec cant decode byte 0xda in position 6: invalid    continuation byte<br></code></pre><br><p>The source/creation of these files all come from the same place. Whats the best way to correct this to proceed with the import?</p><br>"
   ]
  },
  {
   "cell_type": "code",
   "execution_count": null,
   "id": "f1003f80",
   "metadata": {},
   "outputs": [],
   "source": [
    "class Post:\n",
    "    # Please do not modify these unless it is very intentional\n",
    "    __TAGS = ['python', 'pandas', 'csv', 'dataframe', 'unicode']\n",
    "    __TITLE = \"UnicodeDecodeError when reading CSV file in Pandas with Python\"\n",
    "    __QUESTION = \"<p>Im running a program which is processing 30,000 similar files. A random number of them are stopping and producing this error...</p><br><pre><code>File &quot;C:\\Importer\\src\\dfman\\importer.py&quot;, line 26, in import_chr<br>     data = pd.read_csv(filepath, names=fields)<br>File &quot;C:\\Python33\\lib\\site-packages\\pandas\\io\\parsers.py&quot;, line 400, in parser_f<br>     return _read(filepath_or_buffer, kwds)<br>File &quot;C:\\Python33\\lib\\site-packages\\pandas\\io\\parsers.py&quot;, line 205, in _read<br>     return parser.read()<br>   File &quot;C:\\Python33\\lib\\site-packages\\pandas\\io\\parsers.py&quot;, line 608, in read<br>     ret = self._engine.read(nrows)<br>File &quot;C:\\Python33\\lib\\site-packages\\pandas\\io\\parsers.py&quot;, line 1028, in read<br>     data = self._reader.read(nrows)<br>File &quot;parser.pyx&quot;, line 706, in pandas.parser.TextReader.read (pandas\\parser.c:6745)<br>File &quot;parser.pyx&quot;, line 728, in pandas.parser.TextReader._read_low_memory (pandas\\parser.c:6964)<br>File &quot;parser.pyx&quot;, line 804, in pandas.parser.TextReader._read_rows (pandas\\parser.c:7780)<br>File &quot;parser.pyx&quot;, line 890, in pandas.parser.TextReader._convert_column_data (pandas\\parser.c:8793)<br>File &quot;parser.pyx&quot;, line 950, in pandas.parser.TextReader._convert_tokens (pandas\\parser.c:9484)<br>File &quot;parser.pyx&quot;, line 1026, in pandas.parser.TextReader._convert_with_dtype (pandas\\parser.c:10642)<br>File &quot;parser.pyx&quot;, line 1046, in pandas.parser.TextReader._string_convert (pandas\\parser.c:10853)<br>File &quot;parser.pyx&quot;, line 1278, in pandas.parser._string_box_utf8 (pandas\\parser.c:15657)<br>UnicodeDecodeError: utf-8 codec cant decode byte 0xda in position 6: invalid    continuation byte<br></code></pre><br><p>The source/creation of these files all come from the same place. Whats the best way to correct this to proceed with the import?</p><br>\"\n",
    "    __ORIGINAL_LINK = \"https://stackoverflow.com/questions/18171739/unicodedecodeerror-when-reading-csv-file-in-pandas-with-python\"\n",
    "\n",
    "    def answer():\n",
    "        raise NotImplementedError\n",
    "        \n",
    "    # optional markdown solution for easier reading\n",
    "    MARKDOWN_SOLUTION = \"\"\n",
    "if __name__ == \"__main__\":\n",
    "    Post.answer()"
   ]
  },
  {
   "cell_type": "markdown",
   "id": "839d473b",
   "metadata": {},
   "source": [
    "### 43: How to replace NaN values by Zeroes in a column of a Pandas Dataframe?\n",
    "---"
   ]
  },
  {
   "cell_type": "markdown",
   "id": "9cf23f2a",
   "metadata": {},
   "source": [
    "<p>I have a Pandas Dataframe as below:</p><br><pre><code>      itm Date                  Amount <br>67    420 2012-09-30 00:00:00   65211<br>68    421 2012-09-09 00:00:00   29424<br>69    421 2012-09-16 00:00:00   29877<br>70    421 2012-09-23 00:00:00   30990<br>71    421 2012-09-30 00:00:00   61303<br>72    485 2012-09-09 00:00:00   71781<br>73    485 2012-09-16 00:00:00     NaN<br>74    485 2012-09-23 00:00:00   11072<br>75    485 2012-09-30 00:00:00  113702<br>76    489 2012-09-09 00:00:00   64731<br>77    489 2012-09-16 00:00:00     NaN<br></code></pre><br><p>When I try to apply a function to the Amount column, I get the following error:</p><br><pre><code>ValueError: cannot convert float NaN to integer<br></code></pre><br><p>I have tried applying a function using .isnan from the Math Module<br>I have tried the pandas .replace attribute<br>I tried the .sparse data attribute from pandas 0.9<br>I have also tried if NaN == NaN statement in a function.<br>I have also looked at this article <a href=https://stackoverflow.com/questions/8161836/how-do-i-replace-na-values-with-zeros-in-r>How do I replace NA values with zeros in an R dataframe?</a> whilst looking at some other articles.<br>All the methods I have tried have not worked or do not recognise NaN.<br>Any Hints or solutions would be appreciated.</p><br>"
   ]
  },
  {
   "cell_type": "code",
   "execution_count": null,
   "id": "1234f66e",
   "metadata": {},
   "outputs": [],
   "source": [
    "class Post:\n",
    "    # Please do not modify these unless it is very intentional\n",
    "    __TAGS = ['python', 'pandas', 'dataframe', 'nan']\n",
    "    __TITLE = \"How to replace NaN values by Zeroes in a column of a Pandas Dataframe?\"\n",
    "    __QUESTION = \"<p>I have a Pandas Dataframe as below:</p><br><pre><code>      itm Date                  Amount <br>67    420 2012-09-30 00:00:00   65211<br>68    421 2012-09-09 00:00:00   29424<br>69    421 2012-09-16 00:00:00   29877<br>70    421 2012-09-23 00:00:00   30990<br>71    421 2012-09-30 00:00:00   61303<br>72    485 2012-09-09 00:00:00   71781<br>73    485 2012-09-16 00:00:00     NaN<br>74    485 2012-09-23 00:00:00   11072<br>75    485 2012-09-30 00:00:00  113702<br>76    489 2012-09-09 00:00:00   64731<br>77    489 2012-09-16 00:00:00     NaN<br></code></pre><br><p>When I try to apply a function to the Amount column, I get the following error:</p><br><pre><code>ValueError: cannot convert float NaN to integer<br></code></pre><br><p>I have tried applying a function using .isnan from the Math Module<br>I have tried the pandas .replace attribute<br>I tried the .sparse data attribute from pandas 0.9<br>I have also tried if NaN == NaN statement in a function.<br>I have also looked at this article <a href=https://stackoverflow.com/questions/8161836/how-do-i-replace-na-values-with-zeros-in-r>How do I replace NA values with zeros in an R dataframe?</a> whilst looking at some other articles.<br>All the methods I have tried have not worked or do not recognise NaN.<br>Any Hints or solutions would be appreciated.</p><br>\"\n",
    "    __ORIGINAL_LINK = \"https://stackoverflow.com/questions/13295735/how-to-replace-nan-values-by-zeroes-in-a-column-of-a-pandas-dataframe\"\n",
    "\n",
    "    def answer():\n",
    "        raise NotImplementedError\n",
    "        \n",
    "    # optional markdown solution for easier reading\n",
    "    MARKDOWN_SOLUTION = \"\"\n",
    "if __name__ == \"__main__\":\n",
    "    Post.answer()"
   ]
  },
  {
   "cell_type": "markdown",
   "id": "d7f600bb",
   "metadata": {},
   "source": [
    "### 44: Python Pandas Error tokenizing data\n",
    "---"
   ]
  },
  {
   "cell_type": "markdown",
   "id": "f89e02fe",
   "metadata": {},
   "source": [
    "<p>Im trying to use pandas to manipulate a .csv file but I get this error:</p><br><br><blockquote><br>  <p>pandas.parser.CParserError: Error tokenizing data. C error: Expected 2 fields in line 3,  saw 12</p><br></blockquote><br><br><p>I have tried to read the pandas docs, but found nothing.</p><br><br><p>My code is simple:</p><br><br><pre><code>path = GOOG Key Ratios.csv<br>#print(open(path).read())<br>data = pd.read_csv(path)<br></code></pre><br><br><p>How can I resolve this? Should I use the <code>csv</code> module or another language ?</p><br><br><p>File is from <a href=http://financials.morningstar.com/ratios/r.html?t=GOOG&amp;region=usa&amp;culture=en-US rel=noreferrer>Morningstar</a></p><br>"
   ]
  },
  {
   "cell_type": "code",
   "execution_count": null,
   "id": "d99123d0",
   "metadata": {},
   "outputs": [],
   "source": [
    "class Post:\n",
    "    # Please do not modify these unless it is very intentional\n",
    "    __TAGS = ['python', 'csv', 'pandas']\n",
    "    __TITLE = \"Python Pandas Error tokenizing data\"\n",
    "    __QUESTION = \"<p>Im trying to use pandas to manipulate a .csv file but I get this error:</p><br><br><blockquote><br>  <p>pandas.parser.CParserError: Error tokenizing data. C error: Expected 2 fields in line 3,  saw 12</p><br></blockquote><br><br><p>I have tried to read the pandas docs, but found nothing.</p><br><br><p>My code is simple:</p><br><br><pre><code>path = GOOG Key Ratios.csv<br>#print(open(path).read())<br>data = pd.read_csv(path)<br></code></pre><br><br><p>How can I resolve this? Should I use the <code>csv</code> module or another language ?</p><br><br><p>File is from <a href=http://financials.morningstar.com/ratios/r.html?t=GOOG&amp;region=usa&amp;culture=en-US rel=noreferrer>Morningstar</a></p><br>\"\n",
    "    __ORIGINAL_LINK = \"https://stackoverflow.com/questions/18039057/python-pandas-error-tokenizing-data\"\n",
    "\n",
    "    def answer():\n",
    "        raise NotImplementedError\n",
    "        \n",
    "    # optional markdown solution for easier reading\n",
    "    MARKDOWN_SOLUTION = \"\"\n",
    "if __name__ == \"__main__\":\n",
    "    Post.answer()"
   ]
  },
  {
   "cell_type": "markdown",
   "id": "9b1e5d68",
   "metadata": {},
   "source": [
    "### 45: How to delete rows from a pandas DataFrame based on a conditional expression\n",
    "---"
   ]
  },
  {
   "cell_type": "markdown",
   "id": "468b49d0",
   "metadata": {},
   "source": [
    "<p>I have a pandas DataFrame and I want to delete rows from it where the length of the string in a particular column is greater than 2.</p><br><br><p>I expect to be able to do this (per <a href=https://stackoverflow.com/questions/11881165/slice-pandas-dataframe-by-row>this answer</a>):</p><br><br><pre><code>df[(len(df[column name]) &lt; 2)]<br></code></pre><br><br><p>but I just get the error:</p><br><br><pre><code>KeyError: uno item named False<br></code></pre><br><br><p>What am I doing wrong?</p><br><br><p>(Note: I know I can use <code>df.dropna()</code> to get rid of rows that contain any <code>NaN</code>, but I didnt see how to remove rows based on a conditional expression.)</p><br>"
   ]
  },
  {
   "cell_type": "code",
   "execution_count": null,
   "id": "8475a0cc",
   "metadata": {},
   "outputs": [],
   "source": [
    "class Post:\n",
    "    # Please do not modify these unless it is very intentional\n",
    "    __TAGS = ['python', 'pandas']\n",
    "    __TITLE = \"How to delete rows from a pandas DataFrame based on a conditional expression\"\n",
    "    __QUESTION = \"<p>I have a pandas DataFrame and I want to delete rows from it where the length of the string in a particular column is greater than 2.</p><br><br><p>I expect to be able to do this (per <a href=https://stackoverflow.com/questions/11881165/slice-pandas-dataframe-by-row>this answer</a>):</p><br><br><pre><code>df[(len(df[column name]) &lt; 2)]<br></code></pre><br><br><p>but I just get the error:</p><br><br><pre><code>KeyError: uno item named False<br></code></pre><br><br><p>What am I doing wrong?</p><br><br><p>(Note: I know I can use <code>df.dropna()</code> to get rid of rows that contain any <code>NaN</code>, but I didnt see how to remove rows based on a conditional expression.)</p><br>\"\n",
    "    __ORIGINAL_LINK = \"https://stackoverflow.com/questions/13851535/how-to-delete-rows-from-a-pandas-dataframe-based-on-a-conditional-expression\"\n",
    "\n",
    "    def answer():\n",
    "        raise NotImplementedError\n",
    "        \n",
    "    # optional markdown solution for easier reading\n",
    "    MARKDOWN_SOLUTION = \"\"\n",
    "if __name__ == \"__main__\":\n",
    "    Post.answer()"
   ]
  },
  {
   "cell_type": "markdown",
   "id": "db1f3f3b",
   "metadata": {},
   "source": [
    "### 46: Filter dataframe rows if value in column is in a set list of values\n",
    "---"
   ]
  },
  {
   "cell_type": "markdown",
   "id": "435011cd",
   "metadata": {},
   "source": [
    "<p>I have a Python pandas DataFrame <code>rpt</code>:</p><br><br><pre><code>rpt<br>&lt;class pandas.core.frame.DataFrame&gt;<br>MultiIndex: 47518 entries, (000002, 20120331) to (603366, 20091231)<br>Data columns:<br>STK_ID                    47518  non-null values<br>STK_Name                  47518  non-null values<br>RPT_Date                  47518  non-null values<br>sales                     47518  non-null values<br></code></pre><br><br><p>I can filter the rows whose stock id is <code>600809</code> like this: <code>rpt[rpt[STK_ID] == 600809]</code></p><br><br><pre><code>&lt;class pandas.core.frame.DataFrame&gt;<br>MultiIndex: 25 entries, (600809, 20120331) to (600809, 20060331)<br>Data columns:<br>STK_ID                    25  non-null values<br>STK_Name                  25  non-null values<br>RPT_Date                  25  non-null values<br>sales                     25  non-null values<br></code></pre><br><br><p>and I want to get all the rows of some stocks together, such as <code>[600809,600141,600329]</code>. That means I want a syntax like this: </p><br><br><pre><code>stk_list = [600809,600141,600329]<br><br>rst = rpt[rpt[STK_ID] in stk_list] # this does not works in pandas <br></code></pre><br><br><p>Since pandas not accept above command, how to achieve the target? </p><br>"
   ]
  },
  {
   "cell_type": "code",
   "execution_count": null,
   "id": "89791eef",
   "metadata": {},
   "outputs": [],
   "source": [
    "class Post:\n",
    "    # Please do not modify these unless it is very intentional\n",
    "    __TAGS = ['python', 'pandas', 'dataframe']\n",
    "    __TITLE = \"Filter dataframe rows if value in column is in a set list of values\"\n",
    "    __QUESTION = \"<p>I have a Python pandas DataFrame <code>rpt</code>:</p><br><br><pre><code>rpt<br>&lt;class pandas.core.frame.DataFrame&gt;<br>MultiIndex: 47518 entries, (000002, 20120331) to (603366, 20091231)<br>Data columns:<br>STK_ID                    47518  non-null values<br>STK_Name                  47518  non-null values<br>RPT_Date                  47518  non-null values<br>sales                     47518  non-null values<br></code></pre><br><br><p>I can filter the rows whose stock id is <code>600809</code> like this: <code>rpt[rpt[STK_ID] == 600809]</code></p><br><br><pre><code>&lt;class pandas.core.frame.DataFrame&gt;<br>MultiIndex: 25 entries, (600809, 20120331) to (600809, 20060331)<br>Data columns:<br>STK_ID                    25  non-null values<br>STK_Name                  25  non-null values<br>RPT_Date                  25  non-null values<br>sales                     25  non-null values<br></code></pre><br><br><p>and I want to get all the rows of some stocks together, such as <code>[600809,600141,600329]</code>. That means I want a syntax like this: </p><br><br><pre><code>stk_list = [600809,600141,600329]<br><br>rst = rpt[rpt[STK_ID] in stk_list] # this does not works in pandas <br></code></pre><br><br><p>Since pandas not accept above command, how to achieve the target? </p><br>\"\n",
    "    __ORIGINAL_LINK = \"https://stackoverflow.com/questions/12065885/filter-dataframe-rows-if-value-in-column-is-in-a-set-list-of-values\"\n",
    "\n",
    "    def answer():\n",
    "        raise NotImplementedError\n",
    "        \n",
    "    # optional markdown solution for easier reading\n",
    "    MARKDOWN_SOLUTION = \"\"\n",
    "if __name__ == \"__main__\":\n",
    "    Post.answer()"
   ]
  },
  {
   "cell_type": "markdown",
   "id": "b32c2bbb",
   "metadata": {},
   "source": [
    "### 47: How to check whether a pandas DataFrame is empty?\n",
    "---"
   ]
  },
  {
   "cell_type": "markdown",
   "id": "04f8925f",
   "metadata": {},
   "source": [
    "<p>How to check whether a pandas <code>DataFrame</code> is empty? In my case I want to print some message in terminal if the <code>DataFrame</code> is empty. </p><br>"
   ]
  },
  {
   "cell_type": "code",
   "execution_count": null,
   "id": "17ae5c39",
   "metadata": {},
   "outputs": [],
   "source": [
    "class Post:\n",
    "    # Please do not modify these unless it is very intentional\n",
    "    __TAGS = ['python', 'pandas', 'dataframe']\n",
    "    __TITLE = \"How to check whether a pandas DataFrame is empty?\"\n",
    "    __QUESTION = \"<p>How to check whether a pandas <code>DataFrame</code> is empty? In my case I want to print some message in terminal if the <code>DataFrame</code> is empty. </p><br>\"\n",
    "    __ORIGINAL_LINK = \"https://stackoverflow.com/questions/19828822/how-to-check-whether-a-pandas-dataframe-is-empty\"\n",
    "\n",
    "    def answer():\n",
    "        raise NotImplementedError\n",
    "        \n",
    "    # optional markdown solution for easier reading\n",
    "    MARKDOWN_SOLUTION = \"\"\n",
    "if __name__ == \"__main__\":\n",
    "    Post.answer()"
   ]
  },
  {
   "cell_type": "markdown",
   "id": "cb974731",
   "metadata": {},
   "source": [
    "### 48: pandas create new column based on values from other columns / apply a function of multiple columns, row-wise\n",
    "---"
   ]
  },
  {
   "cell_type": "markdown",
   "id": "dae0c590",
   "metadata": {},
   "source": [
    "<p>I want to apply my custom function (it uses an if-else ladder) to these six columns (<code>ERI_Hispanic</code>, <code>ERI_AmerInd_AKNatv</code>, <code>ERI_Asian</code>, <code>ERI_Black_Afr.Amer</code>, <code>ERI_HI_PacIsl</code>, <code>ERI_White</code>) in each row of my dataframe.</p><br><p>Ive tried different methods from other questions but still cant seem to find the right answer for my problem.  The critical piece of this is that if the person is counted as Hispanic they cant be counted as anything else.  Even if they have a &quot;1&quot; in another ethnicity column they still are counted as Hispanic not two or more races.  Similarly, if the sum of all the ERI columns is greater than 1 they are counted as two or more races and cant be counted as a unique ethnicity(except for Hispanic).  Hopefully this makes sense.  Any help will be greatly appreciated.</p><br><p>Its almost like doing a for loop through each row and if each record meets a criterion they are added to one list and eliminated from the original.</p><br><p>From the dataframe below I need to calculate a new column based on the following spec in SQL:</p><br><p><strong>CRITERIA</strong></p><br><pre><code>IF [ERI_Hispanic] = 1 THEN RETURN “Hispanic”<br>ELSE IF SUM([ERI_AmerInd_AKNatv] + [ERI_Asian] + [ERI_Black_Afr.Amer] + [ERI_HI_PacIsl] + [ERI_White]) &gt; 1 THEN RETURN “Two or More”<br>ELSE IF [ERI_AmerInd_AKNatv] = 1 THEN RETURN “A/I AK Native”<br>ELSE IF [ERI_Asian] = 1 THEN RETURN “Asian”<br>ELSE IF [ERI_Black_Afr.Amer] = 1 THEN RETURN “Black/AA”<br>ELSE IF [ERI_HI_PacIsl] = 1 THEN RETURN “Haw/Pac Isl.”<br>ELSE IF [ERI_White] = 1 THEN RETURN “White”<br></code></pre><br><p>Comment: If the ERI Flag for Hispanic is True (1), the employee is classified as “Hispanic”</p><br><p>Comment: If more than 1 non-Hispanic ERI Flag is true, return “Two or More”</p><br><p><strong>DATAFRAME</strong></p><br><pre><code>     lname          fname       rno_cd  eri_afr_amer    eri_asian   eri_hawaiian    eri_hispanic    eri_nat_amer    eri_white   rno_defined<br>0    MOST           JEFF        E       0               0           0               0               0               1           White<br>1    CRUISE         TOM         E       0               0           0               1               0               0           White<br>2    DEPP           JOHNNY              0               0           0               0               0               1           Unknown<br>3    DICAP          LEO                 0               0           0               0               0               1           Unknown<br>4    BRANDO         MARLON      E       0               0           0               0               0               0           White<br>5    HANKS          TOM         0                       0           0               0               0               1           Unknown<br>6    DENIRO         ROBERT      E       0               1           0               0               0               1           White<br>7    PACINO         AL          E       0               0           0               0               0               1           White<br>8    WILLIAMS       ROBIN       E       0               0           1               0               0               0           White<br>9    EASTWOOD       CLINT       E       0               0           0               0               0               1           White<br></code></pre><br>"
   ]
  },
  {
   "cell_type": "code",
   "execution_count": null,
   "id": "69b5053e",
   "metadata": {},
   "outputs": [],
   "source": [
    "class Post:\n",
    "    # Please do not modify these unless it is very intentional\n",
    "    __TAGS = ['python', 'pandas', 'numpy', 'apply']\n",
    "    __TITLE = \"pandas create new column based on values from other columns / apply a function of multiple columns, row-wise\"\n",
    "    __QUESTION = \"<p>I want to apply my custom function (it uses an if-else ladder) to these six columns (<code>ERI_Hispanic</code>, <code>ERI_AmerInd_AKNatv</code>, <code>ERI_Asian</code>, <code>ERI_Black_Afr.Amer</code>, <code>ERI_HI_PacIsl</code>, <code>ERI_White</code>) in each row of my dataframe.</p><br><p>Ive tried different methods from other questions but still cant seem to find the right answer for my problem.  The critical piece of this is that if the person is counted as Hispanic they cant be counted as anything else.  Even if they have a &quot;1&quot; in another ethnicity column they still are counted as Hispanic not two or more races.  Similarly, if the sum of all the ERI columns is greater than 1 they are counted as two or more races and cant be counted as a unique ethnicity(except for Hispanic).  Hopefully this makes sense.  Any help will be greatly appreciated.</p><br><p>Its almost like doing a for loop through each row and if each record meets a criterion they are added to one list and eliminated from the original.</p><br><p>From the dataframe below I need to calculate a new column based on the following spec in SQL:</p><br><p><strong>CRITERIA</strong></p><br><pre><code>IF [ERI_Hispanic] = 1 THEN RETURN “Hispanic”<br>ELSE IF SUM([ERI_AmerInd_AKNatv] + [ERI_Asian] + [ERI_Black_Afr.Amer] + [ERI_HI_PacIsl] + [ERI_White]) &gt; 1 THEN RETURN “Two or More”<br>ELSE IF [ERI_AmerInd_AKNatv] = 1 THEN RETURN “A/I AK Native”<br>ELSE IF [ERI_Asian] = 1 THEN RETURN “Asian”<br>ELSE IF [ERI_Black_Afr.Amer] = 1 THEN RETURN “Black/AA”<br>ELSE IF [ERI_HI_PacIsl] = 1 THEN RETURN “Haw/Pac Isl.”<br>ELSE IF [ERI_White] = 1 THEN RETURN “White”<br></code></pre><br><p>Comment: If the ERI Flag for Hispanic is True (1), the employee is classified as “Hispanic”</p><br><p>Comment: If more than 1 non-Hispanic ERI Flag is true, return “Two or More”</p><br><p><strong>DATAFRAME</strong></p><br><pre><code>     lname          fname       rno_cd  eri_afr_amer    eri_asian   eri_hawaiian    eri_hispanic    eri_nat_amer    eri_white   rno_defined<br>0    MOST           JEFF        E       0               0           0               0               0               1           White<br>1    CRUISE         TOM         E       0               0           0               1               0               0           White<br>2    DEPP           JOHNNY              0               0           0               0               0               1           Unknown<br>3    DICAP          LEO                 0               0           0               0               0               1           Unknown<br>4    BRANDO         MARLON      E       0               0           0               0               0               0           White<br>5    HANKS          TOM         0                       0           0               0               0               1           Unknown<br>6    DENIRO         ROBERT      E       0               1           0               0               0               1           White<br>7    PACINO         AL          E       0               0           0               0               0               1           White<br>8    WILLIAMS       ROBIN       E       0               0           1               0               0               0           White<br>9    EASTWOOD       CLINT       E       0               0           0               0               0               1           White<br></code></pre><br>\"\n",
    "    __ORIGINAL_LINK = \"https://stackoverflow.com/questions/26886653/pandas-create-new-column-based-on-values-from-other-columns-apply-a-function-o\"\n",
    "\n",
    "    def answer():\n",
    "        raise NotImplementedError\n",
    "        \n",
    "    # optional markdown solution for easier reading\n",
    "    MARKDOWN_SOLUTION = \"\"\n",
    "if __name__ == \"__main__\":\n",
    "    Post.answer()"
   ]
  },
  {
   "cell_type": "markdown",
   "id": "3d8ceeb0",
   "metadata": {},
   "source": [
    "### 49: Selecting a row of pandas series/dataframe by integer index\n",
    "---"
   ]
  },
  {
   "cell_type": "markdown",
   "id": "dd35f926",
   "metadata": {},
   "source": [
    "<p>I am curious as to why <code>df[2]</code> is not supported, while <code>df.ix[2]</code> and <code>df[2:3]</code> both work. </p><br><br><pre><code>In [26]: df.ix[2]<br>Out[26]: <br>A    1.027680<br>B    1.514210<br>C   -1.466963<br>D   -0.162339<br>Name: 2000-01-03 00:00:00<br><br>In [27]: df[2:3]<br>Out[27]: <br>                  A        B         C         D<br>2000-01-03  1.02768  1.51421 -1.466963 -0.162339<br></code></pre><br><br><p>I would expect <code>df[2]</code> to work the same way as <code>df[2:3]</code> to be consistent with Python indexing convention. Is there a design reason for not supporting indexing row by single integer?</p><br>"
   ]
  },
  {
   "cell_type": "code",
   "execution_count": null,
   "id": "c83119f3",
   "metadata": {},
   "outputs": [],
   "source": [
    "class Post:\n",
    "    # Please do not modify these unless it is very intentional\n",
    "    __TAGS = ['python', 'pandas', 'dataframe', 'indexing']\n",
    "    __TITLE = \"Selecting a row of pandas series/dataframe by integer index\"\n",
    "    __QUESTION = \"<p>I am curious as to why <code>df[2]</code> is not supported, while <code>df.ix[2]</code> and <code>df[2:3]</code> both work. </p><br><br><pre><code>In [26]: df.ix[2]<br>Out[26]: <br>A    1.027680<br>B    1.514210<br>C   -1.466963<br>D   -0.162339<br>Name: 2000-01-03 00:00:00<br><br>In [27]: df[2:3]<br>Out[27]: <br>                  A        B         C         D<br>2000-01-03  1.02768  1.51421 -1.466963 -0.162339<br></code></pre><br><br><p>I would expect <code>df[2]</code> to work the same way as <code>df[2:3]</code> to be consistent with Python indexing convention. Is there a design reason for not supporting indexing row by single integer?</p><br>\"\n",
    "    __ORIGINAL_LINK = \"https://stackoverflow.com/questions/16096627/selecting-a-row-of-pandas-series-dataframe-by-integer-index\"\n",
    "\n",
    "    def answer():\n",
    "        raise NotImplementedError\n",
    "        \n",
    "    # optional markdown solution for easier reading\n",
    "    MARKDOWN_SOLUTION = \"\"\n",
    "if __name__ == \"__main__\":\n",
    "    Post.answer()"
   ]
  },
  {
   "cell_type": "markdown",
   "id": "baeb7436",
   "metadata": {},
   "source": [
    "### 50: How can I pivot a dataframe?\n",
    "---"
   ]
  },
  {
   "cell_type": "markdown",
   "id": "581b6fe1",
   "metadata": {},
   "source": [
    "<ul><br><li>What is pivot?</li><br><li>How do I pivot?</li><br><li>Is this a pivot?</li><br><li>Long format to wide format?</li><br></ul><br><p>Ive seen a lot of questions that ask about pivot tables.  Even if they dont know that they are asking about pivot tables, they usually are.  It is virtually impossible to write a canonical question and answer that encompasses all aspects of pivoting...</p><br><p>... But Im going to give it a go.</p><br><hr /><br><p>The problem with existing questions and answers is that often the question is focused on a nuance that the OP has trouble generalizing in order to use a number of the existing good answers.  However, none of the answers attempt to give a comprehensive explanation (because its a daunting task)</p><br><p>Look a few examples from my <a href=https://www.google.com/search?q=how%20to%20pivot%20a%20pandas%20dataframe&amp;oq=How%20do%20I%20pivot%20a%20pandas%20dataframe rel=noreferrer><strong>Google Search</strong></a></p><br><ol><br><li><a href=https://stackoverflow.com/q/28337117/2336654>How to pivot a dataframe in Pandas?</a></li><br></ol><br><ul><br><li>Good question and answer.  But the answer only answers the specific question with little explanation.</li><br></ul><br><ol start=2><br><li><a href=https://stackoverflow.com/q/42708193/2336654>pandas pivot table to data frame</a></li><br></ol><br><ul><br><li>In this question, the OP is concerned with the output of the pivot.  Namely how the columns look.  OP wanted it to look like R.  This isnt very helpful for pandas users.</li><br></ul><br><ol start=3><br><li><a href=https://stackoverflow.com/q/11400181/2336654>pandas pivoting a dataframe, duplicate rows</a></li><br></ol><br><ul><br><li>Another decent question but the answer focuses on one method, namely <code>pd.DataFrame.pivot</code></li><br></ul><br><p>So whenever someone searches for <code>pivot</code> they get sporadic results that are likely not going to answer their specific question.</p><br><hr /><br><h1>Setup</h1><br><p>You may notice that I conspicuously named my columns and relevant column values to correspond with how Im going to pivot in the answers below.</p><br><pre><code>import numpy as np<br>import pandas as pd<br>from numpy.core.defchararray import add<br><br>np.random.seed([3,1415])<br>n = 20<br><br>cols = np.array([key, row, item, col])<br>arr1 = (np.random.randint(5, size=(n, 4)) // [2, 1, 2, 1]).astype(str)<br><br>df = pd.DataFrame(<br>    add(cols, arr1), columns=cols<br>).join(<br>    pd.DataFrame(np.random.rand(n, 2).round(2)).add_prefix(val)<br>)<br>print(df)<br><br>     key   row   item   col  val0  val1<br>0   key0  row3  item1  col3  0.81  0.04<br>1   key1  row2  item1  col2  0.44  0.07<br>2   key1  row0  item1  col0  0.77  0.01<br>3   key0  row4  item0  col2  0.15  0.59<br>4   key1  row0  item2  col1  0.81  0.64<br>5   key1  row2  item2  col4  0.13  0.88<br>6   key2  row4  item1  col3  0.88  0.39<br>7   key1  row4  item1  col1  0.10  0.07<br>8   key1  row0  item2  col4  0.65  0.02<br>9   key1  row2  item0  col2  0.35  0.61<br>10  key2  row0  item2  col1  0.40  0.85<br>11  key2  row4  item1  col2  0.64  0.25<br>12  key0  row2  item2  col3  0.50  0.44<br>13  key0  row4  item1  col4  0.24  0.46<br>14  key1  row3  item2  col3  0.28  0.11<br>15  key0  row3  item1  col1  0.31  0.23<br>16  key0  row0  item2  col3  0.86  0.01<br>17  key0  row4  item0  col3  0.64  0.21<br>18  key2  row2  item2  col0  0.13  0.45<br>19  key0  row2  item0  col4  0.37  0.70<br></code></pre><br><h3>Question(s)</h3><br><ol><br><li><p>Why do I get <code>ValueError: Index contains duplicate entries, cannot reshape</code></p><br></li><br><li><p>How do I pivot <code>df</code> such that the <code>col</code> values are columns, <code>row</code> values are the index, and mean of <code>val0</code> are the values?</p><br><pre><code> col   col0   col1   col2   col3  col4<br> row<br> row0  0.77  0.605    NaN  0.860  0.65<br> row2  0.13    NaN  0.395  0.500  0.25<br> row3   NaN  0.310    NaN  0.545   NaN<br> row4   NaN  0.100  0.395  0.760  0.24<br></code></pre><br></li><br><li><p>How do I pivot <code>df</code> such that the <code>col</code> values are columns, <code>row</code> values are the index, mean of <code>val0</code> are the values, and missing values are <code>0</code>?</p><br><pre><code> col   col0   col1   col2   col3  col4<br> row<br> row0  0.77  0.605  0.000  0.860  0.65<br> row2  0.13  0.000  0.395  0.500  0.25<br> row3  0.00  0.310  0.000  0.545  0.00<br> row4  0.00  0.100  0.395  0.760  0.24<br></code></pre><br></li><br><li><p>Can I get something other than <code>mean</code>, like maybe <code>sum</code>?</p><br><pre><code> col   col0  col1  col2  col3  col4<br> row<br> row0  0.77  1.21  0.00  0.86  0.65<br> row2  0.13  0.00  0.79  0.50  0.50<br> row3  0.00  0.31  0.00  1.09  0.00<br> row4  0.00  0.10  0.79  1.52  0.24<br></code></pre><br></li><br><li><p>Can I do more that one aggregation at a time?</p><br><pre><code>        sum                          mean<br> col   col0  col1  col2  col3  col4  col0   col1   col2   col3  col4<br> row<br> row0  0.77  1.21  0.00  0.86  0.65  0.77  0.605  0.000  0.860  0.65<br> row2  0.13  0.00  0.79  0.50  0.50  0.13  0.000  0.395  0.500  0.25<br> row3  0.00  0.31  0.00  1.09  0.00  0.00  0.310  0.000  0.545  0.00<br> row4  0.00  0.10  0.79  1.52  0.24  0.00  0.100  0.395  0.760  0.24<br></code></pre><br></li><br><li><p>Can I aggregate over multiple value columns?</p><br><pre><code>       val0                             val1<br> col   col0   col1   col2   col3  col4  col0   col1  col2   col3  col4<br> row<br> row0  0.77  0.605  0.000  0.860  0.65  0.01  0.745  0.00  0.010  0.02<br> row2  0.13  0.000  0.395  0.500  0.25  0.45  0.000  0.34  0.440  0.79<br> row3  0.00  0.310  0.000  0.545  0.00  0.00  0.230  0.00  0.075  0.00<br> row4  0.00  0.100  0.395  0.760  0.24  0.00  0.070  0.42  0.300  0.46<br></code></pre><br></li><br><li><p>Can Subdivide by multiple columns?</p><br><pre><code> item item0             item1                         item2<br> col   col2  col3  col4  col0  col1  col2  col3  col4  col0   col1  col3  col4<br> row<br> row0  0.00  0.00  0.00  0.77  0.00  0.00  0.00  0.00  0.00  0.605  0.86  0.65<br> row2  0.35  0.00  0.37  0.00  0.00  0.44  0.00  0.00  0.13  0.000  0.50  0.13<br> row3  0.00  0.00  0.00  0.00  0.31  0.00  0.81  0.00  0.00  0.000  0.28  0.00<br> row4  0.15  0.64  0.00  0.00  0.10  0.64  0.88  0.24  0.00  0.000  0.00  0.00<br></code></pre><br></li><br><li><p>Or</p><br><pre><code> item      item0             item1                         item2<br> col        col2  col3  col4  col0  col1  col2  col3  col4  col0  col1  col3  col4<br> key  row<br> key0 row0  0.00  0.00  0.00  0.00  0.00  0.00  0.00  0.00  0.00  0.00  0.86  0.00<br>      row2  0.00  0.00  0.37  0.00  0.00  0.00  0.00  0.00  0.00  0.00  0.50  0.00<br>      row3  0.00  0.00  0.00  0.00  0.31  0.00  0.81  0.00  0.00  0.00  0.00  0.00<br>      row4  0.15  0.64  0.00  0.00  0.00  0.00  0.00  0.24  0.00  0.00  0.00  0.00<br> key1 row0  0.00  0.00  0.00  0.77  0.00  0.00  0.00  0.00  0.00  0.81  0.00  0.65<br>      row2  0.35  0.00  0.00  0.00  0.00  0.44  0.00  0.00  0.00  0.00  0.00  0.13<br>      row3  0.00  0.00  0.00  0.00  0.00  0.00  0.00  0.00  0.00  0.00  0.28  0.00<br>      row4  0.00  0.00  0.00  0.00  0.10  0.00  0.00  0.00  0.00  0.00  0.00  0.00<br> key2 row0  0.00  0.00  0.00  0.00  0.00  0.00  0.00  0.00  0.00  0.40  0.00  0.00<br>      row2  0.00  0.00  0.00  0.00  0.00  0.00  0.00  0.00  0.13  0.00  0.00  0.00<br>      row4  0.00  0.00  0.00  0.00  0.00  0.64  0.88  0.00  0.00  0.00  0.00  0.00<br></code></pre><br></li><br><li><p>Can I aggregate the frequency in which the column and rows occur together, aka &quot;cross tabulation&quot;?</p><br><pre><code> col   col0  col1  col2  col3  col4<br> row<br> row0     1     2     0     1     1<br> row2     1     0     2     1     2<br> row3     0     1     0     2     0<br> row4     0     1     2     2     1<br></code></pre><br></li><br><li><p>How do I convert a DataFrame from long to wide by pivoting on ONLY two columns? Given,</p><br><pre><code>np.random.seed([3, 1415])<br>df2 = pd.DataFrame({A: list(aaaabbbc), B: np.random.choice(15, 8)})<br>df2<br>   A   B<br>0  a   0<br>1  a  11<br>2  a   2<br>3  a  11<br>4  b  10<br>5  b  10<br>6  b  14<br>7  c   7<br></code></pre><br><p>The expected should look something like</p><br><pre><code>      a     b    c<br>0   0.0  10.0  7.0<br>1  11.0  10.0  NaN<br>2   2.0  14.0  NaN<br>3  11.0   NaN  NaN<br></code></pre><br></li><br><li><p>How do I flatten the multiple index to single index after <code>pivot</code>?</p><br><p>From</p><br><pre><code>   1  2<br>   1  1  2<br>a  2  1  1<br>b  2  1  0<br>c  1  0  0<br></code></pre><br><p>To</p><br><pre><code>   1|1  2|1  2|2<br>a    2    1    1<br>b    2    1    0<br>c    1    0    0<br></code></pre><br></li><br></ol><br>"
   ]
  },
  {
   "cell_type": "code",
   "execution_count": null,
   "id": "8c3a4240",
   "metadata": {},
   "outputs": [],
   "source": [
    "class Post:\n",
    "    # Please do not modify these unless it is very intentional\n",
    "    __TAGS = ['python', 'pandas', 'group-by', 'pivot', 'pandas-groupby']\n",
    "    __TITLE = \"How can I pivot a dataframe?\"\n",
    "    __QUESTION = \"<ul><br><li>What is pivot?</li><br><li>How do I pivot?</li><br><li>Is this a pivot?</li><br><li>Long format to wide format?</li><br></ul><br><p>Ive seen a lot of questions that ask about pivot tables.  Even if they dont know that they are asking about pivot tables, they usually are.  It is virtually impossible to write a canonical question and answer that encompasses all aspects of pivoting...</p><br><p>... But Im going to give it a go.</p><br><hr /><br><p>The problem with existing questions and answers is that often the question is focused on a nuance that the OP has trouble generalizing in order to use a number of the existing good answers.  However, none of the answers attempt to give a comprehensive explanation (because its a daunting task)</p><br><p>Look a few examples from my <a href=https://www.google.com/search?q=how%20to%20pivot%20a%20pandas%20dataframe&amp;oq=How%20do%20I%20pivot%20a%20pandas%20dataframe rel=noreferrer><strong>Google Search</strong></a></p><br><ol><br><li><a href=https://stackoverflow.com/q/28337117/2336654>How to pivot a dataframe in Pandas?</a></li><br></ol><br><ul><br><li>Good question and answer.  But the answer only answers the specific question with little explanation.</li><br></ul><br><ol start=2><br><li><a href=https://stackoverflow.com/q/42708193/2336654>pandas pivot table to data frame</a></li><br></ol><br><ul><br><li>In this question, the OP is concerned with the output of the pivot.  Namely how the columns look.  OP wanted it to look like R.  This isnt very helpful for pandas users.</li><br></ul><br><ol start=3><br><li><a href=https://stackoverflow.com/q/11400181/2336654>pandas pivoting a dataframe, duplicate rows</a></li><br></ol><br><ul><br><li>Another decent question but the answer focuses on one method, namely <code>pd.DataFrame.pivot</code></li><br></ul><br><p>So whenever someone searches for <code>pivot</code> they get sporadic results that are likely not going to answer their specific question.</p><br><hr /><br><h1>Setup</h1><br><p>You may notice that I conspicuously named my columns and relevant column values to correspond with how Im going to pivot in the answers below.</p><br><pre><code>import numpy as np<br>import pandas as pd<br>from numpy.core.defchararray import add<br><br>np.random.seed([3,1415])<br>n = 20<br><br>cols = np.array([key, row, item, col])<br>arr1 = (np.random.randint(5, size=(n, 4)) // [2, 1, 2, 1]).astype(str)<br><br>df = pd.DataFrame(<br>    add(cols, arr1), columns=cols<br>).join(<br>    pd.DataFrame(np.random.rand(n, 2).round(2)).add_prefix(val)<br>)<br>print(df)<br><br>     key   row   item   col  val0  val1<br>0   key0  row3  item1  col3  0.81  0.04<br>1   key1  row2  item1  col2  0.44  0.07<br>2   key1  row0  item1  col0  0.77  0.01<br>3   key0  row4  item0  col2  0.15  0.59<br>4   key1  row0  item2  col1  0.81  0.64<br>5   key1  row2  item2  col4  0.13  0.88<br>6   key2  row4  item1  col3  0.88  0.39<br>7   key1  row4  item1  col1  0.10  0.07<br>8   key1  row0  item2  col4  0.65  0.02<br>9   key1  row2  item0  col2  0.35  0.61<br>10  key2  row0  item2  col1  0.40  0.85<br>11  key2  row4  item1  col2  0.64  0.25<br>12  key0  row2  item2  col3  0.50  0.44<br>13  key0  row4  item1  col4  0.24  0.46<br>14  key1  row3  item2  col3  0.28  0.11<br>15  key0  row3  item1  col1  0.31  0.23<br>16  key0  row0  item2  col3  0.86  0.01<br>17  key0  row4  item0  col3  0.64  0.21<br>18  key2  row2  item2  col0  0.13  0.45<br>19  key0  row2  item0  col4  0.37  0.70<br></code></pre><br><h3>Question(s)</h3><br><ol><br><li><p>Why do I get <code>ValueError: Index contains duplicate entries, cannot reshape</code></p><br></li><br><li><p>How do I pivot <code>df</code> such that the <code>col</code> values are columns, <code>row</code> values are the index, and mean of <code>val0</code> are the values?</p><br><pre><code> col   col0   col1   col2   col3  col4<br> row<br> row0  0.77  0.605    NaN  0.860  0.65<br> row2  0.13    NaN  0.395  0.500  0.25<br> row3   NaN  0.310    NaN  0.545   NaN<br> row4   NaN  0.100  0.395  0.760  0.24<br></code></pre><br></li><br><li><p>How do I pivot <code>df</code> such that the <code>col</code> values are columns, <code>row</code> values are the index, mean of <code>val0</code> are the values, and missing values are <code>0</code>?</p><br><pre><code> col   col0   col1   col2   col3  col4<br> row<br> row0  0.77  0.605  0.000  0.860  0.65<br> row2  0.13  0.000  0.395  0.500  0.25<br> row3  0.00  0.310  0.000  0.545  0.00<br> row4  0.00  0.100  0.395  0.760  0.24<br></code></pre><br></li><br><li><p>Can I get something other than <code>mean</code>, like maybe <code>sum</code>?</p><br><pre><code> col   col0  col1  col2  col3  col4<br> row<br> row0  0.77  1.21  0.00  0.86  0.65<br> row2  0.13  0.00  0.79  0.50  0.50<br> row3  0.00  0.31  0.00  1.09  0.00<br> row4  0.00  0.10  0.79  1.52  0.24<br></code></pre><br></li><br><li><p>Can I do more that one aggregation at a time?</p><br><pre><code>        sum                          mean<br> col   col0  col1  col2  col3  col4  col0   col1   col2   col3  col4<br> row<br> row0  0.77  1.21  0.00  0.86  0.65  0.77  0.605  0.000  0.860  0.65<br> row2  0.13  0.00  0.79  0.50  0.50  0.13  0.000  0.395  0.500  0.25<br> row3  0.00  0.31  0.00  1.09  0.00  0.00  0.310  0.000  0.545  0.00<br> row4  0.00  0.10  0.79  1.52  0.24  0.00  0.100  0.395  0.760  0.24<br></code></pre><br></li><br><li><p>Can I aggregate over multiple value columns?</p><br><pre><code>       val0                             val1<br> col   col0   col1   col2   col3  col4  col0   col1  col2   col3  col4<br> row<br> row0  0.77  0.605  0.000  0.860  0.65  0.01  0.745  0.00  0.010  0.02<br> row2  0.13  0.000  0.395  0.500  0.25  0.45  0.000  0.34  0.440  0.79<br> row3  0.00  0.310  0.000  0.545  0.00  0.00  0.230  0.00  0.075  0.00<br> row4  0.00  0.100  0.395  0.760  0.24  0.00  0.070  0.42  0.300  0.46<br></code></pre><br></li><br><li><p>Can Subdivide by multiple columns?</p><br><pre><code> item item0             item1                         item2<br> col   col2  col3  col4  col0  col1  col2  col3  col4  col0   col1  col3  col4<br> row<br> row0  0.00  0.00  0.00  0.77  0.00  0.00  0.00  0.00  0.00  0.605  0.86  0.65<br> row2  0.35  0.00  0.37  0.00  0.00  0.44  0.00  0.00  0.13  0.000  0.50  0.13<br> row3  0.00  0.00  0.00  0.00  0.31  0.00  0.81  0.00  0.00  0.000  0.28  0.00<br> row4  0.15  0.64  0.00  0.00  0.10  0.64  0.88  0.24  0.00  0.000  0.00  0.00<br></code></pre><br></li><br><li><p>Or</p><br><pre><code> item      item0             item1                         item2<br> col        col2  col3  col4  col0  col1  col2  col3  col4  col0  col1  col3  col4<br> key  row<br> key0 row0  0.00  0.00  0.00  0.00  0.00  0.00  0.00  0.00  0.00  0.00  0.86  0.00<br>      row2  0.00  0.00  0.37  0.00  0.00  0.00  0.00  0.00  0.00  0.00  0.50  0.00<br>      row3  0.00  0.00  0.00  0.00  0.31  0.00  0.81  0.00  0.00  0.00  0.00  0.00<br>      row4  0.15  0.64  0.00  0.00  0.00  0.00  0.00  0.24  0.00  0.00  0.00  0.00<br> key1 row0  0.00  0.00  0.00  0.77  0.00  0.00  0.00  0.00  0.00  0.81  0.00  0.65<br>      row2  0.35  0.00  0.00  0.00  0.00  0.44  0.00  0.00  0.00  0.00  0.00  0.13<br>      row3  0.00  0.00  0.00  0.00  0.00  0.00  0.00  0.00  0.00  0.00  0.28  0.00<br>      row4  0.00  0.00  0.00  0.00  0.10  0.00  0.00  0.00  0.00  0.00  0.00  0.00<br> key2 row0  0.00  0.00  0.00  0.00  0.00  0.00  0.00  0.00  0.00  0.40  0.00  0.00<br>      row2  0.00  0.00  0.00  0.00  0.00  0.00  0.00  0.00  0.13  0.00  0.00  0.00<br>      row4  0.00  0.00  0.00  0.00  0.00  0.64  0.88  0.00  0.00  0.00  0.00  0.00<br></code></pre><br></li><br><li><p>Can I aggregate the frequency in which the column and rows occur together, aka &quot;cross tabulation&quot;?</p><br><pre><code> col   col0  col1  col2  col3  col4<br> row<br> row0     1     2     0     1     1<br> row2     1     0     2     1     2<br> row3     0     1     0     2     0<br> row4     0     1     2     2     1<br></code></pre><br></li><br><li><p>How do I convert a DataFrame from long to wide by pivoting on ONLY two columns? Given,</p><br><pre><code>np.random.seed([3, 1415])<br>df2 = pd.DataFrame({A: list(aaaabbbc), B: np.random.choice(15, 8)})<br>df2<br>   A   B<br>0  a   0<br>1  a  11<br>2  a   2<br>3  a  11<br>4  b  10<br>5  b  10<br>6  b  14<br>7  c   7<br></code></pre><br><p>The expected should look something like</p><br><pre><code>      a     b    c<br>0   0.0  10.0  7.0<br>1  11.0  10.0  NaN<br>2   2.0  14.0  NaN<br>3  11.0   NaN  NaN<br></code></pre><br></li><br><li><p>How do I flatten the multiple index to single index after <code>pivot</code>?</p><br><p>From</p><br><pre><code>   1  2<br>   1  1  2<br>a  2  1  1<br>b  2  1  0<br>c  1  0  0<br></code></pre><br><p>To</p><br><pre><code>   1|1  2|1  2|2<br>a    2    1    1<br>b    2    1    0<br>c    1    0    0<br></code></pre><br></li><br></ol><br>\"\n",
    "    __ORIGINAL_LINK = \"https://stackoverflow.com/questions/47152691/how-can-i-pivot-a-dataframe\"\n",
    "\n",
    "    def answer():\n",
    "        raise NotImplementedError\n",
    "        \n",
    "    # optional markdown solution for easier reading\n",
    "    MARKDOWN_SOLUTION = \"\"\n",
    "if __name__ == \"__main__\":\n",
    "    Post.answer()"
   ]
  },
  {
   "cell_type": "markdown",
   "id": "da6a59fc",
   "metadata": {},
   "source": [
    "### 51: Remap values in pandas column with a dict, preserve NaNs\n",
    "---"
   ]
  },
  {
   "cell_type": "markdown",
   "id": "10217107",
   "metadata": {},
   "source": [
    "<p>I have a dictionary which looks like this: <code>di = {1: &quot;A&quot;, 2: &quot;B&quot;}</code></p><br><p>I would like to apply it to the <code>col1</code> column of a dataframe similar to:</p><br><pre><code>     col1   col2<br>0       w      a<br>1       1      2<br>2       2    NaN<br></code></pre><br><p>to get:</p><br><pre><code>     col1   col2<br>0       w      a<br>1       A      2<br>2       B    NaN<br></code></pre><br><p>How can I best do this? For some reason googling terms relating to this only shows me links about how to make columns from dicts and vice-versa :-/</p><br>"
   ]
  },
  {
   "cell_type": "code",
   "execution_count": null,
   "id": "d7da9d58",
   "metadata": {},
   "outputs": [],
   "source": [
    "class Post:\n",
    "    # Please do not modify these unless it is very intentional\n",
    "    __TAGS = ['python', 'dictionary', 'pandas', 'remap']\n",
    "    __TITLE = \"Remap values in pandas column with a dict, preserve NaNs\"\n",
    "    __QUESTION = \"<p>I have a dictionary which looks like this: <code>di = {1: &quot;A&quot;, 2: &quot;B&quot;}</code></p><br><p>I would like to apply it to the <code>col1</code> column of a dataframe similar to:</p><br><pre><code>     col1   col2<br>0       w      a<br>1       1      2<br>2       2    NaN<br></code></pre><br><p>to get:</p><br><pre><code>     col1   col2<br>0       w      a<br>1       A      2<br>2       B    NaN<br></code></pre><br><p>How can I best do this? For some reason googling terms relating to this only shows me links about how to make columns from dicts and vice-versa :-/</p><br>\"\n",
    "    __ORIGINAL_LINK = \"https://stackoverflow.com/questions/20250771/remap-values-in-pandas-column-with-a-dict-preserve-nans\"\n",
    "\n",
    "    def answer():\n",
    "        raise NotImplementedError\n",
    "        \n",
    "    # optional markdown solution for easier reading\n",
    "    MARKDOWN_SOLUTION = \"\"\n",
    "if __name__ == \"__main__\":\n",
    "    Post.answer()"
   ]
  },
  {
   "cell_type": "markdown",
   "id": "5a29b388",
   "metadata": {},
   "source": [
    "### 52: how to sort pandas dataframe from one column\n",
    "---"
   ]
  },
  {
   "cell_type": "markdown",
   "id": "f8b0cc08",
   "metadata": {},
   "source": [
    "<p>I have a data frame like this: </p><br><br><pre><code>print(df)<br><br>        0          1     2<br>0   354.7      April   4.0<br>1    55.4     August   8.0<br>2   176.5   December  12.0<br>3    95.5   February   2.0<br>4    85.6    January   1.0<br>5     152       July   7.0<br>6   238.7       June   6.0<br>7   104.8      March   3.0<br>8   283.5        May   5.0<br>9   278.8   November  11.0<br>10  249.6    October  10.0<br>11  212.7  September   9.0<br></code></pre><br><br><p>As you can see, months are not in calendar order. So I created a second column to get the month number corresponding to each month (1-12). From there, how can I sort this data frame according to  calendar months order?</p><br>"
   ]
  },
  {
   "cell_type": "code",
   "execution_count": null,
   "id": "2fde813a",
   "metadata": {},
   "outputs": [],
   "source": [
    "class Post:\n",
    "    # Please do not modify these unless it is very intentional\n",
    "    __TAGS = ['python', 'pandas', 'dataframe', 'sorting', 'time']\n",
    "    __TITLE = \"how to sort pandas dataframe from one column\"\n",
    "    __QUESTION = \"<p>I have a data frame like this: </p><br><br><pre><code>print(df)<br><br>        0          1     2<br>0   354.7      April   4.0<br>1    55.4     August   8.0<br>2   176.5   December  12.0<br>3    95.5   February   2.0<br>4    85.6    January   1.0<br>5     152       July   7.0<br>6   238.7       June   6.0<br>7   104.8      March   3.0<br>8   283.5        May   5.0<br>9   278.8   November  11.0<br>10  249.6    October  10.0<br>11  212.7  September   9.0<br></code></pre><br><br><p>As you can see, months are not in calendar order. So I created a second column to get the month number corresponding to each month (1-12). From there, how can I sort this data frame according to  calendar months order?</p><br>\"\n",
    "    __ORIGINAL_LINK = \"https://stackoverflow.com/questions/37787698/how-to-sort-pandas-dataframe-from-one-column\"\n",
    "\n",
    "    def answer():\n",
    "        raise NotImplementedError\n",
    "        \n",
    "    # optional markdown solution for easier reading\n",
    "    MARKDOWN_SOLUTION = \"\"\n",
    "if __name__ == \"__main__\":\n",
    "    Post.answer()"
   ]
  },
  {
   "cell_type": "markdown",
   "id": "c4cd8da5",
   "metadata": {},
   "source": [
    "### 53: How to check if a column exists in Pandas\n",
    "---"
   ]
  },
  {
   "cell_type": "markdown",
   "id": "d7985c8c",
   "metadata": {},
   "source": [
    "<p>How do I check if a column exists in a Pandas DataFrame <code>df</code>?</p><br><pre><code>   A   B    C<br>0  3  40  100<br>1  6  30  200<br></code></pre><br><p>How would I check that the column <code>&quot;A&quot;</code> exists in the above DataFrame so that I can compute:</p><br><pre><code>df[sum] = df[A] + df[C]<br></code></pre><br><p>And if <code>&quot;A&quot;</code> doesnt exist:</p><br><pre><code>df[sum] = df[B] + df[C]<br></code></pre><br>"
   ]
  },
  {
   "cell_type": "code",
   "execution_count": null,
   "id": "4a037646",
   "metadata": {},
   "outputs": [],
   "source": [
    "class Post:\n",
    "    # Please do not modify these unless it is very intentional\n",
    "    __TAGS = ['python', 'pandas', 'dataframe']\n",
    "    __TITLE = \"How to check if a column exists in Pandas\"\n",
    "    __QUESTION = \"<p>How do I check if a column exists in a Pandas DataFrame <code>df</code>?</p><br><pre><code>   A   B    C<br>0  3  40  100<br>1  6  30  200<br></code></pre><br><p>How would I check that the column <code>&quot;A&quot;</code> exists in the above DataFrame so that I can compute:</p><br><pre><code>df[sum] = df[A] + df[C]<br></code></pre><br><p>And if <code>&quot;A&quot;</code> doesnt exist:</p><br><pre><code>df[sum] = df[B] + df[C]<br></code></pre><br>\"\n",
    "    __ORIGINAL_LINK = \"https://stackoverflow.com/questions/24870306/how-to-check-if-a-column-exists-in-pandas\"\n",
    "\n",
    "    def answer():\n",
    "        raise NotImplementedError\n",
    "        \n",
    "    # optional markdown solution for easier reading\n",
    "    MARKDOWN_SOLUTION = \"\"\n",
    "if __name__ == \"__main__\":\n",
    "    Post.answer()"
   ]
  },
  {
   "cell_type": "markdown",
   "id": "c4054756",
   "metadata": {},
   "source": [
    "### 54: How to flatten a hierarchical index in columns\n",
    "---"
   ]
  },
  {
   "cell_type": "markdown",
   "id": "6be9e527",
   "metadata": {},
   "source": [
    "<p>I have a data frame with a hierarchical index in axis 1 (columns) (from a <code>groupby.agg</code> operation):</p><br><br><pre><code>     USAF   WBAN  year  month  day  s_PC  s_CL  s_CD  s_CNT  tempf       <br>                                     sum   sum   sum    sum   amax   amin<br>0  702730  26451  1993      1    1     1     0    12     13  30.92  24.98<br>1  702730  26451  1993      1    2     0     0    13     13  32.00  24.98<br>2  702730  26451  1993      1    3     1    10     2     13  23.00   6.98<br>3  702730  26451  1993      1    4     1     0    12     13  10.04   3.92<br>4  702730  26451  1993      1    5     3     0    10     13  19.94  10.94<br></code></pre><br><br><p>I want to flatten it, so that it looks like this (names arent critical - I could rename):</p><br><br><pre><code>     USAF   WBAN  year  month  day  s_PC  s_CL  s_CD  s_CNT  tempf_amax  tmpf_amin   <br>0  702730  26451  1993      1    1     1     0    12     13  30.92          24.98<br>1  702730  26451  1993      1    2     0     0    13     13  32.00          24.98<br>2  702730  26451  1993      1    3     1    10     2     13  23.00          6.98<br>3  702730  26451  1993      1    4     1     0    12     13  10.04          3.92<br>4  702730  26451  1993      1    5     3     0    10     13  19.94          10.94<br></code></pre><br><br><p>How do I do this? (Ive tried a lot, to no avail.) </p><br><br><p>Per a suggestion, here is the head in dict form</p><br><br><pre><code>{(USAF, ): {0: 702730,<br>  1: 702730,<br>  2: 702730,<br>  3: 702730,<br>  4: 702730},<br> (WBAN, ): {0: 26451, 1: 26451, 2: 26451, 3: 26451, 4: 26451},<br> (day, ): {0: 1, 1: 2, 2: 3, 3: 4, 4: 5},<br> (month, ): {0: 1, 1: 1, 2: 1, 3: 1, 4: 1},<br> (s_CD, sum): {0: 12.0, 1: 13.0, 2: 2.0, 3: 12.0, 4: 10.0},<br> (s_CL, sum): {0: 0.0, 1: 0.0, 2: 10.0, 3: 0.0, 4: 0.0},<br> (s_CNT, sum): {0: 13.0, 1: 13.0, 2: 13.0, 3: 13.0, 4: 13.0},<br> (s_PC, sum): {0: 1.0, 1: 0.0, 2: 1.0, 3: 1.0, 4: 3.0},<br> (tempf, amax): {0: 30.920000000000002,<br>  1: 32.0,<br>  2: 23.0,<br>  3: 10.039999999999999,<br>  4: 19.939999999999998},<br> (tempf, amin): {0: 24.98,<br>  1: 24.98,<br>  2: 6.9799999999999969,<br>  3: 3.9199999999999982,<br>  4: 10.940000000000001},<br> (year, ): {0: 1993, 1: 1993, 2: 1993, 3: 1993, 4: 1993}}<br></code></pre><br>"
   ]
  },
  {
   "cell_type": "code",
   "execution_count": null,
   "id": "16b78849",
   "metadata": {},
   "outputs": [],
   "source": [
    "class Post:\n",
    "    # Please do not modify these unless it is very intentional\n",
    "    __TAGS = ['python', 'pandas', 'dataframe', 'multi-index']\n",
    "    __TITLE = \"How to flatten a hierarchical index in columns\"\n",
    "    __QUESTION = \"<p>I have a data frame with a hierarchical index in axis 1 (columns) (from a <code>groupby.agg</code> operation):</p><br><br><pre><code>     USAF   WBAN  year  month  day  s_PC  s_CL  s_CD  s_CNT  tempf       <br>                                     sum   sum   sum    sum   amax   amin<br>0  702730  26451  1993      1    1     1     0    12     13  30.92  24.98<br>1  702730  26451  1993      1    2     0     0    13     13  32.00  24.98<br>2  702730  26451  1993      1    3     1    10     2     13  23.00   6.98<br>3  702730  26451  1993      1    4     1     0    12     13  10.04   3.92<br>4  702730  26451  1993      1    5     3     0    10     13  19.94  10.94<br></code></pre><br><br><p>I want to flatten it, so that it looks like this (names arent critical - I could rename):</p><br><br><pre><code>     USAF   WBAN  year  month  day  s_PC  s_CL  s_CD  s_CNT  tempf_amax  tmpf_amin   <br>0  702730  26451  1993      1    1     1     0    12     13  30.92          24.98<br>1  702730  26451  1993      1    2     0     0    13     13  32.00          24.98<br>2  702730  26451  1993      1    3     1    10     2     13  23.00          6.98<br>3  702730  26451  1993      1    4     1     0    12     13  10.04          3.92<br>4  702730  26451  1993      1    5     3     0    10     13  19.94          10.94<br></code></pre><br><br><p>How do I do this? (Ive tried a lot, to no avail.) </p><br><br><p>Per a suggestion, here is the head in dict form</p><br><br><pre><code>{(USAF, ): {0: 702730,<br>  1: 702730,<br>  2: 702730,<br>  3: 702730,<br>  4: 702730},<br> (WBAN, ): {0: 26451, 1: 26451, 2: 26451, 3: 26451, 4: 26451},<br> (day, ): {0: 1, 1: 2, 2: 3, 3: 4, 4: 5},<br> (month, ): {0: 1, 1: 1, 2: 1, 3: 1, 4: 1},<br> (s_CD, sum): {0: 12.0, 1: 13.0, 2: 2.0, 3: 12.0, 4: 10.0},<br> (s_CL, sum): {0: 0.0, 1: 0.0, 2: 10.0, 3: 0.0, 4: 0.0},<br> (s_CNT, sum): {0: 13.0, 1: 13.0, 2: 13.0, 3: 13.0, 4: 13.0},<br> (s_PC, sum): {0: 1.0, 1: 0.0, 2: 1.0, 3: 1.0, 4: 3.0},<br> (tempf, amax): {0: 30.920000000000002,<br>  1: 32.0,<br>  2: 23.0,<br>  3: 10.039999999999999,<br>  4: 19.939999999999998},<br> (tempf, amin): {0: 24.98,<br>  1: 24.98,<br>  2: 6.9799999999999969,<br>  3: 3.9199999999999982,<br>  4: 10.940000000000001},<br> (year, ): {0: 1993, 1: 1993, 2: 1993, 3: 1993, 4: 1993}}<br></code></pre><br>\"\n",
    "    __ORIGINAL_LINK = \"https://stackoverflow.com/questions/14507794/how-to-flatten-a-hierarchical-index-in-columns\"\n",
    "\n",
    "    def answer():\n",
    "        raise NotImplementedError\n",
    "        \n",
    "    # optional markdown solution for easier reading\n",
    "    MARKDOWN_SOLUTION = \"\"\n",
    "if __name__ == \"__main__\":\n",
    "    Post.answer()"
   ]
  },
  {
   "cell_type": "markdown",
   "id": "2234a83b",
   "metadata": {},
   "source": [
    "### 55: Convert Python dict into a dataframe\n",
    "---"
   ]
  },
  {
   "cell_type": "markdown",
   "id": "d33ed768",
   "metadata": {},
   "source": [
    "<p>I have a Python dictionary like the following:</p><br><br><pre><code>{u2012-06-08: 388,<br> u2012-06-09: 388,<br> u2012-06-10: 388,<br> u2012-06-11: 389,<br> u2012-06-12: 389,<br> u2012-06-13: 389,<br> u2012-06-14: 389,<br> u2012-06-15: 389,<br> u2012-06-16: 389,<br> u2012-06-17: 389,<br> u2012-06-18: 390,<br> u2012-06-19: 390,<br> u2012-06-20: 390,<br> u2012-06-21: 390,<br> u2012-06-22: 390,<br> u2012-06-23: 390,<br> u2012-06-24: 390,<br> u2012-06-25: 391,<br> u2012-06-26: 391,<br> u2012-06-27: 391,<br> u2012-06-28: 391,<br> u2012-06-29: 391,<br> u2012-06-30: 391,<br> u2012-07-01: 391,<br> u2012-07-02: 392,<br> u2012-07-03: 392,<br> u2012-07-04: 392,<br> u2012-07-05: 392,<br> u2012-07-06: 392}<br></code></pre><br><br><p>The keys are <a href=http://en.wikipedia.org/wiki/Unicode rel=noreferrer>Unicode</a> dates and the values are integers. I would like to convert this into a pandas dataframe by having the dates and their corresponding values as two separate columns. Example: col1: Dates col2: DateValue (the dates are still Unicode and datevalues are still integers)</p><br><br><pre><code>     Date         DateValue<br>0    2012-07-01    391<br>1    2012-07-02    392<br>2    2012-07-03    392<br>.    2012-07-04    392<br>.    ...           ...<br>.    ...           ...<br></code></pre><br><br><p>Any help in this direction would be much appreciated. I am unable to find resources on the pandas docs to help me with this.</p><br><br><p>I know one solution might be to convert each key-value pair in this dict, into a dict so the entire structure becomes a dict of dicts, and then we can add each row individually to the dataframe. But I want to know if there is an easier way and a more direct way to do this.</p><br><br><p>So far I have tried converting the dict into a series object but this doesnt seem to maintain the relationship between the columns:</p><br><br><pre><code>s  = Series(my_dict,index=my_dict.keys())<br></code></pre><br>"
   ]
  },
  {
   "cell_type": "code",
   "execution_count": null,
   "id": "4ac63066",
   "metadata": {},
   "outputs": [],
   "source": [
    "class Post:\n",
    "    # Please do not modify these unless it is very intentional\n",
    "    __TAGS = ['python', 'pandas', 'dataframe']\n",
    "    __TITLE = \"Convert Python dict into a dataframe\"\n",
    "    __QUESTION = \"<p>I have a Python dictionary like the following:</p><br><br><pre><code>{u2012-06-08: 388,<br> u2012-06-09: 388,<br> u2012-06-10: 388,<br> u2012-06-11: 389,<br> u2012-06-12: 389,<br> u2012-06-13: 389,<br> u2012-06-14: 389,<br> u2012-06-15: 389,<br> u2012-06-16: 389,<br> u2012-06-17: 389,<br> u2012-06-18: 390,<br> u2012-06-19: 390,<br> u2012-06-20: 390,<br> u2012-06-21: 390,<br> u2012-06-22: 390,<br> u2012-06-23: 390,<br> u2012-06-24: 390,<br> u2012-06-25: 391,<br> u2012-06-26: 391,<br> u2012-06-27: 391,<br> u2012-06-28: 391,<br> u2012-06-29: 391,<br> u2012-06-30: 391,<br> u2012-07-01: 391,<br> u2012-07-02: 392,<br> u2012-07-03: 392,<br> u2012-07-04: 392,<br> u2012-07-05: 392,<br> u2012-07-06: 392}<br></code></pre><br><br><p>The keys are <a href=http://en.wikipedia.org/wiki/Unicode rel=noreferrer>Unicode</a> dates and the values are integers. I would like to convert this into a pandas dataframe by having the dates and their corresponding values as two separate columns. Example: col1: Dates col2: DateValue (the dates are still Unicode and datevalues are still integers)</p><br><br><pre><code>     Date         DateValue<br>0    2012-07-01    391<br>1    2012-07-02    392<br>2    2012-07-03    392<br>.    2012-07-04    392<br>.    ...           ...<br>.    ...           ...<br></code></pre><br><br><p>Any help in this direction would be much appreciated. I am unable to find resources on the pandas docs to help me with this.</p><br><br><p>I know one solution might be to convert each key-value pair in this dict, into a dict so the entire structure becomes a dict of dicts, and then we can add each row individually to the dataframe. But I want to know if there is an easier way and a more direct way to do this.</p><br><br><p>So far I have tried converting the dict into a series object but this doesnt seem to maintain the relationship between the columns:</p><br><br><pre><code>s  = Series(my_dict,index=my_dict.keys())<br></code></pre><br>\"\n",
    "    __ORIGINAL_LINK = \"https://stackoverflow.com/questions/18837262/convert-python-dict-into-a-dataframe\"\n",
    "\n",
    "    def answer():\n",
    "        raise NotImplementedError\n",
    "        \n",
    "    # optional markdown solution for easier reading\n",
    "    MARKDOWN_SOLUTION = \"\"\n",
    "if __name__ == \"__main__\":\n",
    "    Post.answer()"
   ]
  },
  {
   "cell_type": "markdown",
   "id": "9d1ac7b3",
   "metadata": {},
   "source": [
    "### 56: How to reset index in a pandas dataframe?\n",
    "---"
   ]
  },
  {
   "cell_type": "markdown",
   "id": "c02bb912",
   "metadata": {},
   "source": [
    "<p>I have a dataframe from which I remove some rows. As a result, I get a dataframe in which index is something like that: <code>[1,5,6,10,11]</code> and I would like to reset it to <code>[0,1,2,3,4]</code>. How can I do it?</p><br><br><hr><br><br><p>The following seems to work:</p><br><br><pre><code>df = df.reset_index()<br>del df[index]<br></code></pre><br><br><p>The following does not work:</p><br><br><pre><code>df = df.reindex()<br></code></pre><br>"
   ]
  },
  {
   "cell_type": "code",
   "execution_count": null,
   "id": "c2be5a78",
   "metadata": {},
   "outputs": [],
   "source": [
    "class Post:\n",
    "    # Please do not modify these unless it is very intentional\n",
    "    __TAGS = ['python', 'indexing', 'pandas', 'dataframe']\n",
    "    __TITLE = \"How to reset index in a pandas dataframe?\"\n",
    "    __QUESTION = \"<p>I have a dataframe from which I remove some rows. As a result, I get a dataframe in which index is something like that: <code>[1,5,6,10,11]</code> and I would like to reset it to <code>[0,1,2,3,4]</code>. How can I do it?</p><br><br><hr><br><br><p>The following seems to work:</p><br><br><pre><code>df = df.reset_index()<br>del df[index]<br></code></pre><br><br><p>The following does not work:</p><br><br><pre><code>df = df.reindex()<br></code></pre><br>\"\n",
    "    __ORIGINAL_LINK = \"https://stackoverflow.com/questions/20490274/how-to-reset-index-in-a-pandas-dataframe\"\n",
    "\n",
    "    def answer():\n",
    "        raise NotImplementedError\n",
    "        \n",
    "    # optional markdown solution for easier reading\n",
    "    MARKDOWN_SOLUTION = \"\"\n",
    "if __name__ == \"__main__\":\n",
    "    Post.answer()"
   ]
  },
  {
   "cell_type": "markdown",
   "id": "93c367eb",
   "metadata": {},
   "source": [
    "### 57: How to select all columns except one in pandas?\n",
    "---"
   ]
  },
  {
   "cell_type": "markdown",
   "id": "d97baab7",
   "metadata": {},
   "source": [
    "<p>I have a dataframe that look like this:</p><br><pre><code>import pandas as pd<br>import numpy as np<br>df = pd.DataFrame(np.random.rand(4,4), columns=list(abcd))<br>df<br>      a         b         c         d<br>0  0.418762  0.042369  0.869203  0.972314<br>1  0.991058  0.510228  0.594784  0.534366<br>2  0.407472  0.259811  0.396664  0.894202<br>3  0.726168  0.139531  0.324932  0.906575<br></code></pre><br><p>How I can get all columns except <code>b</code>?</p><br>"
   ]
  },
  {
   "cell_type": "code",
   "execution_count": null,
   "id": "a5e9ef18",
   "metadata": {},
   "outputs": [],
   "source": [
    "class Post:\n",
    "    # Please do not modify these unless it is very intentional\n",
    "    __TAGS = ['python', 'pandas']\n",
    "    __TITLE = \"How to select all columns except one in pandas?\"\n",
    "    __QUESTION = \"<p>I have a dataframe that look like this:</p><br><pre><code>import pandas as pd<br>import numpy as np<br>df = pd.DataFrame(np.random.rand(4,4), columns=list(abcd))<br>df<br>      a         b         c         d<br>0  0.418762  0.042369  0.869203  0.972314<br>1  0.991058  0.510228  0.594784  0.534366<br>2  0.407472  0.259811  0.396664  0.894202<br>3  0.726168  0.139531  0.324932  0.906575<br></code></pre><br><p>How I can get all columns except <code>b</code>?</p><br>\"\n",
    "    __ORIGINAL_LINK = \"https://stackoverflow.com/questions/29763620/how-to-select-all-columns-except-one-in-pandas\"\n",
    "\n",
    "    def answer():\n",
    "        raise NotImplementedError\n",
    "        \n",
    "    # optional markdown solution for easier reading\n",
    "    MARKDOWN_SOLUTION = \"\"\n",
    "if __name__ == \"__main__\":\n",
    "    Post.answer()"
   ]
  },
  {
   "cell_type": "markdown",
   "id": "57a8267c",
   "metadata": {},
   "source": [
    "### 58: Get list from pandas dataframe column or row?\n",
    "---"
   ]
  },
  {
   "cell_type": "markdown",
   "id": "fb774882",
   "metadata": {},
   "source": [
    "<p>I have a dataframe <code>df</code> imported from an Excel document like this:</p><br><pre><code>cluster load_date   budget  actual  fixed_price<br>A   1/1/2014    1000    4000    Y<br>A   2/1/2014    12000   10000   Y<br>A   3/1/2014    36000   2000    Y<br>B   4/1/2014    15000   10000   N<br>B   4/1/2014    12000   11500   N<br>B   4/1/2014    90000   11000   N<br>C   7/1/2014    22000   18000   N<br>C   8/1/2014    30000   28960   N<br>C   9/1/2014    53000   51200   N<br></code></pre><br><p>I want to be able to return the contents of column 1 <code>df[cluster]</code> as a list, so I can run a for-loop over it, and create an Excel worksheet for every cluster.</p><br><p>Is it also possible to return the contents of a whole column or row to a list? e.g.</p><br><pre><code>list = [], list[column1] or list[df.ix(row1)]<br></code></pre><br>"
   ]
  },
  {
   "cell_type": "code",
   "execution_count": null,
   "id": "9454ba17",
   "metadata": {},
   "outputs": [],
   "source": [
    "class Post:\n",
    "    # Please do not modify these unless it is very intentional\n",
    "    __TAGS = ['python', 'list', 'pandas']\n",
    "    __TITLE = \"Get list from pandas dataframe column or row?\"\n",
    "    __QUESTION = \"<p>I have a dataframe <code>df</code> imported from an Excel document like this:</p><br><pre><code>cluster load_date   budget  actual  fixed_price<br>A   1/1/2014    1000    4000    Y<br>A   2/1/2014    12000   10000   Y<br>A   3/1/2014    36000   2000    Y<br>B   4/1/2014    15000   10000   N<br>B   4/1/2014    12000   11500   N<br>B   4/1/2014    90000   11000   N<br>C   7/1/2014    22000   18000   N<br>C   8/1/2014    30000   28960   N<br>C   9/1/2014    53000   51200   N<br></code></pre><br><p>I want to be able to return the contents of column 1 <code>df[cluster]</code> as a list, so I can run a for-loop over it, and create an Excel worksheet for every cluster.</p><br><p>Is it also possible to return the contents of a whole column or row to a list? e.g.</p><br><pre><code>list = [], list[column1] or list[df.ix(row1)]<br></code></pre><br>\"\n",
    "    __ORIGINAL_LINK = \"https://stackoverflow.com/questions/22341271/get-list-from-pandas-dataframe-column-or-row\"\n",
    "\n",
    "    def answer():\n",
    "        raise NotImplementedError\n",
    "        \n",
    "    # optional markdown solution for easier reading\n",
    "    MARKDOWN_SOLUTION = \"\"\n",
    "if __name__ == \"__main__\":\n",
    "    Post.answer()"
   ]
  },
  {
   "cell_type": "markdown",
   "id": "10a23600",
   "metadata": {},
   "source": [
    "### 59: How can I use the apply() function for a single column?\n",
    "---"
   ]
  },
  {
   "cell_type": "markdown",
   "id": "54ba9667",
   "metadata": {},
   "source": [
    "<p>I have a pandas data frame with two columns. I need to change the values of the first column without affecting the second one and get back the whole data frame with just first column values changed. How can I do that using apply in pandas?</p><br>"
   ]
  },
  {
   "cell_type": "code",
   "execution_count": null,
   "id": "f758ad74",
   "metadata": {},
   "outputs": [],
   "source": [
    "class Post:\n",
    "    # Please do not modify these unless it is very intentional\n",
    "    __TAGS = ['python', 'pandas', 'dataframe']\n",
    "    __TITLE = \"How can I use the apply() function for a single column?\"\n",
    "    __QUESTION = \"<p>I have a pandas data frame with two columns. I need to change the values of the first column without affecting the second one and get back the whole data frame with just first column values changed. How can I do that using apply in pandas?</p><br>\"\n",
    "    __ORIGINAL_LINK = \"https://stackoverflow.com/questions/34962104/how-can-i-use-the-apply-function-for-a-single-column\"\n",
    "\n",
    "    def answer():\n",
    "        raise NotImplementedError\n",
    "        \n",
    "    # optional markdown solution for easier reading\n",
    "    MARKDOWN_SOLUTION = \"\"\n",
    "if __name__ == \"__main__\":\n",
    "    Post.answer()"
   ]
  },
  {
   "cell_type": "markdown",
   "id": "5ccdb23a",
   "metadata": {},
   "source": [
    "### 60: How do I create test and train samples from one dataframe with pandas?\n",
    "---"
   ]
  },
  {
   "cell_type": "markdown",
   "id": "70c3ba3d",
   "metadata": {},
   "source": [
    "<p>I have a fairly large dataset in the form of a dataframe and I was wondering how I would be able to split the dataframe into two random samples (80% and 20%) for training and testing.</p><br><br><p>Thanks!</p><br>"
   ]
  },
  {
   "cell_type": "code",
   "execution_count": null,
   "id": "b9de6282",
   "metadata": {},
   "outputs": [],
   "source": [
    "class Post:\n",
    "    # Please do not modify these unless it is very intentional\n",
    "    __TAGS = ['python', 'python-2.7', 'pandas', 'dataframe']\n",
    "    __TITLE = \"How do I create test and train samples from one dataframe with pandas?\"\n",
    "    __QUESTION = \"<p>I have a fairly large dataset in the form of a dataframe and I was wondering how I would be able to split the dataframe into two random samples (80% and 20%) for training and testing.</p><br><br><p>Thanks!</p><br>\"\n",
    "    __ORIGINAL_LINK = \"https://stackoverflow.com/questions/24147278/how-do-i-create-test-and-train-samples-from-one-dataframe-with-pandas\"\n",
    "\n",
    "    def answer():\n",
    "        raise NotImplementedError\n",
    "        \n",
    "    # optional markdown solution for easier reading\n",
    "    MARKDOWN_SOLUTION = \"\"\n",
    "if __name__ == \"__main__\":\n",
    "    Post.answer()"
   ]
  },
  {
   "cell_type": "markdown",
   "id": "979850c9",
   "metadata": {},
   "source": [
    "### 61: Pandas read_csv: low_memory and dtype options\n",
    "---"
   ]
  },
  {
   "cell_type": "markdown",
   "id": "c158e183",
   "metadata": {},
   "source": [
    "<pre><code>df = pd.read_csv(somefile.csv)<br></code></pre><br><p>...gives an error:</p><br><blockquote><br><p>.../site-packages/pandas/io/parsers.py:1130:<br>DtypeWarning: Columns (4,5,7,16) have mixed types.  Specify dtype<br>option on import or set low_memory=False.</p><br></blockquote><br><p>Why is the <code>dtype</code> option related to <code>low_memory</code>, and why might <code>low_memory=False</code> help?</p><br>"
   ]
  },
  {
   "cell_type": "code",
   "execution_count": null,
   "id": "f8da9b2b",
   "metadata": {},
   "outputs": [],
   "source": [
    "class Post:\n",
    "    # Please do not modify these unless it is very intentional\n",
    "    __TAGS = ['python', 'parsing', 'numpy', 'pandas', 'dataframe']\n",
    "    __TITLE = \"Pandas read_csv: low_memory and dtype options\"\n",
    "    __QUESTION = \"<pre><code>df = pd.read_csv(somefile.csv)<br></code></pre><br><p>...gives an error:</p><br><blockquote><br><p>.../site-packages/pandas/io/parsers.py:1130:<br>DtypeWarning: Columns (4,5,7,16) have mixed types.  Specify dtype<br>option on import or set low_memory=False.</p><br></blockquote><br><p>Why is the <code>dtype</code> option related to <code>low_memory</code>, and why might <code>low_memory=False</code> help?</p><br>\"\n",
    "    __ORIGINAL_LINK = \"https://stackoverflow.com/questions/24251219/pandas-read-csv-low-memory-and-dtype-options\"\n",
    "\n",
    "    def answer():\n",
    "        raise NotImplementedError\n",
    "        \n",
    "    # optional markdown solution for easier reading\n",
    "    MARKDOWN_SOLUTION = \"\"\n",
    "if __name__ == \"__main__\":\n",
    "    Post.answer()"
   ]
  },
  {
   "cell_type": "markdown",
   "id": "d1e045a3",
   "metadata": {},
   "source": [
    "### 62: How to group dataframe rows into list in pandas groupby\n",
    "---"
   ]
  },
  {
   "cell_type": "markdown",
   "id": "101f5777",
   "metadata": {},
   "source": [
    "<p>I have a pandas data frame <code>df</code> like:</p><br><br><pre><code>a b<br>A 1<br>A 2<br>B 5<br>B 5<br>B 4<br>C 6<br></code></pre><br><br><p>I want to <strong>group by the first column and get second column as lists in rows</strong>:</p><br><br><pre><code>A [1,2]<br>B [5,5,4]<br>C [6]<br></code></pre><br><br><p>Is it possible to do something like this using pandas groupby?</p><br>"
   ]
  },
  {
   "cell_type": "code",
   "execution_count": null,
   "id": "7b97d298",
   "metadata": {},
   "outputs": [],
   "source": [
    "class Post:\n",
    "    # Please do not modify these unless it is very intentional\n",
    "    __TAGS = ['python', 'pandas', 'list', 'aggregate', 'pandas-groupby']\n",
    "    __TITLE = \"How to group dataframe rows into list in pandas groupby\"\n",
    "    __QUESTION = \"<p>I have a pandas data frame <code>df</code> like:</p><br><br><pre><code>a b<br>A 1<br>A 2<br>B 5<br>B 5<br>B 4<br>C 6<br></code></pre><br><br><p>I want to <strong>group by the first column and get second column as lists in rows</strong>:</p><br><br><pre><code>A [1,2]<br>B [5,5,4]<br>C [6]<br></code></pre><br><br><p>Is it possible to do something like this using pandas groupby?</p><br>\"\n",
    "    __ORIGINAL_LINK = \"https://stackoverflow.com/questions/22219004/how-to-group-dataframe-rows-into-list-in-pandas-groupby\"\n",
    "\n",
    "    def answer():\n",
    "        raise NotImplementedError\n",
    "        \n",
    "    # optional markdown solution for easier reading\n",
    "    MARKDOWN_SOLUTION = \"\"\n",
    "if __name__ == \"__main__\":\n",
    "    Post.answer()"
   ]
  },
  {
   "cell_type": "markdown",
   "id": "e172dffe",
   "metadata": {},
   "source": [
    "### 63: Improve subplot size/spacing with many subplots in matplotlib\n",
    "---"
   ]
  },
  {
   "cell_type": "markdown",
   "id": "1ea4e32f",
   "metadata": {},
   "source": [
    "<p>Very similar to <a href=https://stackoverflow.com/questions/2418125/matplotlib-subplots-adjust-hspace-so-titles-and-xlabels-dont-overlap>this question</a> but with the difference that my figure can be as large as it needs to be.</p><br><br><p>I need to generate a whole bunch of vertically-stacked plots in matplotlib. The result will be saved using figsave and viewed on a webpage, so I dont care how tall the final image is as long as the subplots are spaced so they dont overlap. </p><br><br><p>No matter how big I allow the figure to be, the subplots always seem to overlap.</p><br><br><p>My code currently looks like</p><br><br><pre><code>import matplotlib.pyplot as plt<br>import my_other_module<br><br>titles, x_lists, y_lists = my_other_module.get_data()<br><br>fig = plt.figure(figsize=(10,60))<br>for i, y_list in enumerate(y_lists):<br>    plt.subplot(len(titles), 1, i)<br>    plt.xlabel(Some X label)<br>    plt.ylabel(Some Y label)<br>    plt.title(titles[i])<br>    plt.plot(x_lists[i],y_list)<br>fig.savefig(out.png, dpi=100)<br></code></pre><br>"
   ]
  },
  {
   "cell_type": "code",
   "execution_count": null,
   "id": "2aac3a15",
   "metadata": {},
   "outputs": [],
   "source": [
    "class Post:\n",
    "    # Please do not modify these unless it is very intentional\n",
    "    __TAGS = ['python', 'pandas', 'matplotlib', 'seaborn', 'subplot']\n",
    "    __TITLE = \"Improve subplot size/spacing with many subplots in matplotlib\"\n",
    "    __QUESTION = \"<p>Very similar to <a href=https://stackoverflow.com/questions/2418125/matplotlib-subplots-adjust-hspace-so-titles-and-xlabels-dont-overlap>this question</a> but with the difference that my figure can be as large as it needs to be.</p><br><br><p>I need to generate a whole bunch of vertically-stacked plots in matplotlib. The result will be saved using figsave and viewed on a webpage, so I dont care how tall the final image is as long as the subplots are spaced so they dont overlap. </p><br><br><p>No matter how big I allow the figure to be, the subplots always seem to overlap.</p><br><br><p>My code currently looks like</p><br><br><pre><code>import matplotlib.pyplot as plt<br>import my_other_module<br><br>titles, x_lists, y_lists = my_other_module.get_data()<br><br>fig = plt.figure(figsize=(10,60))<br>for i, y_list in enumerate(y_lists):<br>    plt.subplot(len(titles), 1, i)<br>    plt.xlabel(Some X label)<br>    plt.ylabel(Some Y label)<br>    plt.title(titles[i])<br>    plt.plot(x_lists[i],y_list)<br>fig.savefig(out.png, dpi=100)<br></code></pre><br>\"\n",
    "    __ORIGINAL_LINK = \"https://stackoverflow.com/questions/6541123/improve-subplot-size-spacing-with-many-subplots-in-matplotlib\"\n",
    "\n",
    "    def answer():\n",
    "        raise NotImplementedError\n",
    "        \n",
    "    # optional markdown solution for easier reading\n",
    "    MARKDOWN_SOLUTION = \"\"\n",
    "if __name__ == \"__main__\":\n",
    "    Post.answer()"
   ]
  },
  {
   "cell_type": "markdown",
   "id": "9a5cbb70",
   "metadata": {},
   "source": [
    "### 64: Selecting/excluding sets of columns in pandas\n",
    "---"
   ]
  },
  {
   "cell_type": "markdown",
   "id": "8b85355c",
   "metadata": {},
   "source": [
    "<p>I would like to create views or dataframes from an existing dataframe based on column selections.</p><br><br><p>For example, I would like to create a dataframe <code>df2</code> from a dataframe <code>df1</code> that holds all columns from it except two of them. I tried doing the following, but it didnt work:</p><br><br><pre><code>import numpy as np<br>import pandas as pd<br><br># Create a dataframe with columns A,B,C and D<br>df = pd.DataFrame(np.random.randn(100, 4), columns=list(ABCD))<br><br># Try to create a second dataframe df2 from df with all columns except B and D<br>my_cols = set(df.columns)<br>my_cols.remove(B).remove(D)<br><br># This returns an error (unhashable type: set)<br>df2 = df[my_cols]<br></code></pre><br><br><p>What am I doing wrong? Perhaps more generally, what mechanisms does pandas have to support the picking and <strong>exclusions</strong> of arbitrary sets of columns from a dataframe?</p><br>"
   ]
  },
  {
   "cell_type": "code",
   "execution_count": null,
   "id": "eec6bd8f",
   "metadata": {},
   "outputs": [],
   "source": [
    "class Post:\n",
    "    # Please do not modify these unless it is very intentional\n",
    "    __TAGS = ['python', 'pandas', 'dataframe']\n",
    "    __TITLE = \"Selecting/excluding sets of columns in pandas\"\n",
    "    __QUESTION = \"<p>I would like to create views or dataframes from an existing dataframe based on column selections.</p><br><br><p>For example, I would like to create a dataframe <code>df2</code> from a dataframe <code>df1</code> that holds all columns from it except two of them. I tried doing the following, but it didnt work:</p><br><br><pre><code>import numpy as np<br>import pandas as pd<br><br># Create a dataframe with columns A,B,C and D<br>df = pd.DataFrame(np.random.randn(100, 4), columns=list(ABCD))<br><br># Try to create a second dataframe df2 from df with all columns except B and D<br>my_cols = set(df.columns)<br>my_cols.remove(B).remove(D)<br><br># This returns an error (unhashable type: set)<br>df2 = df[my_cols]<br></code></pre><br><br><p>What am I doing wrong? Perhaps more generally, what mechanisms does pandas have to support the picking and <strong>exclusions</strong> of arbitrary sets of columns from a dataframe?</p><br>\"\n",
    "    __ORIGINAL_LINK = \"https://stackoverflow.com/questions/14940743/selecting-excluding-sets-of-columns-in-pandas\"\n",
    "\n",
    "    def answer():\n",
    "        raise NotImplementedError\n",
    "        \n",
    "    # optional markdown solution for easier reading\n",
    "    MARKDOWN_SOLUTION = \"\"\n",
    "if __name__ == \"__main__\":\n",
    "    Post.answer()"
   ]
  },
  {
   "cell_type": "markdown",
   "id": "188bb512",
   "metadata": {},
   "source": [
    "### 65: Get first row value of a given column\n",
    "---"
   ]
  },
  {
   "cell_type": "markdown",
   "id": "ea2055d0",
   "metadata": {},
   "source": [
    "<p>This seems like a ridiculously easy question... but Im not seeing the easy answer I was expecting.</p><br><p>So, how do I get the value at an nth row of a given column in Pandas? (I am particularly interested in the first row, but would be interested in a more general practice as well).</p><br><p>For example, lets say I want to pull the 1.2 value in <code>Btime</code> as a variable.</p><br><p>Whats the right way to do this?</p><br><pre class=lang-py prettyprint-override><code>&gt;&gt;&gt; df_test<br>    ATime   X   Y   Z   Btime  C   D   E<br>0    1.2  2  15   2    1.2  12  25  12<br>1    1.4  3  12   1    1.3  13  22  11<br>2    1.5  1  10   6    1.4  11  20  16<br>3    1.6  2   9  10    1.7  12  29  12<br>4    1.9  1   1   9    1.9  11  21  19<br>5    2.0  0   0   0    2.0   8  10  11<br>6    2.4  0   0   0    2.4  10  12  15<br></code></pre><br>"
   ]
  },
  {
   "cell_type": "code",
   "execution_count": null,
   "id": "af2a2127",
   "metadata": {},
   "outputs": [],
   "source": [
    "class Post:\n",
    "    # Please do not modify these unless it is very intentional\n",
    "    __TAGS = ['python', 'pandas', 'indexing', 'head']\n",
    "    __TITLE = \"Get first row value of a given column\"\n",
    "    __QUESTION = \"<p>This seems like a ridiculously easy question... but Im not seeing the easy answer I was expecting.</p><br><p>So, how do I get the value at an nth row of a given column in Pandas? (I am particularly interested in the first row, but would be interested in a more general practice as well).</p><br><p>For example, lets say I want to pull the 1.2 value in <code>Btime</code> as a variable.</p><br><p>Whats the right way to do this?</p><br><pre class=lang-py prettyprint-override><code>&gt;&gt;&gt; df_test<br>    ATime   X   Y   Z   Btime  C   D   E<br>0    1.2  2  15   2    1.2  12  25  12<br>1    1.4  3  12   1    1.3  13  22  11<br>2    1.5  1  10   6    1.4  11  20  16<br>3    1.6  2   9  10    1.7  12  29  12<br>4    1.9  1   1   9    1.9  11  21  19<br>5    2.0  0   0   0    2.0   8  10  11<br>6    2.4  0   0   0    2.4  10  12  15<br></code></pre><br>\"\n",
    "    __ORIGINAL_LINK = \"https://stackoverflow.com/questions/25254016/get-first-row-value-of-a-given-column\"\n",
    "\n",
    "    def answer():\n",
    "        raise NotImplementedError\n",
    "        \n",
    "    # optional markdown solution for easier reading\n",
    "    MARKDOWN_SOLUTION = \"\"\n",
    "if __name__ == \"__main__\":\n",
    "    Post.answer()"
   ]
  },
  {
   "cell_type": "markdown",
   "id": "c80bc114",
   "metadata": {},
   "source": [
    "### 66: Python Pandas: Get index of rows which column matches certain value\n",
    "---"
   ]
  },
  {
   "cell_type": "markdown",
   "id": "b3f03a00",
   "metadata": {},
   "source": [
    "<p>Given a DataFrame with a column BoolCol, we want to find the indexes of the DataFrame in which the values for BoolCol == True</p><br><br><p>I currently have the iterating way to do it, which works perfectly:</p><br><br><pre><code>for i in range(100,3000):<br>    if df.iloc[i][BoolCol]== True:<br>         print i,df.iloc[i][BoolCol]<br></code></pre><br><br><p>But this is not the correct pandas way to do it.<br>After some research, I am currently using this code:</p><br><br><pre><code>df[df[BoolCol] == True].index.tolist()<br></code></pre><br><br><p>This one gives me a list of indexes, but they dont match, when I check them by doing:</p><br><br><pre><code>df.iloc[i][BoolCol]<br></code></pre><br><br><p>The result is actually False!!</p><br><br><p>Which would be the correct Pandas way to do this?</p><br>"
   ]
  },
  {
   "cell_type": "code",
   "execution_count": null,
   "id": "6274c779",
   "metadata": {},
   "outputs": [],
   "source": [
    "class Post:\n",
    "    # Please do not modify these unless it is very intentional\n",
    "    __TAGS = ['python', 'indexing', 'pandas']\n",
    "    __TITLE = \"Python Pandas: Get index of rows which column matches certain value\"\n",
    "    __QUESTION = \"<p>Given a DataFrame with a column BoolCol, we want to find the indexes of the DataFrame in which the values for BoolCol == True</p><br><br><p>I currently have the iterating way to do it, which works perfectly:</p><br><br><pre><code>for i in range(100,3000):<br>    if df.iloc[i][BoolCol]== True:<br>         print i,df.iloc[i][BoolCol]<br></code></pre><br><br><p>But this is not the correct pandas way to do it.<br>After some research, I am currently using this code:</p><br><br><pre><code>df[df[BoolCol] == True].index.tolist()<br></code></pre><br><br><p>This one gives me a list of indexes, but they dont match, when I check them by doing:</p><br><br><pre><code>df.iloc[i][BoolCol]<br></code></pre><br><br><p>The result is actually False!!</p><br><br><p>Which would be the correct Pandas way to do this?</p><br>\"\n",
    "    __ORIGINAL_LINK = \"https://stackoverflow.com/questions/21800169/python-pandas-get-index-of-rows-which-column-matches-certain-value\"\n",
    "\n",
    "    def answer():\n",
    "        raise NotImplementedError\n",
    "        \n",
    "    # optional markdown solution for easier reading\n",
    "    MARKDOWN_SOLUTION = \"\"\n",
    "if __name__ == \"__main__\":\n",
    "    Post.answer()"
   ]
  },
  {
   "cell_type": "markdown",
   "id": "afce3a02",
   "metadata": {},
   "source": [
    "### 67: Pandas conditional creation of a series/dataframe column\n",
    "---"
   ]
  },
  {
   "cell_type": "markdown",
   "id": "6d250110",
   "metadata": {},
   "source": [
    "<p>How do I add a <code>color</code> column to the following dataframe so that <code>color=green</code> if <code>Set == Z</code>, and <code>color=red</code> otherwise?</p><br><pre><code>    Type       Set<br>1    A          Z<br>2    B          Z           <br>3    B          X<br>4    C          Y<br></code></pre><br>"
   ]
  },
  {
   "cell_type": "code",
   "execution_count": null,
   "id": "36b880d4",
   "metadata": {},
   "outputs": [],
   "source": [
    "class Post:\n",
    "    # Please do not modify these unless it is very intentional\n",
    "    __TAGS = ['python', 'pandas', 'numpy', 'dataframe']\n",
    "    __TITLE = \"Pandas conditional creation of a series/dataframe column\"\n",
    "    __QUESTION = \"<p>How do I add a <code>color</code> column to the following dataframe so that <code>color=green</code> if <code>Set == Z</code>, and <code>color=red</code> otherwise?</p><br><pre><code>    Type       Set<br>1    A          Z<br>2    B          Z           <br>3    B          X<br>4    C          Y<br></code></pre><br>\"\n",
    "    __ORIGINAL_LINK = \"https://stackoverflow.com/questions/19913659/pandas-conditional-creation-of-a-series-dataframe-column\"\n",
    "\n",
    "    def answer():\n",
    "        raise NotImplementedError\n",
    "        \n",
    "    # optional markdown solution for easier reading\n",
    "    MARKDOWN_SOLUTION = \"\"\n",
    "if __name__ == \"__main__\":\n",
    "    Post.answer()"
   ]
  },
  {
   "cell_type": "markdown",
   "id": "c148fdbd",
   "metadata": {},
   "source": [
    "### 68: Sorting columns in pandas dataframe based on column name\n",
    "---"
   ]
  },
  {
   "cell_type": "markdown",
   "id": "6bb8f3b6",
   "metadata": {},
   "source": [
    "<p>I have a <code>dataframe</code> with over 200 columns. The issue is as they were generated the order is</p><br><pre><code>[Q1.3,Q6.1,Q1.2,Q1.1,......]<br></code></pre><br><p>I need to sort the columns as follows:</p><br><pre><code>[Q1.1,Q1.2,Q1.3,.....Q6.1,......]<br></code></pre><br><p>Is there some way for me to do this within Python?</p><br>"
   ]
  },
  {
   "cell_type": "code",
   "execution_count": null,
   "id": "048f37f4",
   "metadata": {},
   "outputs": [],
   "source": [
    "class Post:\n",
    "    # Please do not modify these unless it is very intentional\n",
    "    __TAGS = ['python', 'pandas', 'dataframe']\n",
    "    __TITLE = \"Sorting columns in pandas dataframe based on column name\"\n",
    "    __QUESTION = \"<p>I have a <code>dataframe</code> with over 200 columns. The issue is as they were generated the order is</p><br><pre><code>[Q1.3,Q6.1,Q1.2,Q1.1,......]<br></code></pre><br><p>I need to sort the columns as follows:</p><br><pre><code>[Q1.1,Q1.2,Q1.3,.....Q6.1,......]<br></code></pre><br><p>Is there some way for me to do this within Python?</p><br>\"\n",
    "    __ORIGINAL_LINK = \"https://stackoverflow.com/questions/11067027/sorting-columns-in-pandas-dataframe-based-on-column-name\"\n",
    "\n",
    "    def answer():\n",
    "        raise NotImplementedError\n",
    "        \n",
    "    # optional markdown solution for easier reading\n",
    "    MARKDOWN_SOLUTION = \"\"\n",
    "if __name__ == \"__main__\":\n",
    "    Post.answer()"
   ]
  },
  {
   "cell_type": "markdown",
   "id": "2b653cb6",
   "metadata": {},
   "source": [
    "### 69: Count the frequency that a value occurs in a dataframe column\n",
    "---"
   ]
  },
  {
   "cell_type": "markdown",
   "id": "b16255b7",
   "metadata": {},
   "source": [
    "<p>I have a dataset</p><br><pre><code>category<br>cat a<br>cat b<br>cat a<br></code></pre><br><p>Id like to be able to return something like (showing unique values and frequency)</p><br><pre><code>category   freq <br>cat a       2<br>cat b       1<br></code></pre><br>"
   ]
  },
  {
   "cell_type": "code",
   "execution_count": null,
   "id": "c4108b49",
   "metadata": {},
   "outputs": [],
   "source": [
    "class Post:\n",
    "    # Please do not modify these unless it is very intentional\n",
    "    __TAGS = ['python', 'pandas', 'frequency']\n",
    "    __TITLE = \"Count the frequency that a value occurs in a dataframe column\"\n",
    "    __QUESTION = \"<p>I have a dataset</p><br><pre><code>category<br>cat a<br>cat b<br>cat a<br></code></pre><br><p>Id like to be able to return something like (showing unique values and frequency)</p><br><pre><code>category   freq <br>cat a       2<br>cat b       1<br></code></pre><br>\"\n",
    "    __ORIGINAL_LINK = \"https://stackoverflow.com/questions/22391433/count-the-frequency-that-a-value-occurs-in-a-dataframe-column\"\n",
    "\n",
    "    def answer():\n",
    "        raise NotImplementedError\n",
    "        \n",
    "    # optional markdown solution for easier reading\n",
    "    MARKDOWN_SOLUTION = \"\"\n",
    "if __name__ == \"__main__\":\n",
    "    Post.answer()"
   ]
  },
  {
   "cell_type": "markdown",
   "id": "a577ff6f",
   "metadata": {},
   "source": [
    "### 70: What does `ValueError: cannot reindex from a duplicate axis` mean?\n",
    "---"
   ]
  },
  {
   "cell_type": "markdown",
   "id": "85c40ac9",
   "metadata": {},
   "source": [
    "<p>I am getting a <code>ValueError: cannot reindex from a duplicate axis</code> when I am trying to set an index to a certain value. I tried to reproduce this with a simple example, but I could not do it.</p><br><br><p>Here is my session inside of <code>ipdb</code> trace. I have a DataFrame with string index, and integer columns, float values. However when I try to create <code>sum</code> index for sum of all columns I am getting <code>ValueError: cannot reindex from a duplicate axis</code> error. I created a small DataFrame with the same characteristics, but was not able to reproduce the problem, what could I be missing?</p><br><br><p>I dont really understand what <code>ValueError: cannot reindex from a duplicate axis</code>means, what does this error message mean? Maybe this will help me diagnose the problem, and this is most answerable part of my question.</p><br><br><pre><code>ipdb&gt; type(affinity_matrix)<br>&lt;class pandas.core.frame.DataFrame&gt;<br>ipdb&gt; affinity_matrix.shape<br>(333, 10)<br>ipdb&gt; affinity_matrix.columns<br>Int64Index([9315684, 9315597, 9316591, 9320520, 9321163, 9320615, 9321187, 9319487, 9319467, 9320484], dtype=int64)<br>ipdb&gt; affinity_matrix.index<br>Index([u001, u002, u003, u004, u005, u008, u009, u010, u011, u014, u015, u016, u018, u020, u021, u022, u024, u025, u026, u027, u028, u029, u030, u032, u033, u034, u035, u036, u039, u040, u041, u042, u043, u044, u045, u047, u047, u048, u050, u053, u054, u055, u056, u057, u058, u059, u060, u061, u062, u063, u065, u067, u068, u069, u070, u071, u072, u073, u074, u075, u076, u077, u078, u080, u082, u083, u084, u085, u086, u089, u090, u091, u092, u093, u094, u095, u096, u097, u098, u100, u101, u103, u104, u105, u106, u107, u108, u109, u110, u111, u112, u113, u114, u115, u116, u117, u118, u119, u121, u122, ...], dtype=object)<br><br>ipdb&gt; affinity_matrix.values.dtype<br>dtype(float64)<br>ipdb&gt; sums in affinity_matrix.index<br>False<br></code></pre><br><br><p>Here is the error:</p><br><br><pre><code>ipdb&gt; affinity_matrix.loc[sums] = affinity_matrix.sum(axis=0)<br>*** ValueError: cannot reindex from a duplicate axis<br></code></pre><br><br><p>I tried to reproduce this with a simple example, but I failed</p><br><br><pre><code>In [32]: import pandas as pd<br><br>In [33]: import numpy as np<br><br>In [34]: a = np.arange(35).reshape(5,7)<br><br>In [35]: df = pd.DataFrame(a, [x, y, u, z, w], range(10, 17))<br><br>In [36]: df.values.dtype<br>Out[36]: dtype(int64)<br><br>In [37]: df.loc[sums] = df.sum(axis=0)<br><br>In [38]: df<br>Out[38]: <br>      10  11  12  13  14  15   16<br>x      0   1   2   3   4   5    6<br>y      7   8   9  10  11  12   13<br>u     14  15  16  17  18  19   20<br>z     21  22  23  24  25  26   27<br>w     28  29  30  31  32  33   34<br>sums  70  75  80  85  90  95  100<br></code></pre><br>"
   ]
  },
  {
   "cell_type": "code",
   "execution_count": null,
   "id": "839d68a6",
   "metadata": {},
   "outputs": [],
   "source": [
    "class Post:\n",
    "    # Please do not modify these unless it is very intentional\n",
    "    __TAGS = ['python', 'pandas']\n",
    "    __TITLE = \"What does `ValueError: cannot reindex from a duplicate axis` mean?\"\n",
    "    __QUESTION = \"<p>I am getting a <code>ValueError: cannot reindex from a duplicate axis</code> when I am trying to set an index to a certain value. I tried to reproduce this with a simple example, but I could not do it.</p><br><br><p>Here is my session inside of <code>ipdb</code> trace. I have a DataFrame with string index, and integer columns, float values. However when I try to create <code>sum</code> index for sum of all columns I am getting <code>ValueError: cannot reindex from a duplicate axis</code> error. I created a small DataFrame with the same characteristics, but was not able to reproduce the problem, what could I be missing?</p><br><br><p>I dont really understand what <code>ValueError: cannot reindex from a duplicate axis</code>means, what does this error message mean? Maybe this will help me diagnose the problem, and this is most answerable part of my question.</p><br><br><pre><code>ipdb&gt; type(affinity_matrix)<br>&lt;class pandas.core.frame.DataFrame&gt;<br>ipdb&gt; affinity_matrix.shape<br>(333, 10)<br>ipdb&gt; affinity_matrix.columns<br>Int64Index([9315684, 9315597, 9316591, 9320520, 9321163, 9320615, 9321187, 9319487, 9319467, 9320484], dtype=int64)<br>ipdb&gt; affinity_matrix.index<br>Index([u001, u002, u003, u004, u005, u008, u009, u010, u011, u014, u015, u016, u018, u020, u021, u022, u024, u025, u026, u027, u028, u029, u030, u032, u033, u034, u035, u036, u039, u040, u041, u042, u043, u044, u045, u047, u047, u048, u050, u053, u054, u055, u056, u057, u058, u059, u060, u061, u062, u063, u065, u067, u068, u069, u070, u071, u072, u073, u074, u075, u076, u077, u078, u080, u082, u083, u084, u085, u086, u089, u090, u091, u092, u093, u094, u095, u096, u097, u098, u100, u101, u103, u104, u105, u106, u107, u108, u109, u110, u111, u112, u113, u114, u115, u116, u117, u118, u119, u121, u122, ...], dtype=object)<br><br>ipdb&gt; affinity_matrix.values.dtype<br>dtype(float64)<br>ipdb&gt; sums in affinity_matrix.index<br>False<br></code></pre><br><br><p>Here is the error:</p><br><br><pre><code>ipdb&gt; affinity_matrix.loc[sums] = affinity_matrix.sum(axis=0)<br>*** ValueError: cannot reindex from a duplicate axis<br></code></pre><br><br><p>I tried to reproduce this with a simple example, but I failed</p><br><br><pre><code>In [32]: import pandas as pd<br><br>In [33]: import numpy as np<br><br>In [34]: a = np.arange(35).reshape(5,7)<br><br>In [35]: df = pd.DataFrame(a, [x, y, u, z, w], range(10, 17))<br><br>In [36]: df.values.dtype<br>Out[36]: dtype(int64)<br><br>In [37]: df.loc[sums] = df.sum(axis=0)<br><br>In [38]: df<br>Out[38]: <br>      10  11  12  13  14  15   16<br>x      0   1   2   3   4   5    6<br>y      7   8   9  10  11  12   13<br>u     14  15  16  17  18  19   20<br>z     21  22  23  24  25  26   27<br>w     28  29  30  31  32  33   34<br>sums  70  75  80  85  90  95  100<br></code></pre><br>\"\n",
    "    __ORIGINAL_LINK = \"https://stackoverflow.com/questions/27236275/what-does-valueerror-cannot-reindex-from-a-duplicate-axis-mean\"\n",
    "\n",
    "    def answer():\n",
    "        raise NotImplementedError\n",
    "        \n",
    "    # optional markdown solution for easier reading\n",
    "    MARKDOWN_SOLUTION = \"\"\n",
    "if __name__ == \"__main__\":\n",
    "    Post.answer()"
   ]
  },
  {
   "cell_type": "markdown",
   "id": "ccead08e",
   "metadata": {},
   "source": [
    "### 71: Convert DataFrame column type from string to datetime\n",
    "---"
   ]
  },
  {
   "cell_type": "markdown",
   "id": "9702e78c",
   "metadata": {},
   "source": [
    "<p>How can I convert a DataFrame column of strings (in <strong><em>dd/mm/yyyy</em></strong> format) to datetimes?</p><br>"
   ]
  },
  {
   "cell_type": "code",
   "execution_count": null,
   "id": "9c524109",
   "metadata": {},
   "outputs": [],
   "source": [
    "class Post:\n",
    "    # Please do not modify these unless it is very intentional\n",
    "    __TAGS = ['python', 'pandas', 'dataframe', 'datetime-format', 'python-datetime']\n",
    "    __TITLE = \"Convert DataFrame column type from string to datetime\"\n",
    "    __QUESTION = \"<p>How can I convert a DataFrame column of strings (in <strong><em>dd/mm/yyyy</em></strong> format) to datetimes?</p><br>\"\n",
    "    __ORIGINAL_LINK = \"https://stackoverflow.com/questions/17134716/convert-dataframe-column-type-from-string-to-datetime\"\n",
    "\n",
    "    def answer():\n",
    "        raise NotImplementedError\n",
    "        \n",
    "    # optional markdown solution for easier reading\n",
    "    MARKDOWN_SOLUTION = \"\"\n",
    "if __name__ == \"__main__\":\n",
    "    Post.answer()"
   ]
  },
  {
   "cell_type": "markdown",
   "id": "38f8b1b0",
   "metadata": {},
   "source": [
    "### 72: Create Pandas DataFrame from a string\n",
    "---"
   ]
  },
  {
   "cell_type": "markdown",
   "id": "2ceed823",
   "metadata": {},
   "source": [
    "<p>In order to test some functionality I would like to create a <code>DataFrame</code> from a string. Lets say my test data looks like:</p><br><br><pre><code>TESTDATA=col1;col2;col3<br>1;4.4;99<br>2;4.5;200<br>3;4.7;65<br>4;3.2;140<br><br></code></pre><br><br><p>What is the simplest way to read that data into a Pandas <code>DataFrame</code>?</p><br>"
   ]
  },
  {
   "cell_type": "code",
   "execution_count": null,
   "id": "296ddb2e",
   "metadata": {},
   "outputs": [],
   "source": [
    "class Post:\n",
    "    # Please do not modify these unless it is very intentional\n",
    "    __TAGS = ['python', 'string', 'pandas', 'csv', 'csv-import']\n",
    "    __TITLE = \"Create Pandas DataFrame from a string\"\n",
    "    __QUESTION = \"<p>In order to test some functionality I would like to create a <code>DataFrame</code> from a string. Lets say my test data looks like:</p><br><br><pre><code>TESTDATA=col1;col2;col3<br>1;4.4;99<br>2;4.5;200<br>3;4.7;65<br>4;3.2;140<br><br></code></pre><br><br><p>What is the simplest way to read that data into a Pandas <code>DataFrame</code>?</p><br>\"\n",
    "    __ORIGINAL_LINK = \"https://stackoverflow.com/questions/22604564/create-pandas-dataframe-from-a-string\"\n",
    "\n",
    "    def answer():\n",
    "        raise NotImplementedError\n",
    "        \n",
    "    # optional markdown solution for easier reading\n",
    "    MARKDOWN_SOLUTION = \"\"\n",
    "if __name__ == \"__main__\":\n",
    "    Post.answer()"
   ]
  },
  {
   "cell_type": "markdown",
   "id": "0c47237b",
   "metadata": {},
   "source": [
    "### 73: How to add an empty column to a dataframe?\n",
    "---"
   ]
  },
  {
   "cell_type": "markdown",
   "id": "97280aaa",
   "metadata": {},
   "source": [
    "<p>Whats the easiest way to add an empty column to a pandas <code>DataFrame</code> object?  The best Ive stumbled upon is something like</p><br><br><pre><code>df[foo] = df.apply(lambda _: , axis=1)<br></code></pre><br><br><p>Is there a less perverse method?</p><br>"
   ]
  },
  {
   "cell_type": "code",
   "execution_count": null,
   "id": "b6df008c",
   "metadata": {},
   "outputs": [],
   "source": [
    "class Post:\n",
    "    # Please do not modify these unless it is very intentional\n",
    "    __TAGS = ['python', 'pandas']\n",
    "    __TITLE = \"How to add an empty column to a dataframe?\"\n",
    "    __QUESTION = \"<p>Whats the easiest way to add an empty column to a pandas <code>DataFrame</code> object?  The best Ive stumbled upon is something like</p><br><br><pre><code>df[foo] = df.apply(lambda _: , axis=1)<br></code></pre><br><br><p>Is there a less perverse method?</p><br>\"\n",
    "    __ORIGINAL_LINK = \"https://stackoverflow.com/questions/16327055/how-to-add-an-empty-column-to-a-dataframe\"\n",
    "\n",
    "    def answer():\n",
    "        raise NotImplementedError\n",
    "        \n",
    "    # optional markdown solution for easier reading\n",
    "    MARKDOWN_SOLUTION = \"\"\n",
    "if __name__ == \"__main__\":\n",
    "    Post.answer()"
   ]
  },
  {
   "cell_type": "markdown",
   "id": "0a85d0d9",
   "metadata": {},
   "source": [
    "### 74: How to sort a dataFrame in python pandas by two or more columns?\n",
    "---"
   ]
  },
  {
   "cell_type": "markdown",
   "id": "e8676a46",
   "metadata": {},
   "source": [
    "<p>Suppose I have a dataframe with columns <code>a</code>, <code>b</code> and <code>c</code>, I want to sort the dataframe by column <code>b</code> in ascending order, and by column <code>c</code> in descending order, how do I do this?</p><br>"
   ]
  },
  {
   "cell_type": "code",
   "execution_count": null,
   "id": "a232a6a1",
   "metadata": {},
   "outputs": [],
   "source": [
    "class Post:\n",
    "    # Please do not modify these unless it is very intentional\n",
    "    __TAGS = ['python', 'pandas', 'python-2.7', 'sorting', 'data-analysis']\n",
    "    __TITLE = \"How to sort a dataFrame in python pandas by two or more columns?\"\n",
    "    __QUESTION = \"<p>Suppose I have a dataframe with columns <code>a</code>, <code>b</code> and <code>c</code>, I want to sort the dataframe by column <code>b</code> in ascending order, and by column <code>c</code> in descending order, how do I do this?</p><br>\"\n",
    "    __ORIGINAL_LINK = \"https://stackoverflow.com/questions/17141558/how-to-sort-a-dataframe-in-python-pandas-by-two-or-more-columns\"\n",
    "\n",
    "    def answer():\n",
    "        raise NotImplementedError\n",
    "        \n",
    "    # optional markdown solution for easier reading\n",
    "    MARKDOWN_SOLUTION = \"\"\n",
    "if __name__ == \"__main__\":\n",
    "    Post.answer()"
   ]
  },
  {
   "cell_type": "markdown",
   "id": "045a4c74",
   "metadata": {},
   "source": [
    "### 75: How to reversibly store and load a Pandas dataframe to/from disk\n",
    "---"
   ]
  },
  {
   "cell_type": "markdown",
   "id": "c189ffd8",
   "metadata": {},
   "source": [
    "<p>Right now Im importing a fairly large <code>CSV</code> as a dataframe every time I run the script. Is there a good solution for keeping that dataframe constantly available in between runs so I dont have to spend all that time waiting for the script to run?</p><br>"
   ]
  },
  {
   "cell_type": "code",
   "execution_count": null,
   "id": "e2e64430",
   "metadata": {},
   "outputs": [],
   "source": [
    "class Post:\n",
    "    # Please do not modify these unless it is very intentional\n",
    "    __TAGS = ['python', 'pandas', 'dataframe']\n",
    "    __TITLE = \"How to reversibly store and load a Pandas dataframe to/from disk\"\n",
    "    __QUESTION = \"<p>Right now Im importing a fairly large <code>CSV</code> as a dataframe every time I run the script. Is there a good solution for keeping that dataframe constantly available in between runs so I dont have to spend all that time waiting for the script to run?</p><br>\"\n",
    "    __ORIGINAL_LINK = \"https://stackoverflow.com/questions/17098654/how-to-reversibly-store-and-load-a-pandas-dataframe-to-from-disk\"\n",
    "\n",
    "    def answer():\n",
    "        raise NotImplementedError\n",
    "        \n",
    "    # optional markdown solution for easier reading\n",
    "    MARKDOWN_SOLUTION = \"\"\n",
    "if __name__ == \"__main__\":\n",
    "    Post.answer()"
   ]
  },
  {
   "cell_type": "markdown",
   "id": "7674bf1a",
   "metadata": {},
   "source": [
    "### 76: Convert Pandas Column to DateTime\n",
    "---"
   ]
  },
  {
   "cell_type": "markdown",
   "id": "62fefbf5",
   "metadata": {},
   "source": [
    "<p>I have one field in a pandas DataFrame that was imported as string format. <br>It should be a datetime variable.<br>How do I convert it to a datetime column and then filter based on date.</p><br><br><p>Example:</p><br><br><ul><br><li>DataFrame Name: <strong>raw_data</strong>    </li><br><li>Column Name: <strong>Mycol</strong>    </li><br><li>Value<br>Format in Column: <strong>05SEP2014:00:00:00.000</strong></li><br></ul><br>"
   ]
  },
  {
   "cell_type": "code",
   "execution_count": null,
   "id": "ded5c323",
   "metadata": {},
   "outputs": [],
   "source": [
    "class Post:\n",
    "    # Please do not modify these unless it is very intentional\n",
    "    __TAGS = ['python', 'datetime', 'pandas']\n",
    "    __TITLE = \"Convert Pandas Column to DateTime\"\n",
    "    __QUESTION = \"<p>I have one field in a pandas DataFrame that was imported as string format. <br>It should be a datetime variable.<br>How do I convert it to a datetime column and then filter based on date.</p><br><br><p>Example:</p><br><br><ul><br><li>DataFrame Name: <strong>raw_data</strong>    </li><br><li>Column Name: <strong>Mycol</strong>    </li><br><li>Value<br>Format in Column: <strong>05SEP2014:00:00:00.000</strong></li><br></ul><br>\"\n",
    "    __ORIGINAL_LINK = \"https://stackoverflow.com/questions/26763344/convert-pandas-column-to-datetime\"\n",
    "\n",
    "    def answer():\n",
    "        raise NotImplementedError\n",
    "        \n",
    "    # optional markdown solution for easier reading\n",
    "    MARKDOWN_SOLUTION = \"\"\n",
    "if __name__ == \"__main__\":\n",
    "    Post.answer()"
   ]
  },
  {
   "cell_type": "markdown",
   "id": "523dd416",
   "metadata": {},
   "source": [
    "### 77: How to draw vertical lines on a given plot\n",
    "---"
   ]
  },
  {
   "cell_type": "markdown",
   "id": "642ac9aa",
   "metadata": {},
   "source": [
    "<p>Given a plot of a signal in time representation, how can I draw lines marking the corresponding time index?</p><br><p>Specifically, given a signal plot with a time index ranging from 0 to 2.6 (seconds), I want to draw vertical red lines indicating the corresponding time index for the list <code>[0.22058956, 0.33088437, 2.20589566]</code>. How can I do it?</p><br>"
   ]
  },
  {
   "cell_type": "code",
   "execution_count": null,
   "id": "eed7ce01",
   "metadata": {},
   "outputs": [],
   "source": [
    "class Post:\n",
    "    # Please do not modify these unless it is very intentional\n",
    "    __TAGS = ['python', 'pandas', 'matplotlib', 'seaborn']\n",
    "    __TITLE = \"How to draw vertical lines on a given plot\"\n",
    "    __QUESTION = \"<p>Given a plot of a signal in time representation, how can I draw lines marking the corresponding time index?</p><br><p>Specifically, given a signal plot with a time index ranging from 0 to 2.6 (seconds), I want to draw vertical red lines indicating the corresponding time index for the list <code>[0.22058956, 0.33088437, 2.20589566]</code>. How can I do it?</p><br>\"\n",
    "    __ORIGINAL_LINK = \"https://stackoverflow.com/questions/24988448/how-to-draw-vertical-lines-on-a-given-plot\"\n",
    "\n",
    "    def answer():\n",
    "        raise NotImplementedError\n",
    "        \n",
    "    # optional markdown solution for easier reading\n",
    "    MARKDOWN_SOLUTION = \"\"\n",
    "if __name__ == \"__main__\":\n",
    "    Post.answer()"
   ]
  },
  {
   "cell_type": "markdown",
   "id": "6ae58faf",
   "metadata": {},
   "source": [
    "### 78: Converting between datetime, Timestamp and datetime64\n",
    "---"
   ]
  },
  {
   "cell_type": "markdown",
   "id": "b08d1f22",
   "metadata": {},
   "source": [
    "<p>How do I convert a <code>numpy.datetime64</code> object to a <code>datetime.datetime</code> (or <code>Timestamp</code>)?</p><br><br><p>In the following code, I create a datetime, timestamp and datetime64 objects.</p><br><br><pre><code>import datetime<br>import numpy as np<br>import pandas as pd<br>dt = datetime.datetime(2012, 5, 1)<br># A strange way to extract a Timestamp object, theres surely a better way?<br>ts = pd.DatetimeIndex([dt])[0]<br>dt64 = np.datetime64(dt)<br><br>In [7]: dt<br>Out[7]: datetime.datetime(2012, 5, 1, 0, 0)<br><br>In [8]: ts<br>Out[8]: &lt;Timestamp: 2012-05-01 00:00:00&gt;<br><br>In [9]: dt64<br>Out[9]: numpy.datetime64(2012-05-01T01:00:00.000000+0100)<br></code></pre><br><br><p><em>Note: its easy to get the datetime from the Timestamp:</em></p><br><br><pre><code>In [10]: ts.to_datetime()<br>Out[10]: datetime.datetime(2012, 5, 1, 0, 0)<br></code></pre><br><br><p>But how do we extract the <code>datetime</code> or <code>Timestamp</code> from a <code>numpy.datetime64</code> (<code>dt64</code>)?</p><br><br><p>.</p><br><br><p>Update: a somewhat nasty example in my dataset (perhaps the motivating example) seems to be:</p><br><br><pre><code>dt64 = numpy.datetime64(2002-06-28T01:00:00.000000000+0100)<br></code></pre><br><br><p>which should be <code>datetime.datetime(2002, 6, 28, 1, 0)</code>, and not a long (!) (<code>1025222400000000000L</code>)...</p><br>"
   ]
  },
  {
   "cell_type": "code",
   "execution_count": null,
   "id": "2b19a46e",
   "metadata": {},
   "outputs": [],
   "source": [
    "class Post:\n",
    "    # Please do not modify these unless it is very intentional\n",
    "    __TAGS = ['python', 'datetime', 'numpy', 'pandas']\n",
    "    __TITLE = \"Converting between datetime, Timestamp and datetime64\"\n",
    "    __QUESTION = \"<p>How do I convert a <code>numpy.datetime64</code> object to a <code>datetime.datetime</code> (or <code>Timestamp</code>)?</p><br><br><p>In the following code, I create a datetime, timestamp and datetime64 objects.</p><br><br><pre><code>import datetime<br>import numpy as np<br>import pandas as pd<br>dt = datetime.datetime(2012, 5, 1)<br># A strange way to extract a Timestamp object, theres surely a better way?<br>ts = pd.DatetimeIndex([dt])[0]<br>dt64 = np.datetime64(dt)<br><br>In [7]: dt<br>Out[7]: datetime.datetime(2012, 5, 1, 0, 0)<br><br>In [8]: ts<br>Out[8]: &lt;Timestamp: 2012-05-01 00:00:00&gt;<br><br>In [9]: dt64<br>Out[9]: numpy.datetime64(2012-05-01T01:00:00.000000+0100)<br></code></pre><br><br><p><em>Note: its easy to get the datetime from the Timestamp:</em></p><br><br><pre><code>In [10]: ts.to_datetime()<br>Out[10]: datetime.datetime(2012, 5, 1, 0, 0)<br></code></pre><br><br><p>But how do we extract the <code>datetime</code> or <code>Timestamp</code> from a <code>numpy.datetime64</code> (<code>dt64</code>)?</p><br><br><p>.</p><br><br><p>Update: a somewhat nasty example in my dataset (perhaps the motivating example) seems to be:</p><br><br><pre><code>dt64 = numpy.datetime64(2002-06-28T01:00:00.000000000+0100)<br></code></pre><br><br><p>which should be <code>datetime.datetime(2002, 6, 28, 1, 0)</code>, and not a long (!) (<code>1025222400000000000L</code>)...</p><br>\"\n",
    "    __ORIGINAL_LINK = \"https://stackoverflow.com/questions/13703720/converting-between-datetime-timestamp-and-datetime64\"\n",
    "\n",
    "    def answer():\n",
    "        raise NotImplementedError\n",
    "        \n",
    "    # optional markdown solution for easier reading\n",
    "    MARKDOWN_SOLUTION = \"\"\n",
    "if __name__ == \"__main__\":\n",
    "    Post.answer()"
   ]
  },
  {
   "cell_type": "markdown",
   "id": "d0457d33",
   "metadata": {},
   "source": [
    "### 79: Normalize columns of pandas data frame\n",
    "---"
   ]
  },
  {
   "cell_type": "markdown",
   "id": "7b44c029",
   "metadata": {},
   "source": [
    "<p>I have a dataframe in pandas where each column has different value range. For example:</p><br><br><p>df:</p><br><br><pre><code>A     B   C<br>1000  10  0.5<br>765   5   0.35<br>800   7   0.09<br></code></pre><br><br><p>Any idea how I can normalize the columns of this dataframe where each value is between 0 and 1?</p><br><br><p>My desired output is:</p><br><br><pre><code>A     B    C<br>1     1    1<br>0.765 0.5  0.7<br>0.8   0.7  0.18(which is 0.09/0.5)<br></code></pre><br>"
   ]
  },
  {
   "cell_type": "code",
   "execution_count": null,
   "id": "2a0fd59c",
   "metadata": {},
   "outputs": [],
   "source": [
    "class Post:\n",
    "    # Please do not modify these unless it is very intentional\n",
    "    __TAGS = ['python', 'pandas', 'dataframe', 'normalize']\n",
    "    __TITLE = \"Normalize columns of pandas data frame\"\n",
    "    __QUESTION = \"<p>I have a dataframe in pandas where each column has different value range. For example:</p><br><br><p>df:</p><br><br><pre><code>A     B   C<br>1000  10  0.5<br>765   5   0.35<br>800   7   0.09<br></code></pre><br><br><p>Any idea how I can normalize the columns of this dataframe where each value is between 0 and 1?</p><br><br><p>My desired output is:</p><br><br><pre><code>A     B    C<br>1     1    1<br>0.765 0.5  0.7<br>0.8   0.7  0.18(which is 0.09/0.5)<br></code></pre><br>\"\n",
    "    __ORIGINAL_LINK = \"https://stackoverflow.com/questions/26414913/normalize-columns-of-pandas-data-frame\"\n",
    "\n",
    "    def answer():\n",
    "        raise NotImplementedError\n",
    "        \n",
    "    # optional markdown solution for easier reading\n",
    "    MARKDOWN_SOLUTION = \"\"\n",
    "if __name__ == \"__main__\":\n",
    "    Post.answer()"
   ]
  },
  {
   "cell_type": "markdown",
   "id": "b2f85dd1",
   "metadata": {},
   "source": [
    "### 80: pandas: filter rows of DataFrame with operator chaining\n",
    "---"
   ]
  },
  {
   "cell_type": "markdown",
   "id": "42601b98",
   "metadata": {},
   "source": [
    "<p>Most operations in <code>pandas</code> can be accomplished with operator chaining (<code>groupby</code>, <code>aggregate</code>, <code>apply</code>, etc), but the only way Ive found to filter rows is via normal bracket indexing</p><br><br><pre><code>df_filtered = df[df[column] == value]<br></code></pre><br><br><p>This is unappealing as it requires I assign <code>df</code> to a variable before being able to filter on its values.  Is there something more like the following?</p><br><br><pre><code>df_filtered = df.mask(lambda x: x[column] == value)<br></code></pre><br>"
   ]
  },
  {
   "cell_type": "code",
   "execution_count": null,
   "id": "108ddc00",
   "metadata": {},
   "outputs": [],
   "source": [
    "class Post:\n",
    "    # Please do not modify these unless it is very intentional\n",
    "    __TAGS = ['python', 'pandas', 'dataframe']\n",
    "    __TITLE = \"pandas: filter rows of DataFrame with operator chaining\"\n",
    "    __QUESTION = \"<p>Most operations in <code>pandas</code> can be accomplished with operator chaining (<code>groupby</code>, <code>aggregate</code>, <code>apply</code>, etc), but the only way Ive found to filter rows is via normal bracket indexing</p><br><br><pre><code>df_filtered = df[df[column] == value]<br></code></pre><br><br><p>This is unappealing as it requires I assign <code>df</code> to a variable before being able to filter on its values.  Is there something more like the following?</p><br><br><pre><code>df_filtered = df.mask(lambda x: x[column] == value)<br></code></pre><br>\"\n",
    "    __ORIGINAL_LINK = \"https://stackoverflow.com/questions/11869910/pandas-filter-rows-of-dataframe-with-operator-chaining\"\n",
    "\n",
    "    def answer():\n",
    "        raise NotImplementedError\n",
    "        \n",
    "    # optional markdown solution for easier reading\n",
    "    MARKDOWN_SOLUTION = \"\"\n",
    "if __name__ == \"__main__\":\n",
    "    Post.answer()"
   ]
  },
  {
   "cell_type": "markdown",
   "id": "67b32e5f",
   "metadata": {},
   "source": [
    "### 81: Get the row(s) which have the max value in groups using groupby\n",
    "---"
   ]
  },
  {
   "cell_type": "markdown",
   "id": "4fd7b138",
   "metadata": {},
   "source": [
    "<p>How do I find all rows in a pandas DataFrame which have the max value for <code>count</code> column, after grouping by <code>[Sp,Mt]</code> columns?</p><br><p><strong>Example 1:</strong> the following DataFrame, which I group by <code>[Sp,Mt]</code>:</p><br><pre><code>   Sp   Mt Value   count<br>0  MM1  S1   a     **3**<br>1  MM1  S1   n       2<br>2  MM1  S3   cb    **5**<br>3  MM2  S3   mk    **8**<br>4  MM2  S4   bg    **10**<br>5  MM2  S4   dgd     1<br>6  MM4  S2   rd      2<br>7  MM4  S2   cb      2<br>8  MM4  S2   uyi   **7**<br></code></pre><br><p>Expected output: get the result rows whose count is max in each group, like:</p><br><pre><code>0  MM1  S1   a      **3**<br>2  MM1  S3   cb     **5**<br>3  MM2  S3   mk     **8**<br>4  MM2  S4   bg     **10** <br>8  MM4  S2   uyi    **7**<br></code></pre><br><p><strong>Example 2:</strong> this DataFrame, which I group by <code>[Sp,Mt]</code>:</p><br><pre><code>   Sp   Mt   Value  count<br>4  MM2  S4   bg     10<br>5  MM2  S4   dgd    1<br>6  MM4  S2   rd     2<br>7  MM4  S2   cb     8<br>8  MM4  S2   uyi    8<br></code></pre><br><p>For the above example, I want to get <strong>all</strong> the rows where <code>count</code> equals max, in each group e.g:</p><br><pre><code>MM2  S4   bg     10<br>MM4  S2   cb     8<br>MM4  S2   uyi    8<br></code></pre><br>"
   ]
  },
  {
   "cell_type": "code",
   "execution_count": null,
   "id": "086c4161",
   "metadata": {},
   "outputs": [],
   "source": [
    "class Post:\n",
    "    # Please do not modify these unless it is very intentional\n",
    "    __TAGS = ['python', 'pandas', 'max', 'pandas-groupby']\n",
    "    __TITLE = \"Get the row(s) which have the max value in groups using groupby\"\n",
    "    __QUESTION = \"<p>How do I find all rows in a pandas DataFrame which have the max value for <code>count</code> column, after grouping by <code>[Sp,Mt]</code> columns?</p><br><p><strong>Example 1:</strong> the following DataFrame, which I group by <code>[Sp,Mt]</code>:</p><br><pre><code>   Sp   Mt Value   count<br>0  MM1  S1   a     **3**<br>1  MM1  S1   n       2<br>2  MM1  S3   cb    **5**<br>3  MM2  S3   mk    **8**<br>4  MM2  S4   bg    **10**<br>5  MM2  S4   dgd     1<br>6  MM4  S2   rd      2<br>7  MM4  S2   cb      2<br>8  MM4  S2   uyi   **7**<br></code></pre><br><p>Expected output: get the result rows whose count is max in each group, like:</p><br><pre><code>0  MM1  S1   a      **3**<br>2  MM1  S3   cb     **5**<br>3  MM2  S3   mk     **8**<br>4  MM2  S4   bg     **10** <br>8  MM4  S2   uyi    **7**<br></code></pre><br><p><strong>Example 2:</strong> this DataFrame, which I group by <code>[Sp,Mt]</code>:</p><br><pre><code>   Sp   Mt   Value  count<br>4  MM2  S4   bg     10<br>5  MM2  S4   dgd    1<br>6  MM4  S2   rd     2<br>7  MM4  S2   cb     8<br>8  MM4  S2   uyi    8<br></code></pre><br><p>For the above example, I want to get <strong>all</strong> the rows where <code>count</code> equals max, in each group e.g:</p><br><pre><code>MM2  S4   bg     10<br>MM4  S2   cb     8<br>MM4  S2   uyi    8<br></code></pre><br>\"\n",
    "    __ORIGINAL_LINK = \"https://stackoverflow.com/questions/15705630/get-the-rows-which-have-the-max-value-in-groups-using-groupby\"\n",
    "\n",
    "    def answer():\n",
    "        raise NotImplementedError\n",
    "        \n",
    "    # optional markdown solution for easier reading\n",
    "    MARKDOWN_SOLUTION = \"\"\n",
    "if __name__ == \"__main__\":\n",
    "    Post.answer()"
   ]
  },
  {
   "cell_type": "markdown",
   "id": "36f88dce",
   "metadata": {},
   "source": [
    "### 82: How to add pandas data to an existing csv file?\n",
    "---"
   ]
  },
  {
   "cell_type": "markdown",
   "id": "f84b387e",
   "metadata": {},
   "source": [
    "<p>I want to know if it is possible to use the pandas <code>to_csv()</code> function to add a dataframe to an existing csv file. The csv file has the same structure as the loaded data. </p><br>"
   ]
  },
  {
   "cell_type": "code",
   "execution_count": null,
   "id": "81d3bd9e",
   "metadata": {},
   "outputs": [],
   "source": [
    "class Post:\n",
    "    # Please do not modify these unless it is very intentional\n",
    "    __TAGS = ['python', 'pandas', 'csv', 'dataframe']\n",
    "    __TITLE = \"How to add pandas data to an existing csv file?\"\n",
    "    __QUESTION = \"<p>I want to know if it is possible to use the pandas <code>to_csv()</code> function to add a dataframe to an existing csv file. The csv file has the same structure as the loaded data. </p><br>\"\n",
    "    __ORIGINAL_LINK = \"https://stackoverflow.com/questions/17530542/how-to-add-pandas-data-to-an-existing-csv-file\"\n",
    "\n",
    "    def answer():\n",
    "        raise NotImplementedError\n",
    "        \n",
    "    # optional markdown solution for easier reading\n",
    "    MARKDOWN_SOLUTION = \"\"\n",
    "if __name__ == \"__main__\":\n",
    "    Post.answer()"
   ]
  },
  {
   "cell_type": "markdown",
   "id": "87bbf6da",
   "metadata": {},
   "source": [
    "### 83: Remove pandas rows with duplicate indices\n",
    "---"
   ]
  },
  {
   "cell_type": "markdown",
   "id": "4c01bb03",
   "metadata": {},
   "source": [
    "<p>How to remove rows with duplicate index values?</p><br><p>In the weather DataFrame below, sometimes a scientist goes back and corrects observations -- not by editing the erroneous rows, but by appending a duplicate row to the end of a file.</p><br><p>Im reading some automated weather data from the web (observations occur every 5 minutes, and compiled into monthly files for each weather station.) After parsing a file, the DataFrame looks like:</p><br><pre><code>                      Sta  Precip1hr  Precip5min  Temp  DewPnt  WindSpd  WindDir  AtmPress<br>Date                                                                                      <br>2001-01-01 00:00:00  KPDX          0           0     4       3        0        0     30.31<br>2001-01-01 00:05:00  KPDX          0           0     4       3        0        0     30.30<br>2001-01-01 00:10:00  KPDX          0           0     4       3        4       80     30.30<br>2001-01-01 00:15:00  KPDX          0           0     3       2        5       90     30.30<br>2001-01-01 00:20:00  KPDX          0           0     3       2       10      110     30.28<br></code></pre><br><p>Example of a duplicate case:</p><br><pre><code>import pandas <br>import datetime<br><br>startdate = datetime.datetime(2001, 1, 1, 0, 0)<br>enddate = datetime.datetime(2001, 1, 1, 5, 0)<br>index = pandas.DatetimeIndex(start=startdate, end=enddate, freq=H)<br>data1 = {A : range(6), B : range(6)}<br>data2 = {A : [20, -30, 40], B : [-50, 60, -70]}<br>df1 = pandas.DataFrame(data=data1, index=index)<br>df2 = pandas.DataFrame(data=data2, index=index[:3])<br>df3 = df2.append(df1)<br><br>df3<br>                       A   B<br>2001-01-01 00:00:00   20 -50<br>2001-01-01 01:00:00  -30  60<br>2001-01-01 02:00:00   40 -70<br>2001-01-01 03:00:00    3   3<br>2001-01-01 04:00:00    4   4<br>2001-01-01 05:00:00    5   5<br>2001-01-01 00:00:00    0   0<br>2001-01-01 01:00:00    1   1<br>2001-01-01 02:00:00    2   2<br></code></pre><br><p>And so I need <code>df3</code> to eventually become:</p><br><pre><code>                       A   B<br>2001-01-01 00:00:00    0   0<br>2001-01-01 01:00:00    1   1<br>2001-01-01 02:00:00    2   2<br>2001-01-01 03:00:00    3   3<br>2001-01-01 04:00:00    4   4<br>2001-01-01 05:00:00    5   5<br></code></pre><br><p>I thought that adding a column of row numbers (<code>df3[rownum] = range(df3.shape[0])</code>) would help me select the bottom-most row for any value of the <code>DatetimeIndex</code>, but I am stuck on figuring out the <code>group_by</code> or <code>pivot</code> (or ???) statements to make that work.</p><br>"
   ]
  },
  {
   "cell_type": "code",
   "execution_count": null,
   "id": "0b03a82f",
   "metadata": {},
   "outputs": [],
   "source": [
    "class Post:\n",
    "    # Please do not modify these unless it is very intentional\n",
    "    __TAGS = ['python', 'pandas', 'dataframe', 'duplicates']\n",
    "    __TITLE = \"Remove pandas rows with duplicate indices\"\n",
    "    __QUESTION = \"<p>How to remove rows with duplicate index values?</p><br><p>In the weather DataFrame below, sometimes a scientist goes back and corrects observations -- not by editing the erroneous rows, but by appending a duplicate row to the end of a file.</p><br><p>Im reading some automated weather data from the web (observations occur every 5 minutes, and compiled into monthly files for each weather station.) After parsing a file, the DataFrame looks like:</p><br><pre><code>                      Sta  Precip1hr  Precip5min  Temp  DewPnt  WindSpd  WindDir  AtmPress<br>Date                                                                                      <br>2001-01-01 00:00:00  KPDX          0           0     4       3        0        0     30.31<br>2001-01-01 00:05:00  KPDX          0           0     4       3        0        0     30.30<br>2001-01-01 00:10:00  KPDX          0           0     4       3        4       80     30.30<br>2001-01-01 00:15:00  KPDX          0           0     3       2        5       90     30.30<br>2001-01-01 00:20:00  KPDX          0           0     3       2       10      110     30.28<br></code></pre><br><p>Example of a duplicate case:</p><br><pre><code>import pandas <br>import datetime<br><br>startdate = datetime.datetime(2001, 1, 1, 0, 0)<br>enddate = datetime.datetime(2001, 1, 1, 5, 0)<br>index = pandas.DatetimeIndex(start=startdate, end=enddate, freq=H)<br>data1 = {A : range(6), B : range(6)}<br>data2 = {A : [20, -30, 40], B : [-50, 60, -70]}<br>df1 = pandas.DataFrame(data=data1, index=index)<br>df2 = pandas.DataFrame(data=data2, index=index[:3])<br>df3 = df2.append(df1)<br><br>df3<br>                       A   B<br>2001-01-01 00:00:00   20 -50<br>2001-01-01 01:00:00  -30  60<br>2001-01-01 02:00:00   40 -70<br>2001-01-01 03:00:00    3   3<br>2001-01-01 04:00:00    4   4<br>2001-01-01 05:00:00    5   5<br>2001-01-01 00:00:00    0   0<br>2001-01-01 01:00:00    1   1<br>2001-01-01 02:00:00    2   2<br></code></pre><br><p>And so I need <code>df3</code> to eventually become:</p><br><pre><code>                       A   B<br>2001-01-01 00:00:00    0   0<br>2001-01-01 01:00:00    1   1<br>2001-01-01 02:00:00    2   2<br>2001-01-01 03:00:00    3   3<br>2001-01-01 04:00:00    4   4<br>2001-01-01 05:00:00    5   5<br></code></pre><br><p>I thought that adding a column of row numbers (<code>df3[rownum] = range(df3.shape[0])</code>) would help me select the bottom-most row for any value of the <code>DatetimeIndex</code>, but I am stuck on figuring out the <code>group_by</code> or <code>pivot</code> (or ???) statements to make that work.</p><br>\"\n",
    "    __ORIGINAL_LINK = \"https://stackoverflow.com/questions/13035764/remove-pandas-rows-with-duplicate-indices\"\n",
    "\n",
    "    def answer():\n",
    "        raise NotImplementedError\n",
    "        \n",
    "    # optional markdown solution for easier reading\n",
    "    MARKDOWN_SOLUTION = \"\"\n",
    "if __name__ == \"__main__\":\n",
    "    Post.answer()"
   ]
  },
  {
   "cell_type": "markdown",
   "id": "2cfd177b",
   "metadata": {},
   "source": [
    "### 84: What is the most efficient way to loop through dataframes with pandas?\n",
    "---"
   ]
  },
  {
   "cell_type": "markdown",
   "id": "221ffe05",
   "metadata": {},
   "source": [
    "<p>I want to perform my own complex operations on financial data in dataframes in a sequential manner.</p><br><br><p>For example I am using the following MSFT CSV file taken from <a href=http://finance.yahoo.com/q/hp?s=MSFT>Yahoo Finance</a>:</p><br><br><pre><code>Date,Open,High,Low,Close,Volume,Adj Close<br>2011-10-19,27.37,27.47,27.01,27.13,42880000,27.13<br>2011-10-18,26.94,27.40,26.80,27.31,52487900,27.31<br>2011-10-17,27.11,27.42,26.85,26.98,39433400,26.98<br>2011-10-14,27.31,27.50,27.02,27.27,50947700,27.27<br><br>....<br></code></pre><br><br><p>I then do the following:</p><br><br><pre><code>#!/usr/bin/env python<br>from pandas import *<br><br>df = read_csv(table.csv)<br><br>for i, row in enumerate(df.values):<br>    date = df.index[i]<br>    open, high, low, close, adjclose = row<br>    #now perform analysis on open/close based on date, etc..<br></code></pre><br><br><p>Is that the most efficient way? Given the focus on speed in pandas, I would assume there must be some special function to iterate through the  values in a manner that one also retrieves the index (possibly through a generator to be memory efficient)? <code>df.iteritems</code> unfortunately only iterates column by column.</p><br>"
   ]
  },
  {
   "cell_type": "code",
   "execution_count": null,
   "id": "9c528354",
   "metadata": {},
   "outputs": [],
   "source": [
    "class Post:\n",
    "    # Please do not modify these unless it is very intentional\n",
    "    __TAGS = ['python', 'pandas', 'performance', 'dataframe', 'for-loop']\n",
    "    __TITLE = \"What is the most efficient way to loop through dataframes with pandas?\"\n",
    "    __QUESTION = \"<p>I want to perform my own complex operations on financial data in dataframes in a sequential manner.</p><br><br><p>For example I am using the following MSFT CSV file taken from <a href=http://finance.yahoo.com/q/hp?s=MSFT>Yahoo Finance</a>:</p><br><br><pre><code>Date,Open,High,Low,Close,Volume,Adj Close<br>2011-10-19,27.37,27.47,27.01,27.13,42880000,27.13<br>2011-10-18,26.94,27.40,26.80,27.31,52487900,27.31<br>2011-10-17,27.11,27.42,26.85,26.98,39433400,26.98<br>2011-10-14,27.31,27.50,27.02,27.27,50947700,27.27<br><br>....<br></code></pre><br><br><p>I then do the following:</p><br><br><pre><code>#!/usr/bin/env python<br>from pandas import *<br><br>df = read_csv(table.csv)<br><br>for i, row in enumerate(df.values):<br>    date = df.index[i]<br>    open, high, low, close, adjclose = row<br>    #now perform analysis on open/close based on date, etc..<br></code></pre><br><br><p>Is that the most efficient way? Given the focus on speed in pandas, I would assume there must be some special function to iterate through the  values in a manner that one also retrieves the index (possibly through a generator to be memory efficient)? <code>df.iteritems</code> unfortunately only iterates column by column.</p><br>\"\n",
    "    __ORIGINAL_LINK = \"https://stackoverflow.com/questions/7837722/what-is-the-most-efficient-way-to-loop-through-dataframes-with-pandas\"\n",
    "\n",
    "    def answer():\n",
    "        raise NotImplementedError\n",
    "        \n",
    "    # optional markdown solution for easier reading\n",
    "    MARKDOWN_SOLUTION = \"\"\n",
    "if __name__ == \"__main__\":\n",
    "    Post.answer()"
   ]
  },
  {
   "cell_type": "markdown",
   "id": "ad8bb619",
   "metadata": {},
   "source": [
    "### 85: Creating a Pandas DataFrame from a Numpy array: How do I specify the index column and column headers?\n",
    "---"
   ]
  },
  {
   "cell_type": "markdown",
   "id": "9b718ea4",
   "metadata": {},
   "source": [
    "<p>I have a Numpy array consisting of a list of lists, representing a two-dimensional array with row labels and column names as shown below:</p><br><br><pre><code>data = array([[,Col1,Col2],[Row1,1,2],[Row2,3,4]])<br></code></pre><br><br><p>Id like the resulting DataFrame to have Row1 and Row2 as index values, and Col1, Col2 as header values</p><br><br><p>I can specify the index as follows:</p><br><br><pre><code>df = pd.DataFrame(data,index=data[:,0]),<br></code></pre><br><br><p>however I am unsure how to best assign column headers.</p><br>"
   ]
  },
  {
   "cell_type": "code",
   "execution_count": null,
   "id": "379b2512",
   "metadata": {},
   "outputs": [],
   "source": [
    "class Post:\n",
    "    # Please do not modify these unless it is very intentional\n",
    "    __TAGS = ['python', 'pandas', 'numpy']\n",
    "    __TITLE = \"Creating a Pandas DataFrame from a Numpy array: How do I specify the index column and column headers?\"\n",
    "    __QUESTION = \"<p>I have a Numpy array consisting of a list of lists, representing a two-dimensional array with row labels and column names as shown below:</p><br><br><pre><code>data = array([[,Col1,Col2],[Row1,1,2],[Row2,3,4]])<br></code></pre><br><br><p>Id like the resulting DataFrame to have Row1 and Row2 as index values, and Col1, Col2 as header values</p><br><br><p>I can specify the index as follows:</p><br><br><pre><code>df = pd.DataFrame(data,index=data[:,0]),<br></code></pre><br><br><p>however I am unsure how to best assign column headers.</p><br>\"\n",
    "    __ORIGINAL_LINK = \"https://stackoverflow.com/questions/20763012/creating-a-pandas-dataframe-from-a-numpy-array-how-do-i-specify-the-index-colum\"\n",
    "\n",
    "    def answer():\n",
    "        raise NotImplementedError\n",
    "        \n",
    "    # optional markdown solution for easier reading\n",
    "    MARKDOWN_SOLUTION = \"\"\n",
    "if __name__ == \"__main__\":\n",
    "    Post.answer()"
   ]
  },
  {
   "cell_type": "markdown",
   "id": "bdad97cb",
   "metadata": {},
   "source": [
    "### 86: How can I display full (non-truncated) dataframe information in HTML when converting from Pandas dataframe to HTML?\n",
    "---"
   ]
  },
  {
   "cell_type": "markdown",
   "id": "216c6668",
   "metadata": {},
   "source": [
    "<p>I converted a Pandas dataframe to an HTML output using the <code>DataFrame.to_html</code> function. When I save this to a separate HTML file, the file shows truncated output.</p><br><p>For example, in my TEXT column,</p><br><p><code>df.head(1)</code> will show</p><br><p><em>The film was an excellent effort...</em></p><br><p>instead of</p><br><p><em>The film was an excellent effort in deconstructing the complex social sentiments that prevailed during this period.</em></p><br><p>This rendition is fine in the case of a screen-friendly format of a massive Pandas dataframe, but I need an HTML file that will show complete tabular data contained in the dataframe, that is, something that will show the latter text element rather than the former text snippet.</p><br><p>How would I be able to show the complete, non-truncated text data for each element in my TEXT column in the HTML version of the information? I would imagine that the HTML table would have to display long cells to show the complete data, but as far as I understand, only column-width parameters can be passed into the <code>DataFrame.to_html</code> function.</p><br>"
   ]
  },
  {
   "cell_type": "code",
   "execution_count": null,
   "id": "0614b78d",
   "metadata": {},
   "outputs": [],
   "source": [
    "class Post:\n",
    "    # Please do not modify these unless it is very intentional\n",
    "    __TAGS = ['python', 'html', 'pandas']\n",
    "    __TITLE = \"How can I display full (non-truncated) dataframe information in HTML when converting from Pandas dataframe to HTML?\"\n",
    "    __QUESTION = \"<p>I converted a Pandas dataframe to an HTML output using the <code>DataFrame.to_html</code> function. When I save this to a separate HTML file, the file shows truncated output.</p><br><p>For example, in my TEXT column,</p><br><p><code>df.head(1)</code> will show</p><br><p><em>The film was an excellent effort...</em></p><br><p>instead of</p><br><p><em>The film was an excellent effort in deconstructing the complex social sentiments that prevailed during this period.</em></p><br><p>This rendition is fine in the case of a screen-friendly format of a massive Pandas dataframe, but I need an HTML file that will show complete tabular data contained in the dataframe, that is, something that will show the latter text element rather than the former text snippet.</p><br><p>How would I be able to show the complete, non-truncated text data for each element in my TEXT column in the HTML version of the information? I would imagine that the HTML table would have to display long cells to show the complete data, but as far as I understand, only column-width parameters can be passed into the <code>DataFrame.to_html</code> function.</p><br>\"\n",
    "    __ORIGINAL_LINK = \"https://stackoverflow.com/questions/25351968/how-can-i-display-full-non-truncated-dataframe-information-in-html-when-conver\"\n",
    "\n",
    "    def answer():\n",
    "        raise NotImplementedError\n",
    "        \n",
    "    # optional markdown solution for easier reading\n",
    "    MARKDOWN_SOLUTION = \"\"\n",
    "if __name__ == \"__main__\":\n",
    "    Post.answer()"
   ]
  },
  {
   "cell_type": "markdown",
   "id": "0bd1010e",
   "metadata": {},
   "source": [
    "### 87: Pandas &#39;count(distinct)&#39; equivalent\n",
    "---"
   ]
  },
  {
   "cell_type": "markdown",
   "id": "38bd5dbb",
   "metadata": {},
   "source": [
    "<p>I am using Pandas as a database substitute as I have multiple databases (<a href=https://en.wikipedia.org/wiki/Oracle_Database rel=noreferrer>Oracle</a>, <a href=https://en.wikipedia.org/wiki/Microsoft_SQL_Server rel=noreferrer>SQL Server</a>, etc.), and I am unable to make a sequence of commands to a SQL equivalent.</p><br><p>I have a table loaded in a DataFrame with some columns:</p><br><pre><code>YEARMONTH, CLIENTCODE, SIZE, etc., etc.<br></code></pre><br><p>In SQL, to count the amount of different clients per year would be:</p><br><pre><code>SELECT count(distinct CLIENTCODE) FROM table GROUP BY YEARMONTH;<br></code></pre><br><p>And the result would be</p><br><pre><code>201301    5000<br>201302    13245<br></code></pre><br><p>How can I do that in Pandas?</p><br>"
   ]
  },
  {
   "cell_type": "code",
   "execution_count": null,
   "id": "5246ac58",
   "metadata": {},
   "outputs": [],
   "source": [
    "class Post:\n",
    "    # Please do not modify these unless it is very intentional\n",
    "    __TAGS = ['python', 'pandas', 'count', 'group-by', 'distinct']\n",
    "    __TITLE = \"Pandas &#39;count(distinct)&#39; equivalent\"\n",
    "    __QUESTION = \"<p>I am using Pandas as a database substitute as I have multiple databases (<a href=https://en.wikipedia.org/wiki/Oracle_Database rel=noreferrer>Oracle</a>, <a href=https://en.wikipedia.org/wiki/Microsoft_SQL_Server rel=noreferrer>SQL Server</a>, etc.), and I am unable to make a sequence of commands to a SQL equivalent.</p><br><p>I have a table loaded in a DataFrame with some columns:</p><br><pre><code>YEARMONTH, CLIENTCODE, SIZE, etc., etc.<br></code></pre><br><p>In SQL, to count the amount of different clients per year would be:</p><br><pre><code>SELECT count(distinct CLIENTCODE) FROM table GROUP BY YEARMONTH;<br></code></pre><br><p>And the result would be</p><br><pre><code>201301    5000<br>201302    13245<br></code></pre><br><p>How can I do that in Pandas?</p><br>\"\n",
    "    __ORIGINAL_LINK = \"https://stackoverflow.com/questions/15411158/pandas-countdistinct-equivalent\"\n",
    "\n",
    "    def answer():\n",
    "        raise NotImplementedError\n",
    "        \n",
    "    # optional markdown solution for easier reading\n",
    "    MARKDOWN_SOLUTION = \"\"\n",
    "if __name__ == \"__main__\":\n",
    "    Post.answer()"
   ]
  },
  {
   "cell_type": "markdown",
   "id": "dffe2e5c",
   "metadata": {},
   "source": [
    "### 88: What does axis in pandas mean?\n",
    "---"
   ]
  },
  {
   "cell_type": "markdown",
   "id": "010bc05e",
   "metadata": {},
   "source": [
    "<p>Here is my code to generate a dataframe:</p><br><br><pre><code>import pandas as pd<br>import numpy as np<br><br>dff = pd.DataFrame(np.random.randn(1,2),columns=list(AB))<br></code></pre><br><br><p>then I got the dataframe:</p><br><br><pre><code>+------------+---------+--------+<br>|            |  A      |  B     |<br>+------------+---------+---------<br>|      0     | 0.626386| 1.52325|<br>+------------+---------+--------+<br></code></pre><br><br><p>When I type the commmand :</p><br><br><pre><code>dff.mean(axis=1)<br></code></pre><br><br><p>I got :</p><br><br><pre><code>0    1.074821<br>dtype: float64<br></code></pre><br><br><p>According to the reference of pandas, axis=1 stands for columns and I expect the result of the command to be</p><br><br><pre><code>A    0.626386<br>B    1.523255<br>dtype: float64<br></code></pre><br><br><p>So here is my question: what does axis in pandas mean?</p><br>"
   ]
  },
  {
   "cell_type": "code",
   "execution_count": null,
   "id": "61bec077",
   "metadata": {},
   "outputs": [],
   "source": [
    "class Post:\n",
    "    # Please do not modify these unless it is very intentional\n",
    "    __TAGS = ['python', 'pandas', 'numpy', 'dataframe']\n",
    "    __TITLE = \"What does axis in pandas mean?\"\n",
    "    __QUESTION = \"<p>Here is my code to generate a dataframe:</p><br><br><pre><code>import pandas as pd<br>import numpy as np<br><br>dff = pd.DataFrame(np.random.randn(1,2),columns=list(AB))<br></code></pre><br><br><p>then I got the dataframe:</p><br><br><pre><code>+------------+---------+--------+<br>|            |  A      |  B     |<br>+------------+---------+---------<br>|      0     | 0.626386| 1.52325|<br>+------------+---------+--------+<br></code></pre><br><br><p>When I type the commmand :</p><br><br><pre><code>dff.mean(axis=1)<br></code></pre><br><br><p>I got :</p><br><br><pre><code>0    1.074821<br>dtype: float64<br></code></pre><br><br><p>According to the reference of pandas, axis=1 stands for columns and I expect the result of the command to be</p><br><br><pre><code>A    0.626386<br>B    1.523255<br>dtype: float64<br></code></pre><br><br><p>So here is my question: what does axis in pandas mean?</p><br>\"\n",
    "    __ORIGINAL_LINK = \"https://stackoverflow.com/questions/22149584/what-does-axis-in-pandas-mean\"\n",
    "\n",
    "    def answer():\n",
    "        raise NotImplementedError\n",
    "        \n",
    "    # optional markdown solution for easier reading\n",
    "    MARKDOWN_SOLUTION = \"\"\n",
    "if __name__ == \"__main__\":\n",
    "    Post.answer()"
   ]
  },
  {
   "cell_type": "markdown",
   "id": "02f69e49",
   "metadata": {},
   "source": [
    "### 89: Pandas index column title or name\n",
    "---"
   ]
  },
  {
   "cell_type": "markdown",
   "id": "ff655025",
   "metadata": {},
   "source": [
    "<p>How do I get the index column name in python pandas?  Heres an example dataframe:</p><br><br><pre><code>             Column 1<br>Index Title          <br>Apples              1<br>Oranges             2<br>Puppies             3<br>Ducks               4  <br></code></pre><br><br><p>What Im trying to do is get/set the dataframe index title.  Here is what i tried:</p><br><br><pre><code>import pandas as pd<br>data = {Column 1     : [1., 2., 3., 4.],<br>        Index Title  : [Apples, Oranges, Puppies, Ducks]}<br>df = pd.DataFrame(data)<br>df.index = df[Index Title]<br>del df[Index Title]<br>print df<br></code></pre><br><br><p>Anyone know how to do this? </p><br>"
   ]
  },
  {
   "cell_type": "code",
   "execution_count": null,
   "id": "aba08abd",
   "metadata": {},
   "outputs": [],
   "source": [
    "class Post:\n",
    "    # Please do not modify these unless it is very intentional\n",
    "    __TAGS = ['python', 'pandas', 'dataframe', 'columnname']\n",
    "    __TITLE = \"Pandas index column title or name\"\n",
    "    __QUESTION = \"<p>How do I get the index column name in python pandas?  Heres an example dataframe:</p><br><br><pre><code>             Column 1<br>Index Title          <br>Apples              1<br>Oranges             2<br>Puppies             3<br>Ducks               4  <br></code></pre><br><br><p>What Im trying to do is get/set the dataframe index title.  Here is what i tried:</p><br><br><pre><code>import pandas as pd<br>data = {Column 1     : [1., 2., 3., 4.],<br>        Index Title  : [Apples, Oranges, Puppies, Ducks]}<br>df = pd.DataFrame(data)<br>df.index = df[Index Title]<br>del df[Index Title]<br>print df<br></code></pre><br><br><p>Anyone know how to do this? </p><br>\"\n",
    "    __ORIGINAL_LINK = \"https://stackoverflow.com/questions/18022845/pandas-index-column-title-or-name\"\n",
    "\n",
    "    def answer():\n",
    "        raise NotImplementedError\n",
    "        \n",
    "    # optional markdown solution for easier reading\n",
    "    MARKDOWN_SOLUTION = \"\"\n",
    "if __name__ == \"__main__\":\n",
    "    Post.answer()"
   ]
  },
  {
   "cell_type": "markdown",
   "id": "04619ce5",
   "metadata": {},
   "source": [
    "### 90: How to invert the x or y axis\n",
    "---"
   ]
  },
  {
   "cell_type": "markdown",
   "id": "5c45d9f9",
   "metadata": {},
   "source": [
    "<p>I have a scatter plot graph with a bunch of random x, y coordinates. Currently the Y-Axis starts at 0 and goes up to the max value. I would like the Y-Axis to start at the max value and go up to 0.</p><br><br><pre><code>points = [(10,5), (5,11), (24,13), (7,8)]    <br>x_arr = []<br>y_arr = []<br>for x,y in points:<br>    x_arr.append(x)<br>    y_arr.append(y)<br>plt.scatter(x_arr,y_arr)<br></code></pre><br>"
   ]
  },
  {
   "cell_type": "code",
   "execution_count": null,
   "id": "9fe84c32",
   "metadata": {},
   "outputs": [],
   "source": [
    "class Post:\n",
    "    # Please do not modify these unless it is very intentional\n",
    "    __TAGS = ['python', 'pandas', 'matplotlib', 'seaborn']\n",
    "    __TITLE = \"How to invert the x or y axis\"\n",
    "    __QUESTION = \"<p>I have a scatter plot graph with a bunch of random x, y coordinates. Currently the Y-Axis starts at 0 and goes up to the max value. I would like the Y-Axis to start at the max value and go up to 0.</p><br><br><pre><code>points = [(10,5), (5,11), (24,13), (7,8)]    <br>x_arr = []<br>y_arr = []<br>for x,y in points:<br>    x_arr.append(x)<br>    y_arr.append(y)<br>plt.scatter(x_arr,y_arr)<br></code></pre><br>\"\n",
    "    __ORIGINAL_LINK = \"https://stackoverflow.com/questions/2051744/how-to-invert-the-x-or-y-axis\"\n",
    "\n",
    "    def answer():\n",
    "        raise NotImplementedError\n",
    "        \n",
    "    # optional markdown solution for easier reading\n",
    "    MARKDOWN_SOLUTION = \"\"\n",
    "if __name__ == \"__main__\":\n",
    "    Post.answer()"
   ]
  },
  {
   "cell_type": "markdown",
   "id": "850e1035",
   "metadata": {},
   "source": [
    "### 91: Combining two Series into a DataFrame in pandas\n",
    "---"
   ]
  },
  {
   "cell_type": "markdown",
   "id": "672ad1e3",
   "metadata": {},
   "source": [
    "<p>I have two Series <code>s1</code> and <code>s2</code> with the same (non-consecutive) indices. How do I combine <code>s1</code> and <code>s2</code> to being two columns in a DataFrame and keep one of the indices as a third column?</p><br>"
   ]
  },
  {
   "cell_type": "code",
   "execution_count": null,
   "id": "5ff182ab",
   "metadata": {},
   "outputs": [],
   "source": [
    "class Post:\n",
    "    # Please do not modify these unless it is very intentional\n",
    "    __TAGS = ['python', 'pandas', 'series', 'dataframe']\n",
    "    __TITLE = \"Combining two Series into a DataFrame in pandas\"\n",
    "    __QUESTION = \"<p>I have two Series <code>s1</code> and <code>s2</code> with the same (non-consecutive) indices. How do I combine <code>s1</code> and <code>s2</code> to being two columns in a DataFrame and keep one of the indices as a third column?</p><br>\"\n",
    "    __ORIGINAL_LINK = \"https://stackoverflow.com/questions/18062135/combining-two-series-into-a-dataframe-in-pandas\"\n",
    "\n",
    "    def answer():\n",
    "        raise NotImplementedError\n",
    "        \n",
    "    # optional markdown solution for easier reading\n",
    "    MARKDOWN_SOLUTION = \"\"\n",
    "if __name__ == \"__main__\":\n",
    "    Post.answer()"
   ]
  },
  {
   "cell_type": "markdown",
   "id": "2481689c",
   "metadata": {},
   "source": [
    "### 92: pandas get rows which are NOT in other dataframe\n",
    "---"
   ]
  },
  {
   "cell_type": "markdown",
   "id": "a8a7f183",
   "metadata": {},
   "source": [
    "<p>Ive two pandas data frames that have some rows in common.</p><br><p>Suppose dataframe2 is a subset of dataframe1.</p><br><p><strong>How can I get the rows of dataframe1 which are not in dataframe2?</strong></p><br><pre><code>df1 = pandas.DataFrame(data = {col1 : [1, 2, 3, 4, 5], col2 : [10, 11, 12, 13, 14]}) <br>df2 = pandas.DataFrame(data = {col1 : [1, 2, 3], col2 : [10, 11, 12]})<br></code></pre><br><p>df1</p><br><pre><code>   col1  col2<br>0     1    10<br>1     2    11<br>2     3    12<br>3     4    13<br>4     5    14<br></code></pre><br><p>df2</p><br><pre><code>   col1  col2<br>0     1    10<br>1     2    11<br>2     3    12<br></code></pre><br><p>Expected result:</p><br><pre><code>   col1  col2<br>3     4    13<br>4     5    14<br></code></pre><br>"
   ]
  },
  {
   "cell_type": "code",
   "execution_count": null,
   "id": "ae21a1cb",
   "metadata": {},
   "outputs": [],
   "source": [
    "class Post:\n",
    "    # Please do not modify these unless it is very intentional\n",
    "    __TAGS = ['python', 'pandas', 'dataframe']\n",
    "    __TITLE = \"pandas get rows which are NOT in other dataframe\"\n",
    "    __QUESTION = \"<p>Ive two pandas data frames that have some rows in common.</p><br><p>Suppose dataframe2 is a subset of dataframe1.</p><br><p><strong>How can I get the rows of dataframe1 which are not in dataframe2?</strong></p><br><pre><code>df1 = pandas.DataFrame(data = {col1 : [1, 2, 3, 4, 5], col2 : [10, 11, 12, 13, 14]}) <br>df2 = pandas.DataFrame(data = {col1 : [1, 2, 3], col2 : [10, 11, 12]})<br></code></pre><br><p>df1</p><br><pre><code>   col1  col2<br>0     1    10<br>1     2    11<br>2     3    12<br>3     4    13<br>4     5    14<br></code></pre><br><p>df2</p><br><pre><code>   col1  col2<br>0     1    10<br>1     2    11<br>2     3    12<br></code></pre><br><p>Expected result:</p><br><pre><code>   col1  col2<br>3     4    13<br>4     5    14<br></code></pre><br>\"\n",
    "    __ORIGINAL_LINK = \"https://stackoverflow.com/questions/28901683/pandas-get-rows-which-are-not-in-other-dataframe\"\n",
    "\n",
    "    def answer():\n",
    "        raise NotImplementedError\n",
    "        \n",
    "    # optional markdown solution for easier reading\n",
    "    MARKDOWN_SOLUTION = \"\"\n",
    "if __name__ == \"__main__\":\n",
    "    Post.answer()"
   ]
  },
  {
   "cell_type": "markdown",
   "id": "c5e52bea",
   "metadata": {},
   "source": [
    "### 93: Get column index from column name in python pandas\n",
    "---"
   ]
  },
  {
   "cell_type": "markdown",
   "id": "1eb9f360",
   "metadata": {},
   "source": [
    "<p>In R when you need to retrieve a column index based on the name of the column you could do</p><br><br><pre><code>idx &lt;- which(names(my_data)==my_colum_name)<br></code></pre><br><br><p>Is there a way to do the same with pandas dataframes?</p><br>"
   ]
  },
  {
   "cell_type": "code",
   "execution_count": null,
   "id": "9db8d769",
   "metadata": {},
   "outputs": [],
   "source": [
    "class Post:\n",
    "    # Please do not modify these unless it is very intentional\n",
    "    __TAGS = ['python', 'pandas', 'dataframe', 'indexing']\n",
    "    __TITLE = \"Get column index from column name in python pandas\"\n",
    "    __QUESTION = \"<p>In R when you need to retrieve a column index based on the name of the column you could do</p><br><br><pre><code>idx &lt;- which(names(my_data)==my_colum_name)<br></code></pre><br><br><p>Is there a way to do the same with pandas dataframes?</p><br>\"\n",
    "    __ORIGINAL_LINK = \"https://stackoverflow.com/questions/13021654/get-column-index-from-column-name-in-python-pandas\"\n",
    "\n",
    "    def answer():\n",
    "        raise NotImplementedError\n",
    "        \n",
    "    # optional markdown solution for easier reading\n",
    "    MARKDOWN_SOLUTION = \"\"\n",
    "if __name__ == \"__main__\":\n",
    "    Post.answer()"
   ]
  },
  {
   "cell_type": "markdown",
   "id": "a7dc86d6",
   "metadata": {},
   "source": [
    "### 94: Apply multiple functions to multiple groupby columns\n",
    "---"
   ]
  },
  {
   "cell_type": "markdown",
   "id": "459b772e",
   "metadata": {},
   "source": [
    "<p>The <a href=http://pandas.pydata.org/pandas-docs/dev/groupby.html#applying-multiple-functions-at-once rel=noreferrer>docs</a> show how to apply multiple functions on a groupby object at a time using a dict with the output column names as the keys:</p><br><pre><code>In [563]: grouped[D].agg({result1 : np.sum,<br>   .....:                   result2 : np.mean})<br>   .....:<br>Out[563]: <br>      result2   result1<br>A                      <br>bar -0.579846 -1.739537<br>foo -0.280588 -1.402938<br></code></pre><br><p>However, this only works on a Series groupby object. And when a dict is similarly passed to a groupby DataFrame, it expects the keys to be the column names that the function will be applied to.</p><br><p>What I want to do is apply multiple functions to several columns (but certain columns will be operated on multiple times). Also, <em>some functions will depend on other columns in the groupby object</em> (like sumif functions). My current solution is to go column by column, and doing something like the code above, using lambdas for functions that depend on other rows. But this is taking a long time, (I think it takes a long time to iterate through a groupby object). Ill have to change it so that I iterate through the whole groupby object in a single run, but Im wondering if theres a built in way in pandas to do this somewhat cleanly.</p><br><p>For example, Ive tried something like</p><br><pre><code>grouped.agg({C_sum : lambda x: x[C].sum(),<br>             C_std: lambda x: x[C].std(),<br>             D_sum : lambda x: x[D].sum()},<br>             D_sumifC3: lambda x: x[D][x[C] == 3].sum(), ...)<br></code></pre><br><p>but as expected I get a KeyError (since the keys have to be a column if <code>agg</code> is called from a DataFrame).</p><br><p>Is there any built in way to do what Id like to do, or a possibility that this functionality may be added, or will I just need to iterate through the groupby manually?</p><br>"
   ]
  },
  {
   "cell_type": "code",
   "execution_count": null,
   "id": "d0bc420d",
   "metadata": {},
   "outputs": [],
   "source": [
    "class Post:\n",
    "    # Please do not modify these unless it is very intentional\n",
    "    __TAGS = ['python', 'group-by', 'aggregate-functions', 'pandas']\n",
    "    __TITLE = \"Apply multiple functions to multiple groupby columns\"\n",
    "    __QUESTION = \"<p>The <a href=http://pandas.pydata.org/pandas-docs/dev/groupby.html#applying-multiple-functions-at-once rel=noreferrer>docs</a> show how to apply multiple functions on a groupby object at a time using a dict with the output column names as the keys:</p><br><pre><code>In [563]: grouped[D].agg({result1 : np.sum,<br>   .....:                   result2 : np.mean})<br>   .....:<br>Out[563]: <br>      result2   result1<br>A                      <br>bar -0.579846 -1.739537<br>foo -0.280588 -1.402938<br></code></pre><br><p>However, this only works on a Series groupby object. And when a dict is similarly passed to a groupby DataFrame, it expects the keys to be the column names that the function will be applied to.</p><br><p>What I want to do is apply multiple functions to several columns (but certain columns will be operated on multiple times). Also, <em>some functions will depend on other columns in the groupby object</em> (like sumif functions). My current solution is to go column by column, and doing something like the code above, using lambdas for functions that depend on other rows. But this is taking a long time, (I think it takes a long time to iterate through a groupby object). Ill have to change it so that I iterate through the whole groupby object in a single run, but Im wondering if theres a built in way in pandas to do this somewhat cleanly.</p><br><p>For example, Ive tried something like</p><br><pre><code>grouped.agg({C_sum : lambda x: x[C].sum(),<br>             C_std: lambda x: x[C].std(),<br>             D_sum : lambda x: x[D].sum()},<br>             D_sumifC3: lambda x: x[D][x[C] == 3].sum(), ...)<br></code></pre><br><p>but as expected I get a KeyError (since the keys have to be a column if <code>agg</code> is called from a DataFrame).</p><br><p>Is there any built in way to do what Id like to do, or a possibility that this functionality may be added, or will I just need to iterate through the groupby manually?</p><br>\"\n",
    "    __ORIGINAL_LINK = \"https://stackoverflow.com/questions/14529838/apply-multiple-functions-to-multiple-groupby-columns\"\n",
    "\n",
    "    def answer():\n",
    "        raise NotImplementedError\n",
    "        \n",
    "    # optional markdown solution for easier reading\n",
    "    MARKDOWN_SOLUTION = \"\"\n",
    "if __name__ == \"__main__\":\n",
    "    Post.answer()"
   ]
  },
  {
   "cell_type": "markdown",
   "id": "6d13898e",
   "metadata": {},
   "source": [
    "### 95: Pandas: drop a level from a multi-level column index?\n",
    "---"
   ]
  },
  {
   "cell_type": "markdown",
   "id": "a0922cf8",
   "metadata": {},
   "source": [
    "<p>If Ive got a multi-level column index:</p><br><br><pre><code>&gt;&gt;&gt; cols = pd.MultiIndex.from_tuples([(a, b), (a, c)])<br>&gt;&gt;&gt; pd.DataFrame([[1,2], [3,4]], columns=cols)<br></code></pre><br><br><pre><br>    a<br>   ---+--<br>    b | c<br>--+---+--<br>0 | 1 | 2<br>1 | 3 | 4<br></pre><br><br><p>How can I drop the a level of that index, so I end up with:</p><br><br><pre><br>    b | c<br>--+---+--<br>0 | 1 | 2<br>1 | 3 | 4<br></pre><br>"
   ]
  },
  {
   "cell_type": "code",
   "execution_count": null,
   "id": "8e7b05c1",
   "metadata": {},
   "outputs": [],
   "source": [
    "class Post:\n",
    "    # Please do not modify these unless it is very intentional\n",
    "    __TAGS = ['python', 'pandas']\n",
    "    __TITLE = \"Pandas: drop a level from a multi-level column index?\"\n",
    "    __QUESTION = \"<p>If Ive got a multi-level column index:</p><br><br><pre><code>&gt;&gt;&gt; cols = pd.MultiIndex.from_tuples([(a, b), (a, c)])<br>&gt;&gt;&gt; pd.DataFrame([[1,2], [3,4]], columns=cols)<br></code></pre><br><br><pre><br>    a<br>   ---+--<br>    b | c<br>--+---+--<br>0 | 1 | 2<br>1 | 3 | 4<br></pre><br><br><p>How can I drop the a level of that index, so I end up with:</p><br><br><pre><br>    b | c<br>--+---+--<br>0 | 1 | 2<br>1 | 3 | 4<br></pre><br>\"\n",
    "    __ORIGINAL_LINK = \"https://stackoverflow.com/questions/22233488/pandas-drop-a-level-from-a-multi-level-column-index\"\n",
    "\n",
    "    def answer():\n",
    "        raise NotImplementedError\n",
    "        \n",
    "    # optional markdown solution for easier reading\n",
    "    MARKDOWN_SOLUTION = \"\"\n",
    "if __name__ == \"__main__\":\n",
    "    Post.answer()"
   ]
  },
  {
   "cell_type": "markdown",
   "id": "07d1db80",
   "metadata": {},
   "source": [
    "### 96: Pandas read in table without headers\n",
    "---"
   ]
  },
  {
   "cell_type": "markdown",
   "id": "5bb09ee2",
   "metadata": {},
   "source": [
    "<p>How can I read in a .csv file (with no headers) and when I only want a subset of the columns (say 4th and 7th out of a total of 20 columns), using pandas? I cannot seem to be able to do <code>usecols</code></p><br>"
   ]
  },
  {
   "cell_type": "code",
   "execution_count": null,
   "id": "4339d582",
   "metadata": {},
   "outputs": [],
   "source": [
    "class Post:\n",
    "    # Please do not modify these unless it is very intentional\n",
    "    __TAGS = ['python', 'pandas']\n",
    "    __TITLE = \"Pandas read in table without headers\"\n",
    "    __QUESTION = \"<p>How can I read in a .csv file (with no headers) and when I only want a subset of the columns (say 4th and 7th out of a total of 20 columns), using pandas? I cannot seem to be able to do <code>usecols</code></p><br>\"\n",
    "    __ORIGINAL_LINK = \"https://stackoverflow.com/questions/29287224/pandas-read-in-table-without-headers\"\n",
    "\n",
    "    def answer():\n",
    "        raise NotImplementedError\n",
    "        \n",
    "    # optional markdown solution for easier reading\n",
    "    MARKDOWN_SOLUTION = \"\"\n",
    "if __name__ == \"__main__\":\n",
    "    Post.answer()"
   ]
  },
  {
   "cell_type": "markdown",
   "id": "3c768ad6",
   "metadata": {},
   "source": [
    "### 97: Extracting just Month and Year separately from Pandas Datetime column\n",
    "---"
   ]
  },
  {
   "cell_type": "markdown",
   "id": "e921c2fc",
   "metadata": {},
   "source": [
    "<p>I have a Dataframe, df, with the following column:</p><br><br><pre><code>df[ArrivalDate] =<br>...<br>936   2012-12-31<br>938   2012-12-29<br>965   2012-12-31<br>966   2012-12-31<br>967   2012-12-31<br>968   2012-12-31<br>969   2012-12-31<br>970   2012-12-29<br>971   2012-12-31<br>972   2012-12-29<br>973   2012-12-29<br>...<br></code></pre><br><br><p>The elements of the column are pandas.tslib.Timestamp.</p><br><br><p>I want to just include the year and month.  I thought there would be simple way to do it, but I cant figure it out.</p><br><br><p>Heres what Ive tried:</p><br><br><pre><code>df[ArrivalDate].resample(M, how = mean)<br></code></pre><br><br><p>I got the following error:</p><br><br><pre><code>Only valid with DatetimeIndex or PeriodIndex <br></code></pre><br><br><p>Then I tried:</p><br><br><pre><code>df[ArrivalDate].apply(lambda(x):x[:-2])<br></code></pre><br><br><p>I got the following error:</p><br><br><pre><code>Timestamp object has no attribute __getitem__ <br></code></pre><br><br><p>Any suggestions?</p><br><br><p>Edit: I sort of figured it out.  </p><br><br><pre><code>df.index = df[ArrivalDate]<br></code></pre><br><br><p>Then, I can resample another column using the index.</p><br><br><p>But Id still like a method for reconfiguring the entire column.  Any ideas?</p><br>"
   ]
  },
  {
   "cell_type": "code",
   "execution_count": null,
   "id": "0bc64e7e",
   "metadata": {},
   "outputs": [],
   "source": [
    "class Post:\n",
    "    # Please do not modify these unless it is very intentional\n",
    "    __TAGS = ['python', 'pandas', 'datetime']\n",
    "    __TITLE = \"Extracting just Month and Year separately from Pandas Datetime column\"\n",
    "    __QUESTION = \"<p>I have a Dataframe, df, with the following column:</p><br><br><pre><code>df[ArrivalDate] =<br>...<br>936   2012-12-31<br>938   2012-12-29<br>965   2012-12-31<br>966   2012-12-31<br>967   2012-12-31<br>968   2012-12-31<br>969   2012-12-31<br>970   2012-12-29<br>971   2012-12-31<br>972   2012-12-29<br>973   2012-12-29<br>...<br></code></pre><br><br><p>The elements of the column are pandas.tslib.Timestamp.</p><br><br><p>I want to just include the year and month.  I thought there would be simple way to do it, but I cant figure it out.</p><br><br><p>Heres what Ive tried:</p><br><br><pre><code>df[ArrivalDate].resample(M, how = mean)<br></code></pre><br><br><p>I got the following error:</p><br><br><pre><code>Only valid with DatetimeIndex or PeriodIndex <br></code></pre><br><br><p>Then I tried:</p><br><br><pre><code>df[ArrivalDate].apply(lambda(x):x[:-2])<br></code></pre><br><br><p>I got the following error:</p><br><br><pre><code>Timestamp object has no attribute __getitem__ <br></code></pre><br><br><p>Any suggestions?</p><br><br><p>Edit: I sort of figured it out.  </p><br><br><pre><code>df.index = df[ArrivalDate]<br></code></pre><br><br><p>Then, I can resample another column using the index.</p><br><br><p>But Id still like a method for reconfiguring the entire column.  Any ideas?</p><br>\"\n",
    "    __ORIGINAL_LINK = \"https://stackoverflow.com/questions/25146121/extracting-just-month-and-year-separately-from-pandas-datetime-column\"\n",
    "\n",
    "    def answer():\n",
    "        raise NotImplementedError\n",
    "        \n",
    "    # optional markdown solution for easier reading\n",
    "    MARKDOWN_SOLUTION = \"\"\n",
    "if __name__ == \"__main__\":\n",
    "    Post.answer()"
   ]
  },
  {
   "cell_type": "markdown",
   "id": "f7d47513",
   "metadata": {},
   "source": [
    "### 98: Keep only date part when using pandas.to_datetime\n",
    "---"
   ]
  },
  {
   "cell_type": "markdown",
   "id": "1fe343a0",
   "metadata": {},
   "source": [
    "<p>I use <code>pandas.to_datetime</code> to parse the dates in my data. Pandas by default represents the dates with <code>datetime64[ns]</code> even though the dates are all daily only.<br>I wonder whether there is an elegant/clever way to convert the dates to <code>datetime.date</code> or <code>datetime64[D]</code> so that, when I write the data to CSV, the dates are not appended with <code>00:00:00</code>. I know I can convert the type manually element-by-element:</p><br><br><pre><code>[dt.to_datetime().date() for dt in df.dates]<br></code></pre><br><br><p>But this is really slow since I have many rows and it sort of defeats the purpose of using <code>pandas.to_datetime</code>. Is there a way to convert the <code>dtype</code> of the entire column at once? Or alternatively, does <code>pandas.to_datetime</code> support a precision specification so that I can get rid of the time part while working with daily data?</p><br>"
   ]
  },
  {
   "cell_type": "code",
   "execution_count": null,
   "id": "b7e51991",
   "metadata": {},
   "outputs": [],
   "source": [
    "class Post:\n",
    "    # Please do not modify these unless it is very intentional\n",
    "    __TAGS = ['python', 'pandas', 'csv', 'datetime', 'series']\n",
    "    __TITLE = \"Keep only date part when using pandas.to_datetime\"\n",
    "    __QUESTION = \"<p>I use <code>pandas.to_datetime</code> to parse the dates in my data. Pandas by default represents the dates with <code>datetime64[ns]</code> even though the dates are all daily only.<br>I wonder whether there is an elegant/clever way to convert the dates to <code>datetime.date</code> or <code>datetime64[D]</code> so that, when I write the data to CSV, the dates are not appended with <code>00:00:00</code>. I know I can convert the type manually element-by-element:</p><br><br><pre><code>[dt.to_datetime().date() for dt in df.dates]<br></code></pre><br><br><p>But this is really slow since I have many rows and it sort of defeats the purpose of using <code>pandas.to_datetime</code>. Is there a way to convert the <code>dtype</code> of the entire column at once? Or alternatively, does <code>pandas.to_datetime</code> support a precision specification so that I can get rid of the time part while working with daily data?</p><br>\"\n",
    "    __ORIGINAL_LINK = \"https://stackoverflow.com/questions/16176996/keep-only-date-part-when-using-pandas-to-datetime\"\n",
    "\n",
    "    def answer():\n",
    "        raise NotImplementedError\n",
    "        \n",
    "    # optional markdown solution for easier reading\n",
    "    MARKDOWN_SOLUTION = \"\"\n",
    "if __name__ == \"__main__\":\n",
    "    Post.answer()"
   ]
  },
  {
   "cell_type": "markdown",
   "id": "77ef686d",
   "metadata": {},
   "source": [
    "### 99: How do I Pandas group-by to get sum?\n",
    "---"
   ]
  },
  {
   "cell_type": "markdown",
   "id": "f7df367b",
   "metadata": {},
   "source": [
    "<p>I am using this data frame:</p><br><pre><code>Fruit   Date      Name  Number<br>Apples  10/6/2016 Bob    7<br>Apples  10/6/2016 Bob    8<br>Apples  10/6/2016 Mike   9<br>Apples  10/7/2016 Steve 10<br>Apples  10/7/2016 Bob    1<br>Oranges 10/7/2016 Bob    2<br>Oranges 10/6/2016 Tom   15<br>Oranges 10/6/2016 Mike  57<br>Oranges 10/6/2016 Bob   65<br>Oranges 10/7/2016 Tony   1<br>Grapes  10/7/2016 Bob    1<br>Grapes  10/7/2016 Tom   87<br>Grapes  10/7/2016 Bob   22<br>Grapes  10/7/2016 Bob   12<br>Grapes  10/7/2016 Tony  15<br></code></pre><br><p>I want to aggregate this by <code>Name</code> and then by <code>Fruit</code> to get a total number of <code>Fruit</code> per <code>Name</code>. For example:</p><br><pre><code>Bob,Apples,16<br></code></pre><br><p>I tried grouping by <code>Name</code> and <code>Fruit</code> but how do I get the total number of Fruit?</p><br>"
   ]
  },
  {
   "cell_type": "code",
   "execution_count": null,
   "id": "647f0788",
   "metadata": {},
   "outputs": [],
   "source": [
    "class Post:\n",
    "    # Please do not modify these unless it is very intentional\n",
    "    __TAGS = ['python', 'pandas', 'dataframe', 'group-by', 'aggregate']\n",
    "    __TITLE = \"How do I Pandas group-by to get sum?\"\n",
    "    __QUESTION = \"<p>I am using this data frame:</p><br><pre><code>Fruit   Date      Name  Number<br>Apples  10/6/2016 Bob    7<br>Apples  10/6/2016 Bob    8<br>Apples  10/6/2016 Mike   9<br>Apples  10/7/2016 Steve 10<br>Apples  10/7/2016 Bob    1<br>Oranges 10/7/2016 Bob    2<br>Oranges 10/6/2016 Tom   15<br>Oranges 10/6/2016 Mike  57<br>Oranges 10/6/2016 Bob   65<br>Oranges 10/7/2016 Tony   1<br>Grapes  10/7/2016 Bob    1<br>Grapes  10/7/2016 Tom   87<br>Grapes  10/7/2016 Bob   22<br>Grapes  10/7/2016 Bob   12<br>Grapes  10/7/2016 Tony  15<br></code></pre><br><p>I want to aggregate this by <code>Name</code> and then by <code>Fruit</code> to get a total number of <code>Fruit</code> per <code>Name</code>. For example:</p><br><pre><code>Bob,Apples,16<br></code></pre><br><p>I tried grouping by <code>Name</code> and <code>Fruit</code> but how do I get the total number of Fruit?</p><br>\"\n",
    "    __ORIGINAL_LINK = \"https://stackoverflow.com/questions/39922986/how-do-i-pandas-group-by-to-get-sum\"\n",
    "\n",
    "    def answer():\n",
    "        raise NotImplementedError\n",
    "        \n",
    "    # optional markdown solution for easier reading\n",
    "    MARKDOWN_SOLUTION = \"\"\n",
    "if __name__ == \"__main__\":\n",
    "    Post.answer()"
   ]
  },
  {
   "cell_type": "markdown",
   "id": "fd5b2a73",
   "metadata": {},
   "source": [
    "### 100: Pandas Replace NaN with blank/empty string\n",
    "---"
   ]
  },
  {
   "cell_type": "markdown",
   "id": "5d1d8327",
   "metadata": {},
   "source": [
    "<p>I have a Pandas Dataframe as shown below:</p><br><br><pre><code>    1    2       3<br> 0  a  NaN    read<br> 1  b    l  unread<br> 2  c  NaN    read<br></code></pre><br><br><p>I want to remove the NaN values with an empty string so that it looks like so:</p><br><br><pre><code>    1    2       3<br> 0  a       read<br> 1  b    l  unread<br> 2  c       read<br></code></pre><br>"
   ]
  },
  {
   "cell_type": "code",
   "execution_count": null,
   "id": "a2d45fd9",
   "metadata": {},
   "outputs": [],
   "source": [
    "class Post:\n",
    "    # Please do not modify these unless it is very intentional\n",
    "    __TAGS = ['python', 'pandas', 'dataframe', 'nan']\n",
    "    __TITLE = \"Pandas Replace NaN with blank/empty string\"\n",
    "    __QUESTION = \"<p>I have a Pandas Dataframe as shown below:</p><br><br><pre><code>    1    2       3<br> 0  a  NaN    read<br> 1  b    l  unread<br> 2  c  NaN    read<br></code></pre><br><br><p>I want to remove the NaN values with an empty string so that it looks like so:</p><br><br><pre><code>    1    2       3<br> 0  a       read<br> 1  b    l  unread<br> 2  c       read<br></code></pre><br>\"\n",
    "    __ORIGINAL_LINK = \"https://stackoverflow.com/questions/26837998/pandas-replace-nan-with-blank-empty-string\"\n",
    "\n",
    "    def answer():\n",
    "        raise NotImplementedError\n",
    "        \n",
    "    # optional markdown solution for easier reading\n",
    "    MARKDOWN_SOLUTION = \"\"\n",
    "if __name__ == \"__main__\":\n",
    "    Post.answer()"
   ]
  }
 ],
 "metadata": {
  "kernelspec": {
   "display_name": "Python 3.10.5 ('.sfvenv': venv)",
   "language": "python",
   "name": "python3"
  },
  "language_info": {
   "codemirror_mode": {
    "name": "ipython",
    "version": 3
   },
   "file_extension": ".py",
   "mimetype": "text/x-python",
   "name": "python",
   "nbconvert_exporter": "python",
   "pygments_lexer": "ipython3",
   "version": "3.10.5"
  },
  "vscode": {
   "interpreter": {
    "hash": "886a21a9a07c9d49ae517f8872040972a069fef5b87c5358d45fb61b1a39f24a"
   }
  }
 },
 "nbformat": 4,
 "nbformat_minor": 5
}
